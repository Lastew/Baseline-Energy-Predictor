{
 "cells": [
  {
   "cell_type": "markdown",
   "metadata": {},
   "source": [
    "<h1><font color='darkblue'>Great Energy Predictor</font></h1>"
   ]
  },
  {
   "cell_type": "markdown",
   "metadata": {},
   "source": [
    "<p><strong>Forecasting building energy consumption</strong> has immense value in energy efficiency and sustainability research. Accurate energy forecasting models have numerous implications in planning and energy optimization of buildings and campuses.<p>\n",
    "\n",
    "New buildings, where past recorded is unavailable, rely on computer simulations to perform energy data analysis and forecasting future consumption. However, existing buildings with recorded energy consumption, statistical and machine learning techniques have proved to be more accurate and quick forecasting methods. \n",
    "\n",
    "This is why this machine learning capstone project cames in handy - to better forecast the baseline energy consumption based on historical data."
   ]
  },
  {
   "cell_type": "markdown",
   "metadata": {},
   "source": [
    "<h2>Table of Contents</h2>\n",
    "<div class=\"alert alert-block alert-info\" style=\"margin-top: 20px\">\n",
    "    <ul>\n",
    "        <li><a href=\"imports\">Imports</a></li>\n",
    "        <li><a href=\"dataset\">The Dataset</a></li>\n",
    "        <li><a href=\"files\">Files</a></li>\n",
    "        <li><a href=\"memory\">Reducing Memory</a></li>\n",
    "        <li><a href=\"merge\">Merging files into one Dataset</a></li>\n",
    "        <li><a href=\"eda\">Training data: Exploratory Data Analysis (EDA)</a></li>\n",
    "         <ul>\n",
    "            <li><a href=\"train\">Checking for Missing Data</a></li>\n",
    "            <li><a href=\"weather\">Checking for Missing Values in the Weather Dataset</a></li>\n",
    "            <li><a href=\"metadata\">Checking for Missing Values in the Metadata</a></li>\n",
    "        </ul>\n",
    "    </ul>\n",
    "    <p>\n",
    "        Estimated read time: <strong>17 min</strong>\n",
    "    </p>\n",
    "</div>\n",
    "\n",
    "<hr>"
   ]
  },
  {
   "cell_type": "markdown",
   "metadata": {},
   "source": [
    "<h2 id=\"imports\"><font color='darkblue'>Imports</font></h2>"
   ]
  },
  {
   "cell_type": "code",
   "execution_count": 3,
   "metadata": {},
   "outputs": [],
   "source": [
    "# Data analysis packages:\n",
    "import pandas as pd\n",
    "import numpy as np\n",
    "pd.set_option('display.float_format', lambda x: '%.3f'%x)\n",
    "\n",
    "import warnings\n",
    "\n",
    "import datetime as dt\n",
    "from IPython.display import HTML # to see everything\n",
    "warnings.filterwarnings(\"ignore\")"
   ]
  },
  {
   "cell_type": "markdown",
   "metadata": {},
   "source": [
    "import modules"
   ]
  },
  {
   "cell_type": "code",
   "execution_count": 10,
   "metadata": {},
   "outputs": [
    {
     "name": "stdout",
     "output_type": "stream",
     "text": [
      "The autoreload extension is already loaded. To reload it, use:\n",
      "  %reload_ext autoreload\n"
     ]
    }
   ],
   "source": [
    "# Visualization packages:\n",
    "import matplotlib.pyplot as plt\n",
    "%matplotlib inline\n",
    "\n",
    "# import modules\n",
    "import data_cleaning as dc\n",
    "\n",
    "%load_ext autoreload\n",
    "%autoreload 2"
   ]
  },
  {
   "cell_type": "markdown",
   "metadata": {},
   "source": [
    "<strong>Energy savings</strong> has two keys elements:\n",
    "<ul>\n",
    "    <li>Forecasting energy consumption without any improvement</li>\n",
    "    <li>Forecasting energy consumption after a certain improvement</li>\n",
    "</ul>\n",
    "This project is dedicated to predicting the baseline energy consumption for the four different energy sectors and this notebook is complimentary data cleaning and exploratory data analysis(EDA)"
   ]
  },
  {
   "cell_type": "markdown",
   "metadata": {},
   "source": [
    "<h2 id=\"dataset\"><font color='darkblue'>The Dataset</font></h2>"
   ]
  },
  {
   "cell_type": "code",
   "execution_count": 5,
   "metadata": {},
   "outputs": [
    {
     "name": "stdout",
     "output_type": "stream",
     "text": [
      "Size of training data (20216100, 4)\n",
      "Mem. size of original training data 616.95 Mb\n",
      "----------------------------------\n",
      "Size of training weather data (139773, 9)\n",
      "Mem. size of original training weather data 9.60 Mb\n",
      "----------------------------------\n",
      "Size of building meta data (1449, 6)\n",
      "Mem. size of original building meta data 0.07 Mb\n"
     ]
    }
   ],
   "source": [
    "# training data\n",
    "# %%time\n",
    "train_data = pd.read_csv(\"data/train.csv\")#, parse_dates=['timestamp'])\n",
    "train_weather = pd.read_csv(\"data/weather_train.csv\")#, parse_dates=['timestamp'])\n",
    "metadata = pd.read_csv(\"data/building_metadata.csv\")\n",
    "\n",
    "print('Size of training data', train_data.shape)\n",
    "print('Mem. size of original training data {:.2f} Mb'.format(train_data.memory_usage().sum()/1024**2))\n",
    "print('----------------------------------')\n",
    "print('Size of training weather data', train_weather.shape)\n",
    "print('Mem. size of original training weather data {:.2f} Mb'.format(train_weather.memory_usage().sum()/1024**2))\n",
    "print('----------------------------------')\n",
    "print('Size of building meta data', metadata.shape)\n",
    "print('Mem. size of original building meta data {:.2f} Mb'.format(metadata.memory_usage().sum()/1024**2))"
   ]
  },
  {
   "cell_type": "markdown",
   "metadata": {},
   "source": [
    "<h2 id=\"files\"><font color='darkblue'>Files</font></h2>\n",
    "<div class=\"dataset\">\n",
    "    train.csv\n",
    "    <ul>\n",
    "        <li><strong>building_id</strong> - Foreign key for the building metadata.</li>\n",
    "        <li><strong>meter</strong> - The meter id code. Read as {0: electricity, 1: chilled-water, 2: steam, hot water: 3}. Not every building has all meter types.</li>\n",
    "        <li><strong>timestamp</strong> - When the measurement was taken.</li>\n",
    "        <li><strong>meter_reading</strong> - The target variable. Energy consumption in kWh (or equivalent). Note that this is real data with measurement error, which we expect will impose a baseline level of modeling error. #### building_meta.csv</li>\n",
    "    </ul>\n",
    "    metadata.csv\n",
    "    <ul>\n",
    "        <li><strong>site_id</strong> - Foreign key for the weather files.</li>\n",
    "        <li><strong>building_id</strong> - Foreign key for training.csv</li>\n",
    "        <li><strong>primary_use</strong> - Indicator of the primary category of activities for the building based on EnergyStar property type definitions.</li>\n",
    "        <li><strong>square_feet</strong> - Gross floor area of the building.</li>\n",
    "        <li><strong>year_built</strong> - Year building was opened</li>\n",
    "        <li><strong>floorcount</strong> - Number of floors of the building #### weather[train/test].csv Weather data from a meteorological station as close as possible to the site.</li>\n",
    "    </ul>\n",
    "    Weather_train.csv\n",
    "    <ul>\n",
    "        <li><strong>site_id</strong> - Primary key for the weather files.</li>\n",
    "        <li><strong>air_temperature</strong> - Degrees Celsius.</li>\n",
    "        <li><strong>cloud_coverage</strong> - Portion of the sky covered in clouds, in oktas.</li>\n",
    "        <li><strong>dew_temperature</strong> - Degrees Celsius.</li>\n",
    "        <li><strong>precip_depth_1_hr</strong> - Millimeters.</li>\n",
    "        <li><strong>sea_level_pressure</strong> - Millibar/hectopascals.</li>\n",
    "        <li><strong>wind_direction</strong> - Compass direction (0-360).</li>\n",
    "        <li><strong>wind_speed</strong> - Meters per second.</li>\n",
    "    </ul>\n",
    "    \n",
    "</div>"
   ]
  },
  {
   "cell_type": "markdown",
   "metadata": {},
   "source": [
    "<h2 id=\"memory\"><font color='darkblue'>Reducing Memory</font></h2>\n",
    "as we saw above, this is a big file. Let's try to reduce dataset memory usage."
   ]
  },
  {
   "cell_type": "code",
   "execution_count": 6,
   "metadata": {},
   "outputs": [
    {
     "name": "stdout",
     "output_type": "stream",
     "text": [
      "Mem. usage decreased to 289.19 Mb (53.1% reduction)\n",
      "Mem. size of reduced training data (20216100, 4)\n",
      "----------------------------------\n",
      "Mem. usage decreased to  3.07 Mb (68.1% reduction)\n",
      "Mem. size of reduced training weather data (139773, 9)\n",
      "----------------------------------\n",
      "Mem. usage decreased to  0.03 Mb (60.3% reduction)\n",
      "Mem. size of reduced building meta data (1449, 6)\n"
     ]
    }
   ],
   "source": [
    "## Reducing memory\n",
    "train = dc.reduce_mem_usage(train_data)\n",
    "# train_df.to_csv(r'data\\train_reduced.csv')\n",
    "print('Mem. size of reduced training data', train.shape)\n",
    "print('----------------------------------')\n",
    "weather_data = dc.reduce_mem_usage(train_weather)\n",
    "# weather_train_df.to_csv(r'data\\weather_train_reduced.csv')\n",
    "print('Mem. size of reduced training weather data', weather_data.shape)\n",
    "print('----------------------------------')\n",
    "metadata = dc.reduce_mem_usage(metadata)\n",
    "# metadata_train_df.to_csv(r'data\\metadata_train_reduced.csv')\n",
    "print('Mem. size of reduced building meta data', metadata.shape)"
   ]
  },
  {
   "cell_type": "markdown",
   "metadata": {},
   "source": [
    "good. now we reduce the memory usage, let's try to merge the training data, weather information, and building metadata into one CSV file. "
   ]
  },
  {
   "cell_type": "markdown",
   "metadata": {},
   "source": [
    "<h2 id=\"merge\"><font color='darkblue'>Merging files into one Dataset</font></h2>"
   ]
  },
  {
   "cell_type": "code",
   "execution_count": 7,
   "metadata": {},
   "outputs": [
    {
     "name": "stdout",
     "output_type": "stream",
     "text": [
      "Training dataset shape: (20216100, 16)\n",
      "Mem. size of the traning dataset : 1041.10 Mb\n"
     ]
    }
   ],
   "source": [
    "import gc # import garbage collector interface\n",
    "energy_consumption_data = train.merge(metadata, on='building_id', how='left')\n",
    "energy_consumption_data = energy_consumption_data.merge(weather_data, on=['site_id', 'timestamp'], how='left')\n",
    "\n",
    "# energy_consumption_data.to_csv(r\"data/energy_consumption_data.csv\")\n",
    "print('Training dataset shape: {}'.format(energy_consumption_data.shape))\n",
    "print('Mem. size of the traning dataset : {:.2f} Mb'.format(energy_consumption_data.memory_usage().sum()/1024**2))\n",
    "\n",
    "# del metadata, weather_data\n",
    "# gc.collect();\n"
   ]
  },
  {
   "cell_type": "code",
   "execution_count": 8,
   "metadata": {},
   "outputs": [
    {
     "data": {
      "text/html": [
       "<div>\n",
       "<style scoped>\n",
       "    .dataframe tbody tr th:only-of-type {\n",
       "        vertical-align: middle;\n",
       "    }\n",
       "\n",
       "    .dataframe tbody tr th {\n",
       "        vertical-align: top;\n",
       "    }\n",
       "\n",
       "    .dataframe thead th {\n",
       "        text-align: right;\n",
       "    }\n",
       "</style>\n",
       "<table border=\"1\" class=\"dataframe\">\n",
       "  <thead>\n",
       "    <tr style=\"text-align: right;\">\n",
       "      <th></th>\n",
       "      <th>building_id</th>\n",
       "      <th>meter</th>\n",
       "      <th>timestamp</th>\n",
       "      <th>meter_reading</th>\n",
       "      <th>site_id</th>\n",
       "      <th>primary_use</th>\n",
       "      <th>square_feet</th>\n",
       "      <th>year_built</th>\n",
       "      <th>floor_count</th>\n",
       "      <th>air_temperature</th>\n",
       "      <th>cloud_coverage</th>\n",
       "      <th>dew_temperature</th>\n",
       "      <th>precip_depth_1_hr</th>\n",
       "      <th>sea_level_pressure</th>\n",
       "      <th>wind_direction</th>\n",
       "      <th>wind_speed</th>\n",
       "    </tr>\n",
       "  </thead>\n",
       "  <tbody>\n",
       "    <tr>\n",
       "      <th>0</th>\n",
       "      <td>0</td>\n",
       "      <td>0</td>\n",
       "      <td>2016-01-01 00:00:00</td>\n",
       "      <td>0.000</td>\n",
       "      <td>0</td>\n",
       "      <td>Education</td>\n",
       "      <td>7432</td>\n",
       "      <td>2008.000</td>\n",
       "      <td>nan</td>\n",
       "      <td>25.000</td>\n",
       "      <td>6.000</td>\n",
       "      <td>20.000</td>\n",
       "      <td>nan</td>\n",
       "      <td>1019.500</td>\n",
       "      <td>0.000</td>\n",
       "      <td>0.000</td>\n",
       "    </tr>\n",
       "    <tr>\n",
       "      <th>1</th>\n",
       "      <td>1</td>\n",
       "      <td>0</td>\n",
       "      <td>2016-01-01 00:00:00</td>\n",
       "      <td>0.000</td>\n",
       "      <td>0</td>\n",
       "      <td>Education</td>\n",
       "      <td>2720</td>\n",
       "      <td>2004.000</td>\n",
       "      <td>nan</td>\n",
       "      <td>25.000</td>\n",
       "      <td>6.000</td>\n",
       "      <td>20.000</td>\n",
       "      <td>nan</td>\n",
       "      <td>1019.500</td>\n",
       "      <td>0.000</td>\n",
       "      <td>0.000</td>\n",
       "    </tr>\n",
       "    <tr>\n",
       "      <th>2</th>\n",
       "      <td>2</td>\n",
       "      <td>0</td>\n",
       "      <td>2016-01-01 00:00:00</td>\n",
       "      <td>0.000</td>\n",
       "      <td>0</td>\n",
       "      <td>Education</td>\n",
       "      <td>5376</td>\n",
       "      <td>1991.000</td>\n",
       "      <td>nan</td>\n",
       "      <td>25.000</td>\n",
       "      <td>6.000</td>\n",
       "      <td>20.000</td>\n",
       "      <td>nan</td>\n",
       "      <td>1019.500</td>\n",
       "      <td>0.000</td>\n",
       "      <td>0.000</td>\n",
       "    </tr>\n",
       "    <tr>\n",
       "      <th>3</th>\n",
       "      <td>3</td>\n",
       "      <td>0</td>\n",
       "      <td>2016-01-01 00:00:00</td>\n",
       "      <td>0.000</td>\n",
       "      <td>0</td>\n",
       "      <td>Education</td>\n",
       "      <td>23685</td>\n",
       "      <td>2002.000</td>\n",
       "      <td>nan</td>\n",
       "      <td>25.000</td>\n",
       "      <td>6.000</td>\n",
       "      <td>20.000</td>\n",
       "      <td>nan</td>\n",
       "      <td>1019.500</td>\n",
       "      <td>0.000</td>\n",
       "      <td>0.000</td>\n",
       "    </tr>\n",
       "    <tr>\n",
       "      <th>4</th>\n",
       "      <td>4</td>\n",
       "      <td>0</td>\n",
       "      <td>2016-01-01 00:00:00</td>\n",
       "      <td>0.000</td>\n",
       "      <td>0</td>\n",
       "      <td>Education</td>\n",
       "      <td>116607</td>\n",
       "      <td>1975.000</td>\n",
       "      <td>nan</td>\n",
       "      <td>25.000</td>\n",
       "      <td>6.000</td>\n",
       "      <td>20.000</td>\n",
       "      <td>nan</td>\n",
       "      <td>1019.500</td>\n",
       "      <td>0.000</td>\n",
       "      <td>0.000</td>\n",
       "    </tr>\n",
       "  </tbody>\n",
       "</table>\n",
       "</div>"
      ],
      "text/plain": [
       "   building_id  meter            timestamp  meter_reading  site_id  \\\n",
       "0            0      0  2016-01-01 00:00:00          0.000        0   \n",
       "1            1      0  2016-01-01 00:00:00          0.000        0   \n",
       "2            2      0  2016-01-01 00:00:00          0.000        0   \n",
       "3            3      0  2016-01-01 00:00:00          0.000        0   \n",
       "4            4      0  2016-01-01 00:00:00          0.000        0   \n",
       "\n",
       "  primary_use  square_feet  year_built  floor_count  air_temperature  \\\n",
       "0   Education         7432    2008.000          nan           25.000   \n",
       "1   Education         2720    2004.000          nan           25.000   \n",
       "2   Education         5376    1991.000          nan           25.000   \n",
       "3   Education        23685    2002.000          nan           25.000   \n",
       "4   Education       116607    1975.000          nan           25.000   \n",
       "\n",
       "   cloud_coverage  dew_temperature  precip_depth_1_hr  sea_level_pressure  \\\n",
       "0           6.000           20.000                nan            1019.500   \n",
       "1           6.000           20.000                nan            1019.500   \n",
       "2           6.000           20.000                nan            1019.500   \n",
       "3           6.000           20.000                nan            1019.500   \n",
       "4           6.000           20.000                nan            1019.500   \n",
       "\n",
       "   wind_direction  wind_speed  \n",
       "0           0.000       0.000  \n",
       "1           0.000       0.000  \n",
       "2           0.000       0.000  \n",
       "3           0.000       0.000  \n",
       "4           0.000       0.000  "
      ]
     },
     "execution_count": 8,
     "metadata": {},
     "output_type": "execute_result"
    }
   ],
   "source": [
    "energy_consumption_data.head()"
   ]
  },
  {
   "cell_type": "markdown",
   "metadata": {},
   "source": [
    "check for the four unique meters "
   ]
  },
  {
   "cell_type": "code",
   "execution_count": 11,
   "metadata": {},
   "outputs": [
    {
     "data": {
      "text/html": [
       "<div>\n",
       "<style scoped>\n",
       "    .dataframe tbody tr th:only-of-type {\n",
       "        vertical-align: middle;\n",
       "    }\n",
       "\n",
       "    .dataframe tbody tr th {\n",
       "        vertical-align: top;\n",
       "    }\n",
       "\n",
       "    .dataframe thead th {\n",
       "        text-align: right;\n",
       "    }\n",
       "</style>\n",
       "<table border=\"1\" class=\"dataframe\">\n",
       "  <thead>\n",
       "    <tr style=\"text-align: right;\">\n",
       "      <th></th>\n",
       "      <th>meter_values</th>\n",
       "      <th>counts</th>\n",
       "    </tr>\n",
       "  </thead>\n",
       "  <tbody>\n",
       "    <tr>\n",
       "      <th>0</th>\n",
       "      <td>0</td>\n",
       "      <td>12060910</td>\n",
       "    </tr>\n",
       "    <tr>\n",
       "      <th>1</th>\n",
       "      <td>1</td>\n",
       "      <td>4182440</td>\n",
       "    </tr>\n",
       "    <tr>\n",
       "      <th>2</th>\n",
       "      <td>2</td>\n",
       "      <td>2708713</td>\n",
       "    </tr>\n",
       "    <tr>\n",
       "      <th>3</th>\n",
       "      <td>3</td>\n",
       "      <td>1264037</td>\n",
       "    </tr>\n",
       "  </tbody>\n",
       "</table>\n",
       "</div>"
      ],
      "text/plain": [
       "   meter_values    counts\n",
       "0             0  12060910\n",
       "1             1   4182440\n",
       "2             2   2708713\n",
       "3             3   1264037"
      ]
     },
     "execution_count": 11,
     "metadata": {},
     "output_type": "execute_result"
    }
   ],
   "source": [
    "dc.feat_value_count(train, 'meter')"
   ]
  },
  {
   "cell_type": "markdown",
   "metadata": {},
   "source": [
    "<h2 id=\"eda\"><font color='darkblue'>Training data: Exploratory Data Analysis (EDA)</font></h2>\n",
    "Exploratory Data Analysis (EDA) is an open-ended process where we calculate statistics and make figures to find trends, anomalies, patterns, or relationships within the data."
   ]
  },
  {
   "cell_type": "markdown",
   "metadata": {},
   "source": [
    "<h3 id=\"train\"><font color='darkblue'>Checking for Missing Data</font></h3>\n",
    "here we check if the training dataset has any missing values"
   ]
  },
  {
   "cell_type": "code",
   "execution_count": 12,
   "metadata": {},
   "outputs": [
    {
     "data": {
      "text/html": [
       "<div>\n",
       "<style scoped>\n",
       "    .dataframe tbody tr th:only-of-type {\n",
       "        vertical-align: middle;\n",
       "    }\n",
       "\n",
       "    .dataframe tbody tr th {\n",
       "        vertical-align: top;\n",
       "    }\n",
       "\n",
       "    .dataframe thead th {\n",
       "        text-align: right;\n",
       "    }\n",
       "</style>\n",
       "<table border=\"1\" class=\"dataframe\">\n",
       "  <thead>\n",
       "    <tr style=\"text-align: right;\">\n",
       "      <th></th>\n",
       "      <th>Total</th>\n",
       "      <th>Percent</th>\n",
       "    </tr>\n",
       "  </thead>\n",
       "  <tbody>\n",
       "    <tr>\n",
       "      <th>meter_reading</th>\n",
       "      <td>0</td>\n",
       "      <td>0.000</td>\n",
       "    </tr>\n",
       "    <tr>\n",
       "      <th>timestamp</th>\n",
       "      <td>0</td>\n",
       "      <td>0.000</td>\n",
       "    </tr>\n",
       "    <tr>\n",
       "      <th>meter</th>\n",
       "      <td>0</td>\n",
       "      <td>0.000</td>\n",
       "    </tr>\n",
       "    <tr>\n",
       "      <th>building_id</th>\n",
       "      <td>0</td>\n",
       "      <td>0.000</td>\n",
       "    </tr>\n",
       "  </tbody>\n",
       "</table>\n",
       "</div>"
      ],
      "text/plain": [
       "               Total  Percent\n",
       "meter_reading      0    0.000\n",
       "timestamp          0    0.000\n",
       "meter              0    0.000\n",
       "building_id        0    0.000"
      ]
     },
     "execution_count": 12,
     "metadata": {},
     "output_type": "execute_result"
    }
   ],
   "source": [
    "total = train.isnull().sum().sort_values(ascending=False)\n",
    "percent = (train.isnull().sum()/train.isnull().count()*100).sort_values(ascending=False)\n",
    "missing__train_data = pd.concat([total, percent], axis=1, keys=['Total', 'Percent'])\n",
    "missing__train_data"
   ]
  },
  {
   "cell_type": "markdown",
   "metadata": {},
   "source": [
    "<h3 id=\"weather\"><font color='darkblue'>Checking for Missing Values in the Weather Dataset</font></h3>\n",
    "here we check if the training weather data for any missing values"
   ]
  },
  {
   "cell_type": "code",
   "execution_count": 15,
   "metadata": {},
   "outputs": [
    {
     "data": {
      "text/html": [
       "<div>\n",
       "<style scoped>\n",
       "    .dataframe tbody tr th:only-of-type {\n",
       "        vertical-align: middle;\n",
       "    }\n",
       "\n",
       "    .dataframe tbody tr th {\n",
       "        vertical-align: top;\n",
       "    }\n",
       "\n",
       "    .dataframe thead th {\n",
       "        text-align: right;\n",
       "    }\n",
       "</style>\n",
       "<table border=\"1\" class=\"dataframe\">\n",
       "  <thead>\n",
       "    <tr style=\"text-align: right;\">\n",
       "      <th></th>\n",
       "      <th>Total</th>\n",
       "      <th>Percent</th>\n",
       "    </tr>\n",
       "  </thead>\n",
       "  <tbody>\n",
       "    <tr>\n",
       "      <th>cloud_coverage</th>\n",
       "      <td>69173</td>\n",
       "      <td>49.490</td>\n",
       "    </tr>\n",
       "    <tr>\n",
       "      <th>precip_depth_1_hr</th>\n",
       "      <td>50289</td>\n",
       "      <td>35.979</td>\n",
       "    </tr>\n",
       "    <tr>\n",
       "      <th>sea_level_pressure</th>\n",
       "      <td>10618</td>\n",
       "      <td>7.597</td>\n",
       "    </tr>\n",
       "    <tr>\n",
       "      <th>wind_direction</th>\n",
       "      <td>6268</td>\n",
       "      <td>4.484</td>\n",
       "    </tr>\n",
       "    <tr>\n",
       "      <th>wind_speed</th>\n",
       "      <td>304</td>\n",
       "      <td>0.217</td>\n",
       "    </tr>\n",
       "    <tr>\n",
       "      <th>dew_temperature</th>\n",
       "      <td>113</td>\n",
       "      <td>0.081</td>\n",
       "    </tr>\n",
       "    <tr>\n",
       "      <th>air_temperature</th>\n",
       "      <td>55</td>\n",
       "      <td>0.039</td>\n",
       "    </tr>\n",
       "    <tr>\n",
       "      <th>timestamp</th>\n",
       "      <td>0</td>\n",
       "      <td>0.000</td>\n",
       "    </tr>\n",
       "    <tr>\n",
       "      <th>site_id</th>\n",
       "      <td>0</td>\n",
       "      <td>0.000</td>\n",
       "    </tr>\n",
       "  </tbody>\n",
       "</table>\n",
       "</div>"
      ],
      "text/plain": [
       "                    Total  Percent\n",
       "cloud_coverage      69173   49.490\n",
       "precip_depth_1_hr   50289   35.979\n",
       "sea_level_pressure  10618    7.597\n",
       "wind_direction       6268    4.484\n",
       "wind_speed            304    0.217\n",
       "dew_temperature       113    0.081\n",
       "air_temperature        55    0.039\n",
       "timestamp               0    0.000\n",
       "site_id                 0    0.000"
      ]
     },
     "execution_count": 15,
     "metadata": {},
     "output_type": "execute_result"
    }
   ],
   "source": [
    "total = weather_data.isnull().sum().sort_values(ascending=False)\n",
    "percent = (weather_data.isnull().sum()/weather_data.isnull().count()*100).sort_values(ascending=False)\n",
    "missing__weather_data = pd.concat([total, percent], axis=1, keys=['Total', 'Percent'])\n",
    "missing__weather_data"
   ]
  },
  {
   "cell_type": "markdown",
   "metadata": {},
   "source": [
    "<h3 id=\"metadata\"><font color='darkblue'>Checking for Missing Values in the Metadata </font></h3>\n",
    "here we check if the training metadata has any missing values "
   ]
  },
  {
   "cell_type": "code",
   "execution_count": 16,
   "metadata": {},
   "outputs": [
    {
     "data": {
      "text/html": [
       "<div>\n",
       "<style scoped>\n",
       "    .dataframe tbody tr th:only-of-type {\n",
       "        vertical-align: middle;\n",
       "    }\n",
       "\n",
       "    .dataframe tbody tr th {\n",
       "        vertical-align: top;\n",
       "    }\n",
       "\n",
       "    .dataframe thead th {\n",
       "        text-align: right;\n",
       "    }\n",
       "</style>\n",
       "<table border=\"1\" class=\"dataframe\">\n",
       "  <thead>\n",
       "    <tr style=\"text-align: right;\">\n",
       "      <th></th>\n",
       "      <th>Total</th>\n",
       "      <th>Percent</th>\n",
       "    </tr>\n",
       "  </thead>\n",
       "  <tbody>\n",
       "    <tr>\n",
       "      <th>floor_count</th>\n",
       "      <td>1094</td>\n",
       "      <td>75.500</td>\n",
       "    </tr>\n",
       "    <tr>\n",
       "      <th>year_built</th>\n",
       "      <td>774</td>\n",
       "      <td>53.416</td>\n",
       "    </tr>\n",
       "    <tr>\n",
       "      <th>square_feet</th>\n",
       "      <td>0</td>\n",
       "      <td>0.000</td>\n",
       "    </tr>\n",
       "    <tr>\n",
       "      <th>primary_use</th>\n",
       "      <td>0</td>\n",
       "      <td>0.000</td>\n",
       "    </tr>\n",
       "    <tr>\n",
       "      <th>building_id</th>\n",
       "      <td>0</td>\n",
       "      <td>0.000</td>\n",
       "    </tr>\n",
       "    <tr>\n",
       "      <th>site_id</th>\n",
       "      <td>0</td>\n",
       "      <td>0.000</td>\n",
       "    </tr>\n",
       "  </tbody>\n",
       "</table>\n",
       "</div>"
      ],
      "text/plain": [
       "             Total  Percent\n",
       "floor_count   1094   75.500\n",
       "year_built     774   53.416\n",
       "square_feet      0    0.000\n",
       "primary_use      0    0.000\n",
       "building_id      0    0.000\n",
       "site_id          0    0.000"
      ]
     },
     "execution_count": 16,
     "metadata": {},
     "output_type": "execute_result"
    }
   ],
   "source": [
    "total = metadata.isnull().sum().sort_values(ascending=False)\n",
    "percent = (metadata.isnull().sum()/metadata.isnull().count()*100).sort_values(ascending=False)\n",
    "missing__metadata_data = pd.concat([total, percent], axis=1, keys=['Total', 'Percent'])\n",
    "missing__metadata_data"
   ]
  },
  {
   "cell_type": "code",
   "execution_count": null,
   "metadata": {},
   "outputs": [],
   "source": [
    "tsplot(y=)"
   ]
  }
 ],
 "metadata": {
  "kernelspec": {
   "display_name": "Python 3",
   "language": "python",
   "name": "python3"
  },
  "language_info": {
   "codemirror_mode": {
    "name": "ipython",
    "version": 3
   },
   "file_extension": ".py",
   "mimetype": "text/x-python",
   "name": "python",
   "nbconvert_exporter": "python",
   "pygments_lexer": "ipython3",
   "version": "3.5.3"
  },
  "toc": {
   "base_numbering": 1,
   "nav_menu": {},
   "number_sections": true,
   "sideBar": true,
   "skip_h1_title": false,
   "title_cell": "Table of Contents",
   "title_sidebar": "Contents",
   "toc_cell": false,
   "toc_position": {},
   "toc_section_display": true,
   "toc_window_display": false
  }
 },
 "nbformat": 4,
 "nbformat_minor": 4
}
