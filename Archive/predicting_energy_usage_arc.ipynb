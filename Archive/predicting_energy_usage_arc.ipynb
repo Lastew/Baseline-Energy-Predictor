{
 "cells": [
  {
   "cell_type": "code",
   "execution_count": null,
   "metadata": {
    "ExecuteTime": {
     "end_time": "2019-12-30T18:12:27.780876Z",
     "start_time": "2019-12-30T18:12:27.370736Z"
    }
   },
   "outputs": [
    {
     "name": "stdout",
     "output_type": "stream",
     "text": [
      "The autoreload extension is already loaded. To reload it, use:\n",
      "  %reload_ext autoreload\n"
     ]
    }
   ],
   "source": [
    "# Data analysis packages:\n",
    "import pandas as pd\n",
    "import numpy as np\n",
    "pd.set_option('display.float_format', lambda x: '%.3f'%x)\n",
    "#from datetime import datetime as dt\n",
    "\n",
    "# Visualization packages:\n",
    "import seaborn as sns\n",
    "import matplotlib.pyplot as plt\n",
    "import matplotlib.patches as patches\n",
    "\n",
    "# import plotly.graph_objs as go \n",
    "%matplotlib inline\n",
    "\n",
    "# Import all necessary libraries.\n",
    "\n",
    "import warnings\n",
    "# import plots as p\n",
    "import helper_functions as f\n",
    "# import data_testing as dt\n",
    "# import data_prep as dp\n",
    "\n",
    "import itertools\n",
    "import gc\n",
    "from sklearn.preprocessing import MinMaxScaler\n",
    "from sklearn.metrics import mean_squared_error\n",
    "from statsmodels.tsa.stattools import adfuller\n",
    "from statsmodels.tsa.seasonal import seasonal_decompose\n",
    "from statsmodels.graphics.gofplots import qqplot\n",
    "import statsmodels.api as sm\n",
    "from matplotlib.dates import DateFormatter\n",
    "import matplotlib.dates as mdates\n",
    "import datetime as dt\n",
    "from IPython.display import HTML # to see everything\n",
    "plt.style.use('seaborn-darkgrid')\n",
    "warnings.filterwarnings(\"ignore\")\n",
    "# matplotlib.rcParams['figure.dpi'] = 100\n",
    "\n",
    "%load_ext autoreload\n",
    "%autoreload 2"
   ]
  },
  {
   "cell_type": "code",
   "execution_count": null,
   "metadata": {
    "ExecuteTime": {
     "end_time": "2019-12-30T18:12:30.227952Z",
     "start_time": "2019-12-30T18:12:30.169830Z"
    }
   },
   "outputs": [],
   "source": [
    "import plotly.express as px\n",
    "import plotly.graph_objects as go"
   ]
  },
  {
   "cell_type": "markdown",
   "metadata": {},
   "source": [
    "Energy savings has two keys elements:\n",
    "- forecasting energy consumption without any energy saving measures \n",
    "- forecasting energy consumption after certain energy saving measures\n",
    "\n",
    "This notebook predict "
   ]
  },
  {
   "cell_type": "markdown",
   "metadata": {},
   "source": [
    "# Dataset:"
   ]
  },
  {
   "cell_type": "code",
   "execution_count": null,
   "metadata": {
    "ExecuteTime": {
     "end_time": "2019-12-30T18:12:57.111329Z",
     "start_time": "2019-12-30T18:12:32.000168Z"
    }
   },
   "outputs": [
    {
     "name": "stdout",
     "output_type": "stream",
     "text": [
      "Size of training data (1636538, 4)\n",
      "Mem. size of original training data 49.94329833984375\n",
      "----------------------------------\n",
      "Size of training weather data (139773, 9)\n",
      "Mem. size of original training weather data 9.597572326660156\n",
      "----------------------------------\n",
      "Size of building meta data (1449, 6)\n",
      "Mem. size of original building meta data 0.0664520263671875\n"
     ]
    }
   ],
   "source": [
    "# training data\n",
    "train = pd.read_csv(\"data/train.csv\", parse_dates=['timestamp'])\n",
    "weather_train = pd.read_csv(\"data/weather_train.csv\", parse_dates=['timestamp'])\n",
    "metadata = pd.read_csv(\"data/building_metadata.csv\")\n",
    "\n",
    "print('Size of training data', train.shape)\n",
    "print('Mem. size of original training data', train.memory_usage().sum()/1024**2)\n",
    "print('----------------------------------')\n",
    "print('Size of training weather data', weather_train.shape)\n",
    "print('Mem. size of original training weather data', weather_train.memory_usage().sum()/1024**2)\n",
    "print('----------------------------------')\n",
    "print('Size of building meta data', metadata.shape)\n",
    "print('Mem. size of original building meta data', metadata.memory_usage().sum()/1024**2)"
   ]
  },
  {
   "cell_type": "markdown",
   "metadata": {},
   "source": [
    "## Files\n",
    "train.csv\n",
    "> - **building_id** - Foreign key for the building metadata.\n",
    "- **meter** - The meter id code. Read as {0: electricity, 1: chilledwater, 2: steam, hotwater: 3}. Not every building has all meter types.\n",
    "- **timestamp** - When the measurement was taken\n",
    "- **meter_reading** - The target variable. Energy consumption in kWh (or equivalent). Note that this is real data with measurement error, which we expect will impose a baseline level of modeling error. #### building_meta.csv  \n",
    "\n",
    "metadata.csv\n",
    "> - **site_id** - Foreign key for the weather files.\n",
    "- **building_id** - Foreign key for training.csv\n",
    "- **primary_use** - Indicator of the primary category of activities for the building based on EnergyStar property type definitions\n",
    "- **square_feet** - Gross floor area of the building\n",
    "- **year_built** - Year building was opened\n",
    "- **floorcount** - Number of floors of the building #### weather[train/test].csv Weather data from a meteorological station as close as possible to the site.  \n",
    "\n",
    "Weather_train.csv\n",
    "> **site_id**  \n",
    "**timestamp** - When the measurement was taken  \n",
    "**air_temperature** - Degrees Celsius  \n",
    "**cloud_coverage** - Portion of the sky covered in clouds, in oktas  \n",
    "**dew_temperature** - Degrees Celsius  \n",
    "**precip_depth_1_hr** - Millimeters  \n",
    "**sea_level_pressure** - Millibar/hectopascals  \n",
    "**wind_direction** - Compass direction (0-360)  \n",
    "**wind_speed** - Meters per second"
   ]
  },
  {
   "cell_type": "markdown",
   "metadata": {},
   "source": [
    "## Reducing memory"
   ]
  },
  {
   "cell_type": "code",
   "execution_count": 7,
   "metadata": {
    "ExecuteTime": {
     "end_time": "2019-12-30T17:20:26.153098Z",
     "start_time": "2019-12-30T17:20:23.800582Z"
    }
   },
   "outputs": [
    {
     "name": "stdout",
     "output_type": "stream",
     "text": [
      "Mem. usage decreased to 289.19 Mb (53.1% reduction)\n",
      "Mem. size of reduced training data (20216100, 4)\n",
      "----------------------------------\n",
      "Mem. usage decreased to  3.07 Mb (68.1% reduction)\n",
      "Mem. size of reduced training weather data (139773, 9)\n",
      "----------------------------------\n",
      "Mem. usage decreased to  0.03 Mb (60.3% reduction)\n",
      "Mem. size of reduced building meta data (1449, 6)\n"
     ]
    }
   ],
   "source": [
    "## Reducing memory\n",
    "train_df = f.reduce_mem_usage(train)\n",
    "print('Mem. size of reduced training data', train_df.shape)\n",
    "print('----------------------------------')\n",
    "weather_train_df = f.reduce_mem_usage(weather_train)\n",
    "print('Mem. size of reduced training weather data', weather_train_df.shape)\n",
    "print('----------------------------------')\n",
    "metadata_train_df = f.reduce_mem_usage(metadata)\n",
    "print('Mem. size of reduced building meta data', metadata_train_df.shape)"
   ]
  },
  {
   "cell_type": "markdown",
   "metadata": {},
   "source": [
    "***there are 15 different site_ids***"
   ]
  },
  {
   "cell_type": "markdown",
   "metadata": {},
   "source": [
    "# Training data : Exploratory Data Analysis (EDA)\n",
    "Exploratory Data Analysis (EDA) is an open-ended process where we calculate statistics and make figures to find trends, anomalies, patterns, or relationships within the data."
   ]
  },
  {
   "cell_type": "markdown",
   "metadata": {},
   "source": [
    "# Merging into train dataset"
   ]
  },
  {
   "cell_type": "code",
   "execution_count": 15,
   "metadata": {
    "ExecuteTime": {
     "end_time": "2019-12-30T18:14:24.664302Z",
     "start_time": "2019-12-30T18:14:24.568560Z"
    }
   },
   "outputs": [
    {
     "ename": "NameError",
     "evalue": "name 'metadata_train_df' is not defined",
     "output_type": "error",
     "traceback": [
      "\u001b[0;31m---------------------------------------------------------------------------\u001b[0m",
      "\u001b[0;31mNameError\u001b[0m                                 Traceback (most recent call last)",
      "\u001b[0;32m<ipython-input-15-e5ad700c1b5c>\u001b[0m in \u001b[0;36m<module>\u001b[0;34m\u001b[0m\n\u001b[0;32m----> 1\u001b[0;31m \u001b[0mtrain_df\u001b[0m \u001b[0;34m=\u001b[0m \u001b[0mtrain_df\u001b[0m\u001b[0;34m.\u001b[0m\u001b[0mmerge\u001b[0m\u001b[0;34m(\u001b[0m\u001b[0mmetadata_train_df\u001b[0m\u001b[0;34m,\u001b[0m \u001b[0mon\u001b[0m\u001b[0;34m=\u001b[0m\u001b[0;34m'building_id'\u001b[0m\u001b[0;34m,\u001b[0m \u001b[0mhow\u001b[0m\u001b[0;34m=\u001b[0m\u001b[0;34m'left'\u001b[0m\u001b[0;34m)\u001b[0m\u001b[0;34m\u001b[0m\u001b[0;34m\u001b[0m\u001b[0m\n\u001b[0m\u001b[1;32m      2\u001b[0m \u001b[0mtrain_df\u001b[0m \u001b[0;34m=\u001b[0m \u001b[0mtrain_df\u001b[0m\u001b[0;34m.\u001b[0m\u001b[0mmerge\u001b[0m\u001b[0;34m(\u001b[0m\u001b[0mweather_train_df\u001b[0m\u001b[0;34m,\u001b[0m \u001b[0mon\u001b[0m\u001b[0;34m=\u001b[0m\u001b[0;34m[\u001b[0m\u001b[0;34m'site_id'\u001b[0m\u001b[0;34m,\u001b[0m \u001b[0;34m'timestamp'\u001b[0m\u001b[0;34m]\u001b[0m\u001b[0;34m,\u001b[0m \u001b[0mhow\u001b[0m\u001b[0;34m=\u001b[0m\u001b[0;34m'left'\u001b[0m\u001b[0;34m)\u001b[0m\u001b[0;34m\u001b[0m\u001b[0;34m\u001b[0m\u001b[0m\n\u001b[1;32m      3\u001b[0m \u001b[0;34m\u001b[0m\u001b[0m\n\u001b[1;32m      4\u001b[0m \u001b[0;32mdel\u001b[0m \u001b[0mmetadata_train_df\u001b[0m\u001b[0;34m,\u001b[0m \u001b[0mweather_train_df\u001b[0m\u001b[0;34m\u001b[0m\u001b[0;34m\u001b[0m\u001b[0m\n\u001b[1;32m      5\u001b[0m \u001b[0mgc\u001b[0m\u001b[0;34m.\u001b[0m\u001b[0mcollect\u001b[0m\u001b[0;34m(\u001b[0m\u001b[0;34m)\u001b[0m\u001b[0;34m;\u001b[0m\u001b[0;34m\u001b[0m\u001b[0;34m\u001b[0m\u001b[0m\n",
      "\u001b[0;31mNameError\u001b[0m: name 'metadata_train_df' is not defined"
     ]
    }
   ],
   "source": [
    "train_df = train_df.merge(metadata_train_df, on='building_id', how='left')\n",
    "train_df = train_df.merge(weather_train_df, on=['site_id', 'timestamp'], how='left')\n",
    "\n",
    "del metadata_train_df, weather_train_df\n",
    "gc.collect();"
   ]
  },
  {
   "cell_type": "code",
   "execution_count": 16,
   "metadata": {
    "ExecuteTime": {
     "end_time": "2019-12-30T18:14:34.941450Z",
     "start_time": "2019-12-30T18:14:31.580975Z"
    }
   },
   "outputs": [
    {
     "name": "stdout",
     "output_type": "stream",
     "text": [
      "(20216100, 16)\n",
      "<class 'pandas.core.frame.DataFrame'>\n",
      "Int64Index: 20216100 entries, 0 to 20216099\n",
      "Data columns (total 16 columns):\n",
      "building_id           int16\n",
      "meter                 int8\n",
      "timestamp             datetime64[ns]\n",
      "meter_reading         float32\n",
      "site_id               int8\n",
      "primary_use           object\n",
      "square_feet           int32\n",
      "year_built            float16\n",
      "floor_count           float16\n",
      "air_temperature       float16\n",
      "cloud_coverage        float16\n",
      "dew_temperature       float16\n",
      "precip_depth_1_hr     float16\n",
      "sea_level_pressure    float16\n",
      "wind_direction        float16\n",
      "wind_speed            float16\n",
      "dtypes: datetime64[ns](1), float16(9), float32(1), int16(1), int32(1), int8(2), object(1)\n",
      "memory usage: 1.0+ GB\n"
     ]
    }
   ],
   "source": [
    "train = train_df.copy()\n",
    "print(train.shape)\n",
    "train.info()"
   ]
  },
  {
   "cell_type": "markdown",
   "metadata": {},
   "source": [
    "### Save the dataframe as csv file"
   ]
  },
  {
   "cell_type": "code",
   "execution_count": 17,
   "metadata": {
    "ExecuteTime": {
     "end_time": "2019-12-30T18:20:14.536367Z",
     "start_time": "2019-12-30T18:14:38.298207Z"
    }
   },
   "outputs": [
    {
     "ename": "KeyboardInterrupt",
     "evalue": "",
     "output_type": "error",
     "traceback": [
      "\u001b[0;31m---------------------------------------------------------------------------\u001b[0m",
      "\u001b[0;31mKeyboardInterrupt\u001b[0m                         Traceback (most recent call last)",
      "\u001b[0;32m<ipython-input-17-c434a5c834cc>\u001b[0m in \u001b[0;36m<module>\u001b[0;34m\u001b[0m\n\u001b[0;32m----> 1\u001b[0;31m \u001b[0mtrain\u001b[0m\u001b[0;34m.\u001b[0m\u001b[0mto_csv\u001b[0m\u001b[0;34m(\u001b[0m\u001b[0;34mr'data/energy_consumption_data.csv'\u001b[0m\u001b[0;34m)\u001b[0m\u001b[0;34m\u001b[0m\u001b[0;34m\u001b[0m\u001b[0m\n\u001b[0m",
      "\u001b[0;32m/anaconda3/lib/python3.7/site-packages/pandas/core/generic.py\u001b[0m in \u001b[0;36mto_csv\u001b[0;34m(self, path_or_buf, sep, na_rep, float_format, columns, header, index, index_label, mode, encoding, compression, quoting, quotechar, line_terminator, chunksize, tupleize_cols, date_format, doublequote, escapechar, decimal)\u001b[0m\n\u001b[1;32m   3018\u001b[0m                                  \u001b[0mdoublequote\u001b[0m\u001b[0;34m=\u001b[0m\u001b[0mdoublequote\u001b[0m\u001b[0;34m,\u001b[0m\u001b[0;34m\u001b[0m\u001b[0;34m\u001b[0m\u001b[0m\n\u001b[1;32m   3019\u001b[0m                                  escapechar=escapechar, decimal=decimal)\n\u001b[0;32m-> 3020\u001b[0;31m         \u001b[0mformatter\u001b[0m\u001b[0;34m.\u001b[0m\u001b[0msave\u001b[0m\u001b[0;34m(\u001b[0m\u001b[0;34m)\u001b[0m\u001b[0;34m\u001b[0m\u001b[0;34m\u001b[0m\u001b[0m\n\u001b[0m\u001b[1;32m   3021\u001b[0m \u001b[0;34m\u001b[0m\u001b[0m\n\u001b[1;32m   3022\u001b[0m         \u001b[0;32mif\u001b[0m \u001b[0mpath_or_buf\u001b[0m \u001b[0;32mis\u001b[0m \u001b[0;32mNone\u001b[0m\u001b[0;34m:\u001b[0m\u001b[0;34m\u001b[0m\u001b[0;34m\u001b[0m\u001b[0m\n",
      "\u001b[0;32m/anaconda3/lib/python3.7/site-packages/pandas/io/formats/csvs.py\u001b[0m in \u001b[0;36msave\u001b[0;34m(self)\u001b[0m\n\u001b[1;32m    170\u001b[0m                 \u001b[0mself\u001b[0m\u001b[0;34m.\u001b[0m\u001b[0mwriter\u001b[0m \u001b[0;34m=\u001b[0m \u001b[0mUnicodeWriter\u001b[0m\u001b[0;34m(\u001b[0m\u001b[0mf\u001b[0m\u001b[0;34m,\u001b[0m \u001b[0;34m**\u001b[0m\u001b[0mwriter_kwargs\u001b[0m\u001b[0;34m)\u001b[0m\u001b[0;34m\u001b[0m\u001b[0;34m\u001b[0m\u001b[0m\n\u001b[1;32m    171\u001b[0m \u001b[0;34m\u001b[0m\u001b[0m\n\u001b[0;32m--> 172\u001b[0;31m             \u001b[0mself\u001b[0m\u001b[0;34m.\u001b[0m\u001b[0m_save\u001b[0m\u001b[0;34m(\u001b[0m\u001b[0;34m)\u001b[0m\u001b[0;34m\u001b[0m\u001b[0;34m\u001b[0m\u001b[0m\n\u001b[0m\u001b[1;32m    173\u001b[0m \u001b[0;34m\u001b[0m\u001b[0m\n\u001b[1;32m    174\u001b[0m         \u001b[0;32mfinally\u001b[0m\u001b[0;34m:\u001b[0m\u001b[0;34m\u001b[0m\u001b[0;34m\u001b[0m\u001b[0m\n",
      "\u001b[0;32m/anaconda3/lib/python3.7/site-packages/pandas/io/formats/csvs.py\u001b[0m in \u001b[0;36m_save\u001b[0;34m(self)\u001b[0m\n\u001b[1;32m    286\u001b[0m                 \u001b[0;32mbreak\u001b[0m\u001b[0;34m\u001b[0m\u001b[0;34m\u001b[0m\u001b[0m\n\u001b[1;32m    287\u001b[0m \u001b[0;34m\u001b[0m\u001b[0m\n\u001b[0;32m--> 288\u001b[0;31m             \u001b[0mself\u001b[0m\u001b[0;34m.\u001b[0m\u001b[0m_save_chunk\u001b[0m\u001b[0;34m(\u001b[0m\u001b[0mstart_i\u001b[0m\u001b[0;34m,\u001b[0m \u001b[0mend_i\u001b[0m\u001b[0;34m)\u001b[0m\u001b[0;34m\u001b[0m\u001b[0;34m\u001b[0m\u001b[0m\n\u001b[0m\u001b[1;32m    289\u001b[0m \u001b[0;34m\u001b[0m\u001b[0m\n\u001b[1;32m    290\u001b[0m     \u001b[0;32mdef\u001b[0m \u001b[0m_save_chunk\u001b[0m\u001b[0;34m(\u001b[0m\u001b[0mself\u001b[0m\u001b[0;34m,\u001b[0m \u001b[0mstart_i\u001b[0m\u001b[0;34m,\u001b[0m \u001b[0mend_i\u001b[0m\u001b[0;34m)\u001b[0m\u001b[0;34m:\u001b[0m\u001b[0;34m\u001b[0m\u001b[0;34m\u001b[0m\u001b[0m\n",
      "\u001b[0;32m/anaconda3/lib/python3.7/site-packages/pandas/io/formats/csvs.py\u001b[0m in \u001b[0;36m_save_chunk\u001b[0;34m(self, start_i, end_i)\u001b[0m\n\u001b[1;32m    300\u001b[0m                                   \u001b[0mdecimal\u001b[0m\u001b[0;34m=\u001b[0m\u001b[0mself\u001b[0m\u001b[0;34m.\u001b[0m\u001b[0mdecimal\u001b[0m\u001b[0;34m,\u001b[0m\u001b[0;34m\u001b[0m\u001b[0;34m\u001b[0m\u001b[0m\n\u001b[1;32m    301\u001b[0m                                   \u001b[0mdate_format\u001b[0m\u001b[0;34m=\u001b[0m\u001b[0mself\u001b[0m\u001b[0;34m.\u001b[0m\u001b[0mdate_format\u001b[0m\u001b[0;34m,\u001b[0m\u001b[0;34m\u001b[0m\u001b[0;34m\u001b[0m\u001b[0m\n\u001b[0;32m--> 302\u001b[0;31m                                   quoting=self.quoting)\n\u001b[0m\u001b[1;32m    303\u001b[0m \u001b[0;34m\u001b[0m\u001b[0m\n\u001b[1;32m    304\u001b[0m             \u001b[0;32mfor\u001b[0m \u001b[0mcol_loc\u001b[0m\u001b[0;34m,\u001b[0m \u001b[0mcol\u001b[0m \u001b[0;32min\u001b[0m \u001b[0mzip\u001b[0m\u001b[0;34m(\u001b[0m\u001b[0mb\u001b[0m\u001b[0;34m.\u001b[0m\u001b[0mmgr_locs\u001b[0m\u001b[0;34m,\u001b[0m \u001b[0md\u001b[0m\u001b[0;34m)\u001b[0m\u001b[0;34m:\u001b[0m\u001b[0;34m\u001b[0m\u001b[0;34m\u001b[0m\u001b[0m\n",
      "\u001b[0;32m/anaconda3/lib/python3.7/site-packages/pandas/core/internals/blocks.py\u001b[0m in \u001b[0;36mto_native_types\u001b[0;34m(self, slicer, na_rep, date_format, quoting, **kwargs)\u001b[0m\n\u001b[1;32m   2209\u001b[0m \u001b[0;34m\u001b[0m\u001b[0m\n\u001b[1;32m   2210\u001b[0m         \u001b[0;32mfrom\u001b[0m \u001b[0mpandas\u001b[0m\u001b[0;34m.\u001b[0m\u001b[0mio\u001b[0m\u001b[0;34m.\u001b[0m\u001b[0mformats\u001b[0m\u001b[0;34m.\u001b[0m\u001b[0mformat\u001b[0m \u001b[0;32mimport\u001b[0m \u001b[0m_get_format_datetime64_from_values\u001b[0m\u001b[0;34m\u001b[0m\u001b[0;34m\u001b[0m\u001b[0m\n\u001b[0;32m-> 2211\u001b[0;31m         \u001b[0mfmt\u001b[0m \u001b[0;34m=\u001b[0m \u001b[0m_get_format_datetime64_from_values\u001b[0m\u001b[0;34m(\u001b[0m\u001b[0mvalues\u001b[0m\u001b[0;34m,\u001b[0m \u001b[0mdate_format\u001b[0m\u001b[0;34m)\u001b[0m\u001b[0;34m\u001b[0m\u001b[0;34m\u001b[0m\u001b[0m\n\u001b[0m\u001b[1;32m   2212\u001b[0m \u001b[0;34m\u001b[0m\u001b[0m\n\u001b[1;32m   2213\u001b[0m         result = tslib.format_array_from_datetime(\n",
      "\u001b[0;32m/anaconda3/lib/python3.7/site-packages/pandas/io/formats/format.py\u001b[0m in \u001b[0;36m_get_format_datetime64_from_values\u001b[0;34m(values, date_format)\u001b[0m\n\u001b[1;32m   1307\u001b[0m \u001b[0;32mdef\u001b[0m \u001b[0m_get_format_datetime64_from_values\u001b[0m\u001b[0;34m(\u001b[0m\u001b[0mvalues\u001b[0m\u001b[0;34m,\u001b[0m \u001b[0mdate_format\u001b[0m\u001b[0;34m)\u001b[0m\u001b[0;34m:\u001b[0m\u001b[0;34m\u001b[0m\u001b[0;34m\u001b[0m\u001b[0m\n\u001b[1;32m   1308\u001b[0m     \u001b[0;34m\"\"\" given values and a date_format, return a string format \"\"\"\u001b[0m\u001b[0;34m\u001b[0m\u001b[0;34m\u001b[0m\u001b[0m\n\u001b[0;32m-> 1309\u001b[0;31m     \u001b[0mis_dates_only\u001b[0m \u001b[0;34m=\u001b[0m \u001b[0m_is_dates_only\u001b[0m\u001b[0;34m(\u001b[0m\u001b[0mvalues\u001b[0m\u001b[0;34m)\u001b[0m\u001b[0;34m\u001b[0m\u001b[0;34m\u001b[0m\u001b[0m\n\u001b[0m\u001b[1;32m   1310\u001b[0m     \u001b[0;32mif\u001b[0m \u001b[0mis_dates_only\u001b[0m\u001b[0;34m:\u001b[0m\u001b[0;34m\u001b[0m\u001b[0;34m\u001b[0m\u001b[0m\n\u001b[1;32m   1311\u001b[0m         \u001b[0;32mreturn\u001b[0m \u001b[0mdate_format\u001b[0m \u001b[0;32mor\u001b[0m \u001b[0;34m\"%Y-%m-%d\"\u001b[0m\u001b[0;34m\u001b[0m\u001b[0;34m\u001b[0m\u001b[0m\n",
      "\u001b[0;32m/anaconda3/lib/python3.7/site-packages/pandas/io/formats/format.py\u001b[0m in \u001b[0;36m_is_dates_only\u001b[0;34m(values)\u001b[0m\n\u001b[1;32m   1264\u001b[0m     \u001b[0mone_day_nanos\u001b[0m \u001b[0;34m=\u001b[0m \u001b[0;34m(\u001b[0m\u001b[0;36m86400\u001b[0m \u001b[0;34m*\u001b[0m \u001b[0;36m1e9\u001b[0m\u001b[0;34m)\u001b[0m\u001b[0;34m\u001b[0m\u001b[0;34m\u001b[0m\u001b[0m\n\u001b[1;32m   1265\u001b[0m     even_days = np.logical_and(consider_values,\n\u001b[0;32m-> 1266\u001b[0;31m                                values_int % int(one_day_nanos) != 0).sum() == 0\n\u001b[0m\u001b[1;32m   1267\u001b[0m     \u001b[0;32mif\u001b[0m \u001b[0meven_days\u001b[0m\u001b[0;34m:\u001b[0m\u001b[0;34m\u001b[0m\u001b[0;34m\u001b[0m\u001b[0m\n\u001b[1;32m   1268\u001b[0m         \u001b[0;32mreturn\u001b[0m \u001b[0;32mTrue\u001b[0m\u001b[0;34m\u001b[0m\u001b[0;34m\u001b[0m\u001b[0m\n",
      "\u001b[0;31mKeyboardInterrupt\u001b[0m: "
     ]
    }
   ],
   "source": [
    "train.to_csv(r'data/energy_consumption_data.csv')"
   ]
  },
  {
   "cell_type": "code",
   "execution_count": 13,
   "metadata": {},
   "outputs": [],
   "source": [
    "office_1249 = train[train.building_id == 1249]\n",
    "office_1249.to_csv(r'data/office_1249.csv')"
   ]
  },
  {
   "cell_type": "code",
   "execution_count": 14,
   "metadata": {},
   "outputs": [
    {
     "data": {
      "text/html": [
       "<div>\n",
       "<style scoped>\n",
       "    .dataframe tbody tr th:only-of-type {\n",
       "        vertical-align: middle;\n",
       "    }\n",
       "\n",
       "    .dataframe tbody tr th {\n",
       "        vertical-align: top;\n",
       "    }\n",
       "\n",
       "    .dataframe thead th {\n",
       "        text-align: right;\n",
       "    }\n",
       "</style>\n",
       "<table border=\"1\" class=\"dataframe\">\n",
       "  <thead>\n",
       "    <tr style=\"text-align: right;\">\n",
       "      <th></th>\n",
       "      <th>building_id</th>\n",
       "      <th>meter</th>\n",
       "      <th>timestamp</th>\n",
       "      <th>meter_reading</th>\n",
       "      <th>site_id</th>\n",
       "      <th>primary_use</th>\n",
       "      <th>square_feet</th>\n",
       "      <th>year_built</th>\n",
       "      <th>floor_count</th>\n",
       "      <th>air_temperature</th>\n",
       "      <th>cloud_coverage</th>\n",
       "      <th>dew_temperature</th>\n",
       "      <th>precip_depth_1_hr</th>\n",
       "      <th>sea_level_pressure</th>\n",
       "      <th>wind_direction</th>\n",
       "      <th>wind_speed</th>\n",
       "    </tr>\n",
       "  </thead>\n",
       "  <tbody>\n",
       "    <tr>\n",
       "      <th>1856</th>\n",
       "      <td>1249</td>\n",
       "      <td>0</td>\n",
       "      <td>2016-01-01 00:00:00</td>\n",
       "      <td>299.000</td>\n",
       "      <td>14</td>\n",
       "      <td>Office</td>\n",
       "      <td>159384</td>\n",
       "      <td>nan</td>\n",
       "      <td>nan</td>\n",
       "      <td>nan</td>\n",
       "      <td>nan</td>\n",
       "      <td>nan</td>\n",
       "      <td>nan</td>\n",
       "      <td>nan</td>\n",
       "      <td>nan</td>\n",
       "      <td>nan</td>\n",
       "    </tr>\n",
       "    <tr>\n",
       "      <th>1857</th>\n",
       "      <td>1249</td>\n",
       "      <td>1</td>\n",
       "      <td>2016-01-01 00:00:00</td>\n",
       "      <td>695.555</td>\n",
       "      <td>14</td>\n",
       "      <td>Office</td>\n",
       "      <td>159384</td>\n",
       "      <td>nan</td>\n",
       "      <td>nan</td>\n",
       "      <td>nan</td>\n",
       "      <td>nan</td>\n",
       "      <td>nan</td>\n",
       "      <td>nan</td>\n",
       "      <td>nan</td>\n",
       "      <td>nan</td>\n",
       "      <td>nan</td>\n",
       "    </tr>\n",
       "    <tr>\n",
       "      <th>1858</th>\n",
       "      <td>1249</td>\n",
       "      <td>2</td>\n",
       "      <td>2016-01-01 00:00:00</td>\n",
       "      <td>899.640</td>\n",
       "      <td>14</td>\n",
       "      <td>Office</td>\n",
       "      <td>159384</td>\n",
       "      <td>nan</td>\n",
       "      <td>nan</td>\n",
       "      <td>nan</td>\n",
       "      <td>nan</td>\n",
       "      <td>nan</td>\n",
       "      <td>nan</td>\n",
       "      <td>nan</td>\n",
       "      <td>nan</td>\n",
       "      <td>nan</td>\n",
       "    </tr>\n",
       "    <tr>\n",
       "      <th>1859</th>\n",
       "      <td>1249</td>\n",
       "      <td>3</td>\n",
       "      <td>2016-01-01 00:00:00</td>\n",
       "      <td>840.861</td>\n",
       "      <td>14</td>\n",
       "      <td>Office</td>\n",
       "      <td>159384</td>\n",
       "      <td>nan</td>\n",
       "      <td>nan</td>\n",
       "      <td>nan</td>\n",
       "      <td>nan</td>\n",
       "      <td>nan</td>\n",
       "      <td>nan</td>\n",
       "      <td>nan</td>\n",
       "      <td>nan</td>\n",
       "      <td>nan</td>\n",
       "    </tr>\n",
       "    <tr>\n",
       "      <th>4152</th>\n",
       "      <td>1249</td>\n",
       "      <td>0</td>\n",
       "      <td>2016-01-01 01:00:00</td>\n",
       "      <td>298.000</td>\n",
       "      <td>14</td>\n",
       "      <td>Office</td>\n",
       "      <td>159384</td>\n",
       "      <td>nan</td>\n",
       "      <td>nan</td>\n",
       "      <td>5.602</td>\n",
       "      <td>0.000</td>\n",
       "      <td>-0.600</td>\n",
       "      <td>0.000</td>\n",
       "      <td>1019.500</td>\n",
       "      <td>300.000</td>\n",
       "      <td>2.600</td>\n",
       "    </tr>\n",
       "  </tbody>\n",
       "</table>\n",
       "</div>"
      ],
      "text/plain": [
       "      building_id  meter           timestamp  meter_reading  site_id  \\\n",
       "1856         1249      0 2016-01-01 00:00:00        299.000       14   \n",
       "1857         1249      1 2016-01-01 00:00:00        695.555       14   \n",
       "1858         1249      2 2016-01-01 00:00:00        899.640       14   \n",
       "1859         1249      3 2016-01-01 00:00:00        840.861       14   \n",
       "4152         1249      0 2016-01-01 01:00:00        298.000       14   \n",
       "\n",
       "     primary_use  square_feet  year_built  floor_count  air_temperature  \\\n",
       "1856      Office       159384         nan          nan              nan   \n",
       "1857      Office       159384         nan          nan              nan   \n",
       "1858      Office       159384         nan          nan              nan   \n",
       "1859      Office       159384         nan          nan              nan   \n",
       "4152      Office       159384         nan          nan            5.602   \n",
       "\n",
       "      cloud_coverage  dew_temperature  precip_depth_1_hr  sea_level_pressure  \\\n",
       "1856             nan              nan                nan                 nan   \n",
       "1857             nan              nan                nan                 nan   \n",
       "1858             nan              nan                nan                 nan   \n",
       "1859             nan              nan                nan                 nan   \n",
       "4152           0.000           -0.600              0.000            1019.500   \n",
       "\n",
       "      wind_direction  wind_speed  \n",
       "1856             nan         nan  \n",
       "1857             nan         nan  \n",
       "1858             nan         nan  \n",
       "1859             nan         nan  \n",
       "4152         300.000       2.600  "
      ]
     },
     "execution_count": 14,
     "metadata": {},
     "output_type": "execute_result"
    }
   ],
   "source": [
    "office_1249.head()"
   ]
  },
  {
   "cell_type": "code",
   "execution_count": 34,
   "metadata": {},
   "outputs": [
    {
     "data": {
      "image/png": "[encoded data removed]",
      "text/plain": [
       "<Figure size 1400x600 with 1 Axes>"
      ]
     },
     "metadata": {},
     "output_type": "display_data"
    }
   ],
   "source": [
    "# train_data = (train.count()/len(train)).drop('meter_reading').sort_values().values\n",
    "# ind = np.arange(len(train_data))\n",
    "# # width = 0.35\n",
    "\n",
    "# fig, axes = plt.subplots(1, 1, figsize=(14, 6), dpi=100)\n",
    "# axes.bar(ind, train_data, width, color='royalblue')\n",
    "# axes.set_ylabel('Amount of data available');\n",
    "# axes.set_xticks(ind, width)\n",
    "# axes.set_xticklabels((train.count()/len(train)).drop('meter_reading').sort_values().index, rotation=40)\n",
    "# axes.set_title('Training Dataset')\n",
    "# plt.show()"
   ]
  },
  {
   "cell_type": "code",
   "execution_count": 43,
   "metadata": {},
   "outputs": [
    {
     "data": {
      "image/png": "[encoded data removed]",
      "text/plain": [
       "<Figure size 1008x432 with 1 Axes>"
      ]
     },
     "metadata": {},
     "output_type": "display_data"
    }
   ],
   "source": [
    "train_data = (train.count()/len(train)).drop('meter_reading').sort_values().values\n",
    "ind = np.arange(len(train_data))\n",
    "\n",
    "fig, axes = plt.subplots(1, 1, figsize=(14, 6))\n",
    "axes.bar(ind, train_data, color='lightblue')\n",
    "axes.set_ylabel('Amount of data available');\n",
    "axes.set_xticks(ind)\n",
    "axes.set_xticklabels((train.count()/len(train)).drop('meter_reading').sort_values().index, rotation=40)\n",
    "axes.set_title('Training Dataset')\n",
    "plt.show()"
   ]
  },
  {
   "cell_type": "code",
   "execution_count": 50,
   "metadata": {},
   "outputs": [
    {
     "data": {
      "text/plain": [
       "site_id  primary_use                  \n",
       "0        Education                         345329\n",
       "         Entertainment/public assembly      43564\n",
       "         Lodging/residential               263621\n",
       "         Office                            246264\n",
       "         Other                              47654\n",
       "         Parking                            70272\n",
       "         Retail                             59958\n",
       "1        Education                         263493\n",
       "         Entertainment/public assembly       8784\n",
       "         Lodging/residential                87840\n",
       "         Office                            158109\n",
       "         Public services                    35131\n",
       "2        Education                        1261874\n",
       "         Entertainment/public assembly     324352\n",
       "         Food sales and service             43909\n",
       "         Healthcare                         17545\n",
       "         Lodging/residential               289046\n",
       "         Office                            409250\n",
       "         Parking                            26345\n",
       "         Public services                    96597\n",
       "         Religious worship                   8781\n",
       "         Retail                             17566\n",
       "         Utility                            17566\n",
       "         Warehouse/storage                  17481\n",
       "3        Education                         788160\n",
       "         Entertainment/public assembly     385920\n",
       "         Healthcare                         52621\n",
       "         Lodging/residential                96361\n",
       "         Office                            200179\n",
       "         Other                              35074\n",
       "                                           ...   \n",
       "13       Education                         509121\n",
       "         Entertainment/public assembly     140210\n",
       "         Food sales and service             17568\n",
       "         Healthcare                         78878\n",
       "         Lodging/residential               175383\n",
       "         Manufacturing/industrial           70272\n",
       "         Office                           1377800\n",
       "         Other                              35136\n",
       "         Parking                            87808\n",
       "         Public services                   122971\n",
       "         Services                           52696\n",
       "         Technology/science                  8784\n",
       "         Warehouse/storage                  35136\n",
       "14       Education                         666397\n",
       "         Entertainment/public assembly     218660\n",
       "         Food sales and service             52613\n",
       "         Healthcare                        233367\n",
       "         Lodging/residential               216220\n",
       "         Office                            930253\n",
       "         Public services                   183996\n",
       "15       Education                         686970\n",
       "         Entertainment/public assembly     226491\n",
       "         Healthcare                          7332\n",
       "         Lodging/residential               377938\n",
       "         Manufacturing/industrial           29089\n",
       "         Office                            338618\n",
       "         Public services                    81655\n",
       "         Religious worship                  14798\n",
       "         Technology/science                 22276\n",
       "         Utility                            29887\n",
       "Name: building_id, Length: 110, dtype: int64"
      ]
     },
     "execution_count": 50,
     "metadata": {},
     "output_type": "execute_result"
    }
   ],
   "source": [
    "train.groupby(['site_id', 'primary_use'])['building_id'].count()\n",
    "# train_daily = train_df.groupby(['date', 'building_id', 'meter'])[['meter_reading']].sum()"
   ]
  },
  {
   "cell_type": "markdown",
   "metadata": {},
   "source": [
    "# Limiting dataset\n",
    "\n",
    "since the dataset is a lot, I limit my self to only office buildings at site_id of 0"
   ]
  },
  {
   "cell_type": "code",
   "execution_count": 90,
   "metadata": {},
   "outputs": [
    {
     "name": "stdout",
     "output_type": "stream",
     "text": [
      "(246264, 16)\n"
     ]
    },
    {
     "data": {
      "text/plain": [
       "12.212493896484375"
      ]
     },
     "execution_count": 90,
     "metadata": {},
     "output_type": "execute_result"
    }
   ],
   "source": [
    "train_office = train[(train['site_id']==0) & (train['primary_use']=='Office')]\n",
    "print(train_office.shape)\n",
    "train_office.drop('floor_count', axis=1, inplace=True)\n",
    "train_office.memory_usage().sum()/1024**2"
   ]
  },
  {
   "cell_type": "code",
   "execution_count": 91,
   "metadata": {},
   "outputs": [
    {
     "data": {
      "image/png": "[encoded data removed]",
      "text/plain": [
       "<Figure size 1008x432 with 1 Axes>"
      ]
     },
     "metadata": {},
     "output_type": "display_data"
    }
   ],
   "source": [
    "train_odata = (train_office.count()/len(train_office)).drop('meter_reading').sort_values().values\n",
    "ind = np.arange(len(train_odata))\n",
    "\n",
    "fig, axes = plt.subplots(1, 1, figsize=(14, 6))\n",
    "axes.bar(ind, train_odata, color='lightblue')\n",
    "axes.set_ylabel('Amount of data available');\n",
    "axes.set_xticks(ind)\n",
    "axes.set_xticklabels((train_office.count()/len(train_office)).drop('meter_reading').sort_values().index, rotation=40)\n",
    "axes.set_title('Training Dataset')\n",
    "plt.show()"
   ]
  },
  {
   "cell_type": "code",
   "execution_count": 1,
   "metadata": {},
   "outputs": [
    {
     "ename": "NameError",
     "evalue": "name 'train_office' is not defined",
     "output_type": "error",
     "traceback": [
      "\u001b[0;31m---------------------------------------------------------------------------\u001b[0m",
      "\u001b[0;31mNameError\u001b[0m                                 Traceback (most recent call last)",
      "\u001b[0;32m<ipython-input-1-7782ea511d97>\u001b[0m in \u001b[0;36m<module>\u001b[0;34m\u001b[0m\n\u001b[0;32m----> 1\u001b[0;31m \u001b[0mtrain_office\u001b[0m\u001b[0;34m.\u001b[0m\u001b[0mshape\u001b[0m\u001b[0;34m\u001b[0m\u001b[0;34m\u001b[0m\u001b[0m\n\u001b[0m",
      "\u001b[0;31mNameError\u001b[0m: name 'train_office' is not defined"
     ]
    }
   ],
   "source": [
    "train_office.shape"
   ]
  },
  {
   "cell_type": "code",
   "execution_count": 67,
   "metadata": {},
   "outputs": [
    {
     "data": {
      "text/plain": [
       "['floor_count',\n",
       " 'air_temperature',\n",
       " 'cloud_coverage',\n",
       " 'dew_temperature',\n",
       " 'precip_depth_1_hr',\n",
       " 'sea_level_pressure',\n",
       " 'wind_direction']"
      ]
     },
     "execution_count": 67,
     "metadata": {},
     "output_type": "execute_result"
    }
   ],
   "source": [
    "# train_office.isna().sum()\n",
    "# checking the 'nan' columns \n",
    "nan_cols = [i for i in train_office.columns if train_office[i].isnull().any()]\n",
    "nan_cols\n",
    "# (246264, 16)"
   ]
  },
  {
   "cell_type": "code",
   "execution_count": 78,
   "metadata": {},
   "outputs": [],
   "source": [
    "export_csv = train_office.to_csv (r'data\\office_data.csv', index = None, header=True)\n"
   ]
  },
  {
   "cell_type": "code",
   "execution_count": 85,
   "metadata": {},
   "outputs": [
    {
     "data": {
      "text/plain": [
       "(246264, 16)"
      ]
     },
     "execution_count": 85,
     "metadata": {},
     "output_type": "execute_result"
    }
   ],
   "source": [
    "office_data = pd.read_csv('data/office_data.csv')\n",
    "len(office_data.building_id.value_counts())\n",
    "office_data.shape"
   ]
  },
  {
   "cell_type": "code",
   "execution_count": 73,
   "metadata": {},
   "outputs": [
    {
     "data": {
      "text/html": [
       "<div>\n",
       "<style scoped>\n",
       "    .dataframe tbody tr th:only-of-type {\n",
       "        vertical-align: middle;\n",
       "    }\n",
       "\n",
       "    .dataframe tbody tr th {\n",
       "        vertical-align: top;\n",
       "    }\n",
       "\n",
       "    .dataframe thead th {\n",
       "        text-align: right;\n",
       "    }\n",
       "</style>\n",
       "<table border=\"1\" class=\"dataframe\">\n",
       "  <thead>\n",
       "    <tr style=\"text-align: right;\">\n",
       "      <th></th>\n",
       "      <th>building_id</th>\n",
       "      <th>meter</th>\n",
       "      <th>timestamp</th>\n",
       "      <th>meter_reading</th>\n",
       "      <th>site_id</th>\n",
       "      <th>primary_use</th>\n",
       "      <th>square_feet</th>\n",
       "      <th>year_built</th>\n",
       "      <th>floor_count</th>\n",
       "      <th>air_temperature</th>\n",
       "      <th>cloud_coverage</th>\n",
       "      <th>dew_temperature</th>\n",
       "      <th>precip_depth_1_hr</th>\n",
       "      <th>sea_level_pressure</th>\n",
       "      <th>wind_direction</th>\n",
       "      <th>wind_speed</th>\n",
       "    </tr>\n",
       "  </thead>\n",
       "  <tbody>\n",
       "    <tr>\n",
       "      <th>844101</th>\n",
       "      <td>9</td>\n",
       "      <td>0</td>\n",
       "      <td>2016-01-16 08:00:00</td>\n",
       "      <td>0.000</td>\n",
       "      <td>0</td>\n",
       "      <td>Office</td>\n",
       "      <td>27000</td>\n",
       "      <td>2010.000</td>\n",
       "      <td>-200.000</td>\n",
       "      <td>-200.000</td>\n",
       "      <td>-200.000</td>\n",
       "      <td>-200.000</td>\n",
       "      <td>0.000</td>\n",
       "      <td>-200.000</td>\n",
       "      <td>180.000</td>\n",
       "      <td>1.500</td>\n",
       "    </tr>\n",
       "    <tr>\n",
       "      <th>844107</th>\n",
       "      <td>15</td>\n",
       "      <td>0</td>\n",
       "      <td>2016-01-16 08:00:00</td>\n",
       "      <td>0.000</td>\n",
       "      <td>0</td>\n",
       "      <td>Office</td>\n",
       "      <td>83957</td>\n",
       "      <td>1974.000</td>\n",
       "      <td>-200.000</td>\n",
       "      <td>-200.000</td>\n",
       "      <td>-200.000</td>\n",
       "      <td>-200.000</td>\n",
       "      <td>0.000</td>\n",
       "      <td>-200.000</td>\n",
       "      <td>180.000</td>\n",
       "      <td>1.500</td>\n",
       "    </tr>\n",
       "    <tr>\n",
       "      <th>844109</th>\n",
       "      <td>17</td>\n",
       "      <td>0</td>\n",
       "      <td>2016-01-16 08:00:00</td>\n",
       "      <td>0.000</td>\n",
       "      <td>0</td>\n",
       "      <td>Office</td>\n",
       "      <td>15250</td>\n",
       "      <td>1980.000</td>\n",
       "      <td>-200.000</td>\n",
       "      <td>-200.000</td>\n",
       "      <td>-200.000</td>\n",
       "      <td>-200.000</td>\n",
       "      <td>0.000</td>\n",
       "      <td>-200.000</td>\n",
       "      <td>180.000</td>\n",
       "      <td>1.500</td>\n",
       "    </tr>\n",
       "    <tr>\n",
       "      <th>844111</th>\n",
       "      <td>19</td>\n",
       "      <td>0</td>\n",
       "      <td>2016-01-16 08:00:00</td>\n",
       "      <td>0.000</td>\n",
       "      <td>0</td>\n",
       "      <td>Office</td>\n",
       "      <td>18717</td>\n",
       "      <td>2004.000</td>\n",
       "      <td>-200.000</td>\n",
       "      <td>-200.000</td>\n",
       "      <td>-200.000</td>\n",
       "      <td>-200.000</td>\n",
       "      <td>0.000</td>\n",
       "      <td>-200.000</td>\n",
       "      <td>180.000</td>\n",
       "      <td>1.500</td>\n",
       "    </tr>\n",
       "    <tr>\n",
       "      <th>844113</th>\n",
       "      <td>21</td>\n",
       "      <td>0</td>\n",
       "      <td>2016-01-16 08:00:00</td>\n",
       "      <td>0.000</td>\n",
       "      <td>0</td>\n",
       "      <td>Office</td>\n",
       "      <td>7043</td>\n",
       "      <td>1990.000</td>\n",
       "      <td>-200.000</td>\n",
       "      <td>-200.000</td>\n",
       "      <td>-200.000</td>\n",
       "      <td>-200.000</td>\n",
       "      <td>0.000</td>\n",
       "      <td>-200.000</td>\n",
       "      <td>180.000</td>\n",
       "      <td>1.500</td>\n",
       "    </tr>\n",
       "    <tr>\n",
       "      <th>844117</th>\n",
       "      <td>25</td>\n",
       "      <td>0</td>\n",
       "      <td>2016-01-16 08:00:00</td>\n",
       "      <td>0.000</td>\n",
       "      <td>0</td>\n",
       "      <td>Office</td>\n",
       "      <td>103286</td>\n",
       "      <td>1969.000</td>\n",
       "      <td>-200.000</td>\n",
       "      <td>-200.000</td>\n",
       "      <td>-200.000</td>\n",
       "      <td>-200.000</td>\n",
       "      <td>0.000</td>\n",
       "      <td>-200.000</td>\n",
       "      <td>180.000</td>\n",
       "      <td>1.500</td>\n",
       "    </tr>\n",
       "    <tr>\n",
       "      <th>844118</th>\n",
       "      <td>26</td>\n",
       "      <td>0</td>\n",
       "      <td>2016-01-16 08:00:00</td>\n",
       "      <td>0.000</td>\n",
       "      <td>0</td>\n",
       "      <td>Office</td>\n",
       "      <td>26953</td>\n",
       "      <td>2005.000</td>\n",
       "      <td>-200.000</td>\n",
       "      <td>-200.000</td>\n",
       "      <td>-200.000</td>\n",
       "      <td>-200.000</td>\n",
       "      <td>0.000</td>\n",
       "      <td>-200.000</td>\n",
       "      <td>180.000</td>\n",
       "      <td>1.500</td>\n",
       "    </tr>\n",
       "    <tr>\n",
       "      <th>844120</th>\n",
       "      <td>28</td>\n",
       "      <td>0</td>\n",
       "      <td>2016-01-16 08:00:00</td>\n",
       "      <td>0.000</td>\n",
       "      <td>0</td>\n",
       "      <td>Office</td>\n",
       "      <td>52957</td>\n",
       "      <td>2016.000</td>\n",
       "      <td>-200.000</td>\n",
       "      <td>-200.000</td>\n",
       "      <td>-200.000</td>\n",
       "      <td>-200.000</td>\n",
       "      <td>0.000</td>\n",
       "      <td>-200.000</td>\n",
       "      <td>180.000</td>\n",
       "      <td>1.500</td>\n",
       "    </tr>\n",
       "    <tr>\n",
       "      <th>844123</th>\n",
       "      <td>32</td>\n",
       "      <td>0</td>\n",
       "      <td>2016-01-16 08:00:00</td>\n",
       "      <td>0.000</td>\n",
       "      <td>0</td>\n",
       "      <td>Office</td>\n",
       "      <td>48392</td>\n",
       "      <td>2005.000</td>\n",
       "      <td>-200.000</td>\n",
       "      <td>-200.000</td>\n",
       "      <td>-200.000</td>\n",
       "      <td>-200.000</td>\n",
       "      <td>0.000</td>\n",
       "      <td>-200.000</td>\n",
       "      <td>180.000</td>\n",
       "      <td>1.500</td>\n",
       "    </tr>\n",
       "    <tr>\n",
       "      <th>844129</th>\n",
       "      <td>38</td>\n",
       "      <td>0</td>\n",
       "      <td>2016-01-16 08:00:00</td>\n",
       "      <td>0.000</td>\n",
       "      <td>0</td>\n",
       "      <td>Office</td>\n",
       "      <td>12769</td>\n",
       "      <td>2013.000</td>\n",
       "      <td>-200.000</td>\n",
       "      <td>-200.000</td>\n",
       "      <td>-200.000</td>\n",
       "      <td>-200.000</td>\n",
       "      <td>0.000</td>\n",
       "      <td>-200.000</td>\n",
       "      <td>180.000</td>\n",
       "      <td>1.500</td>\n",
       "    </tr>\n",
       "    <tr>\n",
       "      <th>844130</th>\n",
       "      <td>39</td>\n",
       "      <td>0</td>\n",
       "      <td>2016-01-16 08:00:00</td>\n",
       "      <td>0.000</td>\n",
       "      <td>0</td>\n",
       "      <td>Office</td>\n",
       "      <td>64619</td>\n",
       "      <td>1969.000</td>\n",
       "      <td>-200.000</td>\n",
       "      <td>-200.000</td>\n",
       "      <td>-200.000</td>\n",
       "      <td>-200.000</td>\n",
       "      <td>0.000</td>\n",
       "      <td>-200.000</td>\n",
       "      <td>180.000</td>\n",
       "      <td>1.500</td>\n",
       "    </tr>\n",
       "    <tr>\n",
       "      <th>844132</th>\n",
       "      <td>41</td>\n",
       "      <td>0</td>\n",
       "      <td>2016-01-16 08:00:00</td>\n",
       "      <td>0.000</td>\n",
       "      <td>0</td>\n",
       "      <td>Office</td>\n",
       "      <td>93860</td>\n",
       "      <td>1968.000</td>\n",
       "      <td>-200.000</td>\n",
       "      <td>-200.000</td>\n",
       "      <td>-200.000</td>\n",
       "      <td>-200.000</td>\n",
       "      <td>0.000</td>\n",
       "      <td>-200.000</td>\n",
       "      <td>180.000</td>\n",
       "      <td>1.500</td>\n",
       "    </tr>\n",
       "    <tr>\n",
       "      <th>844143</th>\n",
       "      <td>53</td>\n",
       "      <td>0</td>\n",
       "      <td>2016-01-16 08:00:00</td>\n",
       "      <td>0.000</td>\n",
       "      <td>0</td>\n",
       "      <td>Office</td>\n",
       "      <td>87742</td>\n",
       "      <td>1971.000</td>\n",
       "      <td>-200.000</td>\n",
       "      <td>-200.000</td>\n",
       "      <td>-200.000</td>\n",
       "      <td>-200.000</td>\n",
       "      <td>0.000</td>\n",
       "      <td>-200.000</td>\n",
       "      <td>180.000</td>\n",
       "      <td>1.500</td>\n",
       "    </tr>\n",
       "    <tr>\n",
       "      <th>844145</th>\n",
       "      <td>55</td>\n",
       "      <td>0</td>\n",
       "      <td>2016-01-16 08:00:00</td>\n",
       "      <td>0.000</td>\n",
       "      <td>0</td>\n",
       "      <td>Office</td>\n",
       "      <td>16726</td>\n",
       "      <td>2011.000</td>\n",
       "      <td>-200.000</td>\n",
       "      <td>-200.000</td>\n",
       "      <td>-200.000</td>\n",
       "      <td>-200.000</td>\n",
       "      <td>0.000</td>\n",
       "      <td>-200.000</td>\n",
       "      <td>180.000</td>\n",
       "      <td>1.500</td>\n",
       "    </tr>\n",
       "    <tr>\n",
       "      <th>844169</th>\n",
       "      <td>79</td>\n",
       "      <td>0</td>\n",
       "      <td>2016-01-16 08:00:00</td>\n",
       "      <td>0.000</td>\n",
       "      <td>0</td>\n",
       "      <td>Office</td>\n",
       "      <td>36240</td>\n",
       "      <td>2010.000</td>\n",
       "      <td>-200.000</td>\n",
       "      <td>-200.000</td>\n",
       "      <td>-200.000</td>\n",
       "      <td>-200.000</td>\n",
       "      <td>0.000</td>\n",
       "      <td>-200.000</td>\n",
       "      <td>180.000</td>\n",
       "      <td>1.500</td>\n",
       "    </tr>\n",
       "    <tr>\n",
       "      <th>844170</th>\n",
       "      <td>80</td>\n",
       "      <td>0</td>\n",
       "      <td>2016-01-16 08:00:00</td>\n",
       "      <td>0.000</td>\n",
       "      <td>0</td>\n",
       "      <td>Office</td>\n",
       "      <td>156111</td>\n",
       "      <td>2001.000</td>\n",
       "      <td>-200.000</td>\n",
       "      <td>-200.000</td>\n",
       "      <td>-200.000</td>\n",
       "      <td>-200.000</td>\n",
       "      <td>0.000</td>\n",
       "      <td>-200.000</td>\n",
       "      <td>180.000</td>\n",
       "      <td>1.500</td>\n",
       "    </tr>\n",
       "    <tr>\n",
       "      <th>844172</th>\n",
       "      <td>82</td>\n",
       "      <td>0</td>\n",
       "      <td>2016-01-16 08:00:00</td>\n",
       "      <td>0.000</td>\n",
       "      <td>0</td>\n",
       "      <td>Office</td>\n",
       "      <td>10743</td>\n",
       "      <td>1974.000</td>\n",
       "      <td>-200.000</td>\n",
       "      <td>-200.000</td>\n",
       "      <td>-200.000</td>\n",
       "      <td>-200.000</td>\n",
       "      <td>0.000</td>\n",
       "      <td>-200.000</td>\n",
       "      <td>180.000</td>\n",
       "      <td>1.500</td>\n",
       "    </tr>\n",
       "    <tr>\n",
       "      <th>844174</th>\n",
       "      <td>84</td>\n",
       "      <td>0</td>\n",
       "      <td>2016-01-16 08:00:00</td>\n",
       "      <td>0.000</td>\n",
       "      <td>0</td>\n",
       "      <td>Office</td>\n",
       "      <td>4038</td>\n",
       "      <td>1986.000</td>\n",
       "      <td>-200.000</td>\n",
       "      <td>-200.000</td>\n",
       "      <td>-200.000</td>\n",
       "      <td>-200.000</td>\n",
       "      <td>0.000</td>\n",
       "      <td>-200.000</td>\n",
       "      <td>180.000</td>\n",
       "      <td>1.500</td>\n",
       "    </tr>\n",
       "    <tr>\n",
       "      <th>844182</th>\n",
       "      <td>92</td>\n",
       "      <td>0</td>\n",
       "      <td>2016-01-16 08:00:00</td>\n",
       "      <td>0.000</td>\n",
       "      <td>0</td>\n",
       "      <td>Office</td>\n",
       "      <td>10779</td>\n",
       "      <td>1970.000</td>\n",
       "      <td>-200.000</td>\n",
       "      <td>-200.000</td>\n",
       "      <td>-200.000</td>\n",
       "      <td>-200.000</td>\n",
       "      <td>0.000</td>\n",
       "      <td>-200.000</td>\n",
       "      <td>180.000</td>\n",
       "      <td>1.500</td>\n",
       "    </tr>\n",
       "    <tr>\n",
       "      <th>844183</th>\n",
       "      <td>93</td>\n",
       "      <td>0</td>\n",
       "      <td>2016-01-16 08:00:00</td>\n",
       "      <td>0.000</td>\n",
       "      <td>0</td>\n",
       "      <td>Office</td>\n",
       "      <td>33370</td>\n",
       "      <td>1982.000</td>\n",
       "      <td>-200.000</td>\n",
       "      <td>-200.000</td>\n",
       "      <td>-200.000</td>\n",
       "      <td>-200.000</td>\n",
       "      <td>0.000</td>\n",
       "      <td>-200.000</td>\n",
       "      <td>180.000</td>\n",
       "      <td>1.500</td>\n",
       "    </tr>\n",
       "    <tr>\n",
       "      <th>844189</th>\n",
       "      <td>99</td>\n",
       "      <td>0</td>\n",
       "      <td>2016-01-16 08:00:00</td>\n",
       "      <td>0.000</td>\n",
       "      <td>0</td>\n",
       "      <td>Office</td>\n",
       "      <td>2260</td>\n",
       "      <td>2016.000</td>\n",
       "      <td>-200.000</td>\n",
       "      <td>-200.000</td>\n",
       "      <td>-200.000</td>\n",
       "      <td>-200.000</td>\n",
       "      <td>0.000</td>\n",
       "      <td>-200.000</td>\n",
       "      <td>180.000</td>\n",
       "      <td>1.500</td>\n",
       "    </tr>\n",
       "    <tr>\n",
       "      <th>844191</th>\n",
       "      <td>101</td>\n",
       "      <td>0</td>\n",
       "      <td>2016-01-16 08:00:00</td>\n",
       "      <td>0.000</td>\n",
       "      <td>0</td>\n",
       "      <td>Office</td>\n",
       "      <td>18860</td>\n",
       "      <td>1986.000</td>\n",
       "      <td>-200.000</td>\n",
       "      <td>-200.000</td>\n",
       "      <td>-200.000</td>\n",
       "      <td>-200.000</td>\n",
       "      <td>0.000</td>\n",
       "      <td>-200.000</td>\n",
       "      <td>180.000</td>\n",
       "      <td>1.500</td>\n",
       "    </tr>\n",
       "    <tr>\n",
       "      <th>844192</th>\n",
       "      <td>102</td>\n",
       "      <td>0</td>\n",
       "      <td>2016-01-16 08:00:00</td>\n",
       "      <td>0.000</td>\n",
       "      <td>0</td>\n",
       "      <td>Office</td>\n",
       "      <td>15876</td>\n",
       "      <td>1983.000</td>\n",
       "      <td>-200.000</td>\n",
       "      <td>-200.000</td>\n",
       "      <td>-200.000</td>\n",
       "      <td>-200.000</td>\n",
       "      <td>0.000</td>\n",
       "      <td>-200.000</td>\n",
       "      <td>180.000</td>\n",
       "      <td>1.500</td>\n",
       "    </tr>\n",
       "    <tr>\n",
       "      <th>844194</th>\n",
       "      <td>104</td>\n",
       "      <td>0</td>\n",
       "      <td>2016-01-16 08:00:00</td>\n",
       "      <td>0.000</td>\n",
       "      <td>0</td>\n",
       "      <td>Office</td>\n",
       "      <td>45330</td>\n",
       "      <td>2003.000</td>\n",
       "      <td>-200.000</td>\n",
       "      <td>-200.000</td>\n",
       "      <td>-200.000</td>\n",
       "      <td>-200.000</td>\n",
       "      <td>0.000</td>\n",
       "      <td>-200.000</td>\n",
       "      <td>180.000</td>\n",
       "      <td>1.500</td>\n",
       "    </tr>\n",
       "    <tr>\n",
       "      <th>846396</th>\n",
       "      <td>9</td>\n",
       "      <td>0</td>\n",
       "      <td>2016-01-16 09:00:00</td>\n",
       "      <td>0.000</td>\n",
       "      <td>0</td>\n",
       "      <td>Office</td>\n",
       "      <td>27000</td>\n",
       "      <td>2010.000</td>\n",
       "      <td>-200.000</td>\n",
       "      <td>-200.000</td>\n",
       "      <td>2.000</td>\n",
       "      <td>-200.000</td>\n",
       "      <td>0.000</td>\n",
       "      <td>-200.000</td>\n",
       "      <td>190.000</td>\n",
       "      <td>1.500</td>\n",
       "    </tr>\n",
       "    <tr>\n",
       "      <th>846402</th>\n",
       "      <td>15</td>\n",
       "      <td>0</td>\n",
       "      <td>2016-01-16 09:00:00</td>\n",
       "      <td>0.000</td>\n",
       "      <td>0</td>\n",
       "      <td>Office</td>\n",
       "      <td>83957</td>\n",
       "      <td>1974.000</td>\n",
       "      <td>-200.000</td>\n",
       "      <td>-200.000</td>\n",
       "      <td>2.000</td>\n",
       "      <td>-200.000</td>\n",
       "      <td>0.000</td>\n",
       "      <td>-200.000</td>\n",
       "      <td>190.000</td>\n",
       "      <td>1.500</td>\n",
       "    </tr>\n",
       "    <tr>\n",
       "      <th>846404</th>\n",
       "      <td>17</td>\n",
       "      <td>0</td>\n",
       "      <td>2016-01-16 09:00:00</td>\n",
       "      <td>0.000</td>\n",
       "      <td>0</td>\n",
       "      <td>Office</td>\n",
       "      <td>15250</td>\n",
       "      <td>1980.000</td>\n",
       "      <td>-200.000</td>\n",
       "      <td>-200.000</td>\n",
       "      <td>2.000</td>\n",
       "      <td>-200.000</td>\n",
       "      <td>0.000</td>\n",
       "      <td>-200.000</td>\n",
       "      <td>190.000</td>\n",
       "      <td>1.500</td>\n",
       "    </tr>\n",
       "    <tr>\n",
       "      <th>846406</th>\n",
       "      <td>19</td>\n",
       "      <td>0</td>\n",
       "      <td>2016-01-16 09:00:00</td>\n",
       "      <td>0.000</td>\n",
       "      <td>0</td>\n",
       "      <td>Office</td>\n",
       "      <td>18717</td>\n",
       "      <td>2004.000</td>\n",
       "      <td>-200.000</td>\n",
       "      <td>-200.000</td>\n",
       "      <td>2.000</td>\n",
       "      <td>-200.000</td>\n",
       "      <td>0.000</td>\n",
       "      <td>-200.000</td>\n",
       "      <td>190.000</td>\n",
       "      <td>1.500</td>\n",
       "    </tr>\n",
       "    <tr>\n",
       "      <th>846408</th>\n",
       "      <td>21</td>\n",
       "      <td>0</td>\n",
       "      <td>2016-01-16 09:00:00</td>\n",
       "      <td>0.000</td>\n",
       "      <td>0</td>\n",
       "      <td>Office</td>\n",
       "      <td>7043</td>\n",
       "      <td>1990.000</td>\n",
       "      <td>-200.000</td>\n",
       "      <td>-200.000</td>\n",
       "      <td>2.000</td>\n",
       "      <td>-200.000</td>\n",
       "      <td>0.000</td>\n",
       "      <td>-200.000</td>\n",
       "      <td>190.000</td>\n",
       "      <td>1.500</td>\n",
       "    </tr>\n",
       "    <tr>\n",
       "      <th>846412</th>\n",
       "      <td>25</td>\n",
       "      <td>0</td>\n",
       "      <td>2016-01-16 09:00:00</td>\n",
       "      <td>0.000</td>\n",
       "      <td>0</td>\n",
       "      <td>Office</td>\n",
       "      <td>103286</td>\n",
       "      <td>1969.000</td>\n",
       "      <td>-200.000</td>\n",
       "      <td>-200.000</td>\n",
       "      <td>2.000</td>\n",
       "      <td>-200.000</td>\n",
       "      <td>0.000</td>\n",
       "      <td>-200.000</td>\n",
       "      <td>190.000</td>\n",
       "      <td>1.500</td>\n",
       "    </tr>\n",
       "    <tr>\n",
       "      <th>...</th>\n",
       "      <td>...</td>\n",
       "      <td>...</td>\n",
       "      <td>...</td>\n",
       "      <td>...</td>\n",
       "      <td>...</td>\n",
       "      <td>...</td>\n",
       "      <td>...</td>\n",
       "      <td>...</td>\n",
       "      <td>...</td>\n",
       "      <td>...</td>\n",
       "      <td>...</td>\n",
       "      <td>...</td>\n",
       "      <td>...</td>\n",
       "      <td>...</td>\n",
       "      <td>...</td>\n",
       "      <td>...</td>\n",
       "    </tr>\n",
       "    <tr>\n",
       "      <th>846477</th>\n",
       "      <td>92</td>\n",
       "      <td>0</td>\n",
       "      <td>2016-01-16 09:00:00</td>\n",
       "      <td>0.000</td>\n",
       "      <td>0</td>\n",
       "      <td>Office</td>\n",
       "      <td>10779</td>\n",
       "      <td>1970.000</td>\n",
       "      <td>-200.000</td>\n",
       "      <td>-200.000</td>\n",
       "      <td>2.000</td>\n",
       "      <td>-200.000</td>\n",
       "      <td>0.000</td>\n",
       "      <td>-200.000</td>\n",
       "      <td>190.000</td>\n",
       "      <td>1.500</td>\n",
       "    </tr>\n",
       "    <tr>\n",
       "      <th>846478</th>\n",
       "      <td>93</td>\n",
       "      <td>0</td>\n",
       "      <td>2016-01-16 09:00:00</td>\n",
       "      <td>60.147</td>\n",
       "      <td>0</td>\n",
       "      <td>Office</td>\n",
       "      <td>33370</td>\n",
       "      <td>1982.000</td>\n",
       "      <td>-200.000</td>\n",
       "      <td>-200.000</td>\n",
       "      <td>2.000</td>\n",
       "      <td>-200.000</td>\n",
       "      <td>0.000</td>\n",
       "      <td>-200.000</td>\n",
       "      <td>190.000</td>\n",
       "      <td>1.500</td>\n",
       "    </tr>\n",
       "    <tr>\n",
       "      <th>846484</th>\n",
       "      <td>99</td>\n",
       "      <td>0</td>\n",
       "      <td>2016-01-16 09:00:00</td>\n",
       "      <td>0.000</td>\n",
       "      <td>0</td>\n",
       "      <td>Office</td>\n",
       "      <td>2260</td>\n",
       "      <td>2016.000</td>\n",
       "      <td>-200.000</td>\n",
       "      <td>-200.000</td>\n",
       "      <td>2.000</td>\n",
       "      <td>-200.000</td>\n",
       "      <td>0.000</td>\n",
       "      <td>-200.000</td>\n",
       "      <td>190.000</td>\n",
       "      <td>1.500</td>\n",
       "    </tr>\n",
       "    <tr>\n",
       "      <th>846486</th>\n",
       "      <td>101</td>\n",
       "      <td>0</td>\n",
       "      <td>2016-01-16 09:00:00</td>\n",
       "      <td>0.000</td>\n",
       "      <td>0</td>\n",
       "      <td>Office</td>\n",
       "      <td>18860</td>\n",
       "      <td>1986.000</td>\n",
       "      <td>-200.000</td>\n",
       "      <td>-200.000</td>\n",
       "      <td>2.000</td>\n",
       "      <td>-200.000</td>\n",
       "      <td>0.000</td>\n",
       "      <td>-200.000</td>\n",
       "      <td>190.000</td>\n",
       "      <td>1.500</td>\n",
       "    </tr>\n",
       "    <tr>\n",
       "      <th>846487</th>\n",
       "      <td>102</td>\n",
       "      <td>0</td>\n",
       "      <td>2016-01-16 09:00:00</td>\n",
       "      <td>0.000</td>\n",
       "      <td>0</td>\n",
       "      <td>Office</td>\n",
       "      <td>15876</td>\n",
       "      <td>1983.000</td>\n",
       "      <td>-200.000</td>\n",
       "      <td>-200.000</td>\n",
       "      <td>2.000</td>\n",
       "      <td>-200.000</td>\n",
       "      <td>0.000</td>\n",
       "      <td>-200.000</td>\n",
       "      <td>190.000</td>\n",
       "      <td>1.500</td>\n",
       "    </tr>\n",
       "    <tr>\n",
       "      <th>846489</th>\n",
       "      <td>104</td>\n",
       "      <td>0</td>\n",
       "      <td>2016-01-16 09:00:00</td>\n",
       "      <td>0.000</td>\n",
       "      <td>0</td>\n",
       "      <td>Office</td>\n",
       "      <td>45330</td>\n",
       "      <td>2003.000</td>\n",
       "      <td>-200.000</td>\n",
       "      <td>-200.000</td>\n",
       "      <td>2.000</td>\n",
       "      <td>-200.000</td>\n",
       "      <td>0.000</td>\n",
       "      <td>-200.000</td>\n",
       "      <td>190.000</td>\n",
       "      <td>1.500</td>\n",
       "    </tr>\n",
       "    <tr>\n",
       "      <th>848695</th>\n",
       "      <td>9</td>\n",
       "      <td>0</td>\n",
       "      <td>2016-01-16 10:00:00</td>\n",
       "      <td>0.000</td>\n",
       "      <td>0</td>\n",
       "      <td>Office</td>\n",
       "      <td>27000</td>\n",
       "      <td>2010.000</td>\n",
       "      <td>-200.000</td>\n",
       "      <td>-200.000</td>\n",
       "      <td>2.000</td>\n",
       "      <td>-200.000</td>\n",
       "      <td>0.000</td>\n",
       "      <td>-200.000</td>\n",
       "      <td>190.000</td>\n",
       "      <td>1.500</td>\n",
       "    </tr>\n",
       "    <tr>\n",
       "      <th>848701</th>\n",
       "      <td>15</td>\n",
       "      <td>0</td>\n",
       "      <td>2016-01-16 10:00:00</td>\n",
       "      <td>0.000</td>\n",
       "      <td>0</td>\n",
       "      <td>Office</td>\n",
       "      <td>83957</td>\n",
       "      <td>1974.000</td>\n",
       "      <td>-200.000</td>\n",
       "      <td>-200.000</td>\n",
       "      <td>2.000</td>\n",
       "      <td>-200.000</td>\n",
       "      <td>0.000</td>\n",
       "      <td>-200.000</td>\n",
       "      <td>190.000</td>\n",
       "      <td>1.500</td>\n",
       "    </tr>\n",
       "    <tr>\n",
       "      <th>848703</th>\n",
       "      <td>17</td>\n",
       "      <td>0</td>\n",
       "      <td>2016-01-16 10:00:00</td>\n",
       "      <td>0.000</td>\n",
       "      <td>0</td>\n",
       "      <td>Office</td>\n",
       "      <td>15250</td>\n",
       "      <td>1980.000</td>\n",
       "      <td>-200.000</td>\n",
       "      <td>-200.000</td>\n",
       "      <td>2.000</td>\n",
       "      <td>-200.000</td>\n",
       "      <td>0.000</td>\n",
       "      <td>-200.000</td>\n",
       "      <td>190.000</td>\n",
       "      <td>1.500</td>\n",
       "    </tr>\n",
       "    <tr>\n",
       "      <th>848705</th>\n",
       "      <td>19</td>\n",
       "      <td>0</td>\n",
       "      <td>2016-01-16 10:00:00</td>\n",
       "      <td>0.000</td>\n",
       "      <td>0</td>\n",
       "      <td>Office</td>\n",
       "      <td>18717</td>\n",
       "      <td>2004.000</td>\n",
       "      <td>-200.000</td>\n",
       "      <td>-200.000</td>\n",
       "      <td>2.000</td>\n",
       "      <td>-200.000</td>\n",
       "      <td>0.000</td>\n",
       "      <td>-200.000</td>\n",
       "      <td>190.000</td>\n",
       "      <td>1.500</td>\n",
       "    </tr>\n",
       "    <tr>\n",
       "      <th>848707</th>\n",
       "      <td>21</td>\n",
       "      <td>0</td>\n",
       "      <td>2016-01-16 10:00:00</td>\n",
       "      <td>0.000</td>\n",
       "      <td>0</td>\n",
       "      <td>Office</td>\n",
       "      <td>7043</td>\n",
       "      <td>1990.000</td>\n",
       "      <td>-200.000</td>\n",
       "      <td>-200.000</td>\n",
       "      <td>2.000</td>\n",
       "      <td>-200.000</td>\n",
       "      <td>0.000</td>\n",
       "      <td>-200.000</td>\n",
       "      <td>190.000</td>\n",
       "      <td>1.500</td>\n",
       "    </tr>\n",
       "    <tr>\n",
       "      <th>848711</th>\n",
       "      <td>25</td>\n",
       "      <td>0</td>\n",
       "      <td>2016-01-16 10:00:00</td>\n",
       "      <td>0.000</td>\n",
       "      <td>0</td>\n",
       "      <td>Office</td>\n",
       "      <td>103286</td>\n",
       "      <td>1969.000</td>\n",
       "      <td>-200.000</td>\n",
       "      <td>-200.000</td>\n",
       "      <td>2.000</td>\n",
       "      <td>-200.000</td>\n",
       "      <td>0.000</td>\n",
       "      <td>-200.000</td>\n",
       "      <td>190.000</td>\n",
       "      <td>1.500</td>\n",
       "    </tr>\n",
       "    <tr>\n",
       "      <th>848712</th>\n",
       "      <td>26</td>\n",
       "      <td>0</td>\n",
       "      <td>2016-01-16 10:00:00</td>\n",
       "      <td>0.000</td>\n",
       "      <td>0</td>\n",
       "      <td>Office</td>\n",
       "      <td>26953</td>\n",
       "      <td>2005.000</td>\n",
       "      <td>-200.000</td>\n",
       "      <td>-200.000</td>\n",
       "      <td>2.000</td>\n",
       "      <td>-200.000</td>\n",
       "      <td>0.000</td>\n",
       "      <td>-200.000</td>\n",
       "      <td>190.000</td>\n",
       "      <td>1.500</td>\n",
       "    </tr>\n",
       "    <tr>\n",
       "      <th>848714</th>\n",
       "      <td>28</td>\n",
       "      <td>0</td>\n",
       "      <td>2016-01-16 10:00:00</td>\n",
       "      <td>0.000</td>\n",
       "      <td>0</td>\n",
       "      <td>Office</td>\n",
       "      <td>52957</td>\n",
       "      <td>2016.000</td>\n",
       "      <td>-200.000</td>\n",
       "      <td>-200.000</td>\n",
       "      <td>2.000</td>\n",
       "      <td>-200.000</td>\n",
       "      <td>0.000</td>\n",
       "      <td>-200.000</td>\n",
       "      <td>190.000</td>\n",
       "      <td>1.500</td>\n",
       "    </tr>\n",
       "    <tr>\n",
       "      <th>848717</th>\n",
       "      <td>32</td>\n",
       "      <td>0</td>\n",
       "      <td>2016-01-16 10:00:00</td>\n",
       "      <td>0.000</td>\n",
       "      <td>0</td>\n",
       "      <td>Office</td>\n",
       "      <td>48392</td>\n",
       "      <td>2005.000</td>\n",
       "      <td>-200.000</td>\n",
       "      <td>-200.000</td>\n",
       "      <td>2.000</td>\n",
       "      <td>-200.000</td>\n",
       "      <td>0.000</td>\n",
       "      <td>-200.000</td>\n",
       "      <td>190.000</td>\n",
       "      <td>1.500</td>\n",
       "    </tr>\n",
       "    <tr>\n",
       "      <th>848723</th>\n",
       "      <td>38</td>\n",
       "      <td>0</td>\n",
       "      <td>2016-01-16 10:00:00</td>\n",
       "      <td>0.000</td>\n",
       "      <td>0</td>\n",
       "      <td>Office</td>\n",
       "      <td>12769</td>\n",
       "      <td>2013.000</td>\n",
       "      <td>-200.000</td>\n",
       "      <td>-200.000</td>\n",
       "      <td>2.000</td>\n",
       "      <td>-200.000</td>\n",
       "      <td>0.000</td>\n",
       "      <td>-200.000</td>\n",
       "      <td>190.000</td>\n",
       "      <td>1.500</td>\n",
       "    </tr>\n",
       "    <tr>\n",
       "      <th>848724</th>\n",
       "      <td>39</td>\n",
       "      <td>0</td>\n",
       "      <td>2016-01-16 10:00:00</td>\n",
       "      <td>0.000</td>\n",
       "      <td>0</td>\n",
       "      <td>Office</td>\n",
       "      <td>64619</td>\n",
       "      <td>1969.000</td>\n",
       "      <td>-200.000</td>\n",
       "      <td>-200.000</td>\n",
       "      <td>2.000</td>\n",
       "      <td>-200.000</td>\n",
       "      <td>0.000</td>\n",
       "      <td>-200.000</td>\n",
       "      <td>190.000</td>\n",
       "      <td>1.500</td>\n",
       "    </tr>\n",
       "    <tr>\n",
       "      <th>848726</th>\n",
       "      <td>41</td>\n",
       "      <td>0</td>\n",
       "      <td>2016-01-16 10:00:00</td>\n",
       "      <td>0.000</td>\n",
       "      <td>0</td>\n",
       "      <td>Office</td>\n",
       "      <td>93860</td>\n",
       "      <td>1968.000</td>\n",
       "      <td>-200.000</td>\n",
       "      <td>-200.000</td>\n",
       "      <td>2.000</td>\n",
       "      <td>-200.000</td>\n",
       "      <td>0.000</td>\n",
       "      <td>-200.000</td>\n",
       "      <td>190.000</td>\n",
       "      <td>1.500</td>\n",
       "    </tr>\n",
       "    <tr>\n",
       "      <th>848737</th>\n",
       "      <td>53</td>\n",
       "      <td>0</td>\n",
       "      <td>2016-01-16 10:00:00</td>\n",
       "      <td>0.000</td>\n",
       "      <td>0</td>\n",
       "      <td>Office</td>\n",
       "      <td>87742</td>\n",
       "      <td>1971.000</td>\n",
       "      <td>-200.000</td>\n",
       "      <td>-200.000</td>\n",
       "      <td>2.000</td>\n",
       "      <td>-200.000</td>\n",
       "      <td>0.000</td>\n",
       "      <td>-200.000</td>\n",
       "      <td>190.000</td>\n",
       "      <td>1.500</td>\n",
       "    </tr>\n",
       "    <tr>\n",
       "      <th>848739</th>\n",
       "      <td>55</td>\n",
       "      <td>0</td>\n",
       "      <td>2016-01-16 10:00:00</td>\n",
       "      <td>0.000</td>\n",
       "      <td>0</td>\n",
       "      <td>Office</td>\n",
       "      <td>16726</td>\n",
       "      <td>2011.000</td>\n",
       "      <td>-200.000</td>\n",
       "      <td>-200.000</td>\n",
       "      <td>2.000</td>\n",
       "      <td>-200.000</td>\n",
       "      <td>0.000</td>\n",
       "      <td>-200.000</td>\n",
       "      <td>190.000</td>\n",
       "      <td>1.500</td>\n",
       "    </tr>\n",
       "    <tr>\n",
       "      <th>848763</th>\n",
       "      <td>79</td>\n",
       "      <td>0</td>\n",
       "      <td>2016-01-16 10:00:00</td>\n",
       "      <td>0.000</td>\n",
       "      <td>0</td>\n",
       "      <td>Office</td>\n",
       "      <td>36240</td>\n",
       "      <td>2010.000</td>\n",
       "      <td>-200.000</td>\n",
       "      <td>-200.000</td>\n",
       "      <td>2.000</td>\n",
       "      <td>-200.000</td>\n",
       "      <td>0.000</td>\n",
       "      <td>-200.000</td>\n",
       "      <td>190.000</td>\n",
       "      <td>1.500</td>\n",
       "    </tr>\n",
       "    <tr>\n",
       "      <th>848764</th>\n",
       "      <td>80</td>\n",
       "      <td>0</td>\n",
       "      <td>2016-01-16 10:00:00</td>\n",
       "      <td>0.000</td>\n",
       "      <td>0</td>\n",
       "      <td>Office</td>\n",
       "      <td>156111</td>\n",
       "      <td>2001.000</td>\n",
       "      <td>-200.000</td>\n",
       "      <td>-200.000</td>\n",
       "      <td>2.000</td>\n",
       "      <td>-200.000</td>\n",
       "      <td>0.000</td>\n",
       "      <td>-200.000</td>\n",
       "      <td>190.000</td>\n",
       "      <td>1.500</td>\n",
       "    </tr>\n",
       "    <tr>\n",
       "      <th>848766</th>\n",
       "      <td>82</td>\n",
       "      <td>0</td>\n",
       "      <td>2016-01-16 10:00:00</td>\n",
       "      <td>0.000</td>\n",
       "      <td>0</td>\n",
       "      <td>Office</td>\n",
       "      <td>10743</td>\n",
       "      <td>1974.000</td>\n",
       "      <td>-200.000</td>\n",
       "      <td>-200.000</td>\n",
       "      <td>2.000</td>\n",
       "      <td>-200.000</td>\n",
       "      <td>0.000</td>\n",
       "      <td>-200.000</td>\n",
       "      <td>190.000</td>\n",
       "      <td>1.500</td>\n",
       "    </tr>\n",
       "    <tr>\n",
       "      <th>848768</th>\n",
       "      <td>84</td>\n",
       "      <td>0</td>\n",
       "      <td>2016-01-16 10:00:00</td>\n",
       "      <td>0.000</td>\n",
       "      <td>0</td>\n",
       "      <td>Office</td>\n",
       "      <td>4038</td>\n",
       "      <td>1986.000</td>\n",
       "      <td>-200.000</td>\n",
       "      <td>-200.000</td>\n",
       "      <td>2.000</td>\n",
       "      <td>-200.000</td>\n",
       "      <td>0.000</td>\n",
       "      <td>-200.000</td>\n",
       "      <td>190.000</td>\n",
       "      <td>1.500</td>\n",
       "    </tr>\n",
       "    <tr>\n",
       "      <th>848776</th>\n",
       "      <td>92</td>\n",
       "      <td>0</td>\n",
       "      <td>2016-01-16 10:00:00</td>\n",
       "      <td>0.000</td>\n",
       "      <td>0</td>\n",
       "      <td>Office</td>\n",
       "      <td>10779</td>\n",
       "      <td>1970.000</td>\n",
       "      <td>-200.000</td>\n",
       "      <td>-200.000</td>\n",
       "      <td>2.000</td>\n",
       "      <td>-200.000</td>\n",
       "      <td>0.000</td>\n",
       "      <td>-200.000</td>\n",
       "      <td>190.000</td>\n",
       "      <td>1.500</td>\n",
       "    </tr>\n",
       "    <tr>\n",
       "      <th>848777</th>\n",
       "      <td>93</td>\n",
       "      <td>0</td>\n",
       "      <td>2016-01-16 10:00:00</td>\n",
       "      <td>0.000</td>\n",
       "      <td>0</td>\n",
       "      <td>Office</td>\n",
       "      <td>33370</td>\n",
       "      <td>1982.000</td>\n",
       "      <td>-200.000</td>\n",
       "      <td>-200.000</td>\n",
       "      <td>2.000</td>\n",
       "      <td>-200.000</td>\n",
       "      <td>0.000</td>\n",
       "      <td>-200.000</td>\n",
       "      <td>190.000</td>\n",
       "      <td>1.500</td>\n",
       "    </tr>\n",
       "    <tr>\n",
       "      <th>848783</th>\n",
       "      <td>99</td>\n",
       "      <td>0</td>\n",
       "      <td>2016-01-16 10:00:00</td>\n",
       "      <td>0.000</td>\n",
       "      <td>0</td>\n",
       "      <td>Office</td>\n",
       "      <td>2260</td>\n",
       "      <td>2016.000</td>\n",
       "      <td>-200.000</td>\n",
       "      <td>-200.000</td>\n",
       "      <td>2.000</td>\n",
       "      <td>-200.000</td>\n",
       "      <td>0.000</td>\n",
       "      <td>-200.000</td>\n",
       "      <td>190.000</td>\n",
       "      <td>1.500</td>\n",
       "    </tr>\n",
       "    <tr>\n",
       "      <th>848785</th>\n",
       "      <td>101</td>\n",
       "      <td>0</td>\n",
       "      <td>2016-01-16 10:00:00</td>\n",
       "      <td>0.000</td>\n",
       "      <td>0</td>\n",
       "      <td>Office</td>\n",
       "      <td>18860</td>\n",
       "      <td>1986.000</td>\n",
       "      <td>-200.000</td>\n",
       "      <td>-200.000</td>\n",
       "      <td>2.000</td>\n",
       "      <td>-200.000</td>\n",
       "      <td>0.000</td>\n",
       "      <td>-200.000</td>\n",
       "      <td>190.000</td>\n",
       "      <td>1.500</td>\n",
       "    </tr>\n",
       "    <tr>\n",
       "      <th>848786</th>\n",
       "      <td>102</td>\n",
       "      <td>0</td>\n",
       "      <td>2016-01-16 10:00:00</td>\n",
       "      <td>0.000</td>\n",
       "      <td>0</td>\n",
       "      <td>Office</td>\n",
       "      <td>15876</td>\n",
       "      <td>1983.000</td>\n",
       "      <td>-200.000</td>\n",
       "      <td>-200.000</td>\n",
       "      <td>2.000</td>\n",
       "      <td>-200.000</td>\n",
       "      <td>0.000</td>\n",
       "      <td>-200.000</td>\n",
       "      <td>190.000</td>\n",
       "      <td>1.500</td>\n",
       "    </tr>\n",
       "    <tr>\n",
       "      <th>848788</th>\n",
       "      <td>104</td>\n",
       "      <td>0</td>\n",
       "      <td>2016-01-16 10:00:00</td>\n",
       "      <td>0.000</td>\n",
       "      <td>0</td>\n",
       "      <td>Office</td>\n",
       "      <td>45330</td>\n",
       "      <td>2003.000</td>\n",
       "      <td>-200.000</td>\n",
       "      <td>-200.000</td>\n",
       "      <td>2.000</td>\n",
       "      <td>-200.000</td>\n",
       "      <td>0.000</td>\n",
       "      <td>-200.000</td>\n",
       "      <td>190.000</td>\n",
       "      <td>1.500</td>\n",
       "    </tr>\n",
       "  </tbody>\n",
       "</table>\n",
       "<p>72 rows × 16 columns</p>\n",
       "</div>"
      ],
      "text/plain": [
       "        building_id  meter           timestamp  meter_reading  site_id  \\\n",
       "844101            9      0 2016-01-16 08:00:00          0.000        0   \n",
       "844107           15      0 2016-01-16 08:00:00          0.000        0   \n",
       "844109           17      0 2016-01-16 08:00:00          0.000        0   \n",
       "844111           19      0 2016-01-16 08:00:00          0.000        0   \n",
       "844113           21      0 2016-01-16 08:00:00          0.000        0   \n",
       "844117           25      0 2016-01-16 08:00:00          0.000        0   \n",
       "844118           26      0 2016-01-16 08:00:00          0.000        0   \n",
       "844120           28      0 2016-01-16 08:00:00          0.000        0   \n",
       "844123           32      0 2016-01-16 08:00:00          0.000        0   \n",
       "844129           38      0 2016-01-16 08:00:00          0.000        0   \n",
       "844130           39      0 2016-01-16 08:00:00          0.000        0   \n",
       "844132           41      0 2016-01-16 08:00:00          0.000        0   \n",
       "844143           53      0 2016-01-16 08:00:00          0.000        0   \n",
       "844145           55      0 2016-01-16 08:00:00          0.000        0   \n",
       "844169           79      0 2016-01-16 08:00:00          0.000        0   \n",
       "844170           80      0 2016-01-16 08:00:00          0.000        0   \n",
       "844172           82      0 2016-01-16 08:00:00          0.000        0   \n",
       "844174           84      0 2016-01-16 08:00:00          0.000        0   \n",
       "844182           92      0 2016-01-16 08:00:00          0.000        0   \n",
       "844183           93      0 2016-01-16 08:00:00          0.000        0   \n",
       "844189           99      0 2016-01-16 08:00:00          0.000        0   \n",
       "844191          101      0 2016-01-16 08:00:00          0.000        0   \n",
       "844192          102      0 2016-01-16 08:00:00          0.000        0   \n",
       "844194          104      0 2016-01-16 08:00:00          0.000        0   \n",
       "846396            9      0 2016-01-16 09:00:00          0.000        0   \n",
       "846402           15      0 2016-01-16 09:00:00          0.000        0   \n",
       "846404           17      0 2016-01-16 09:00:00          0.000        0   \n",
       "846406           19      0 2016-01-16 09:00:00          0.000        0   \n",
       "846408           21      0 2016-01-16 09:00:00          0.000        0   \n",
       "846412           25      0 2016-01-16 09:00:00          0.000        0   \n",
       "...             ...    ...                 ...            ...      ...   \n",
       "846477           92      0 2016-01-16 09:00:00          0.000        0   \n",
       "846478           93      0 2016-01-16 09:00:00         60.147        0   \n",
       "846484           99      0 2016-01-16 09:00:00          0.000        0   \n",
       "846486          101      0 2016-01-16 09:00:00          0.000        0   \n",
       "846487          102      0 2016-01-16 09:00:00          0.000        0   \n",
       "846489          104      0 2016-01-16 09:00:00          0.000        0   \n",
       "848695            9      0 2016-01-16 10:00:00          0.000        0   \n",
       "848701           15      0 2016-01-16 10:00:00          0.000        0   \n",
       "848703           17      0 2016-01-16 10:00:00          0.000        0   \n",
       "848705           19      0 2016-01-16 10:00:00          0.000        0   \n",
       "848707           21      0 2016-01-16 10:00:00          0.000        0   \n",
       "848711           25      0 2016-01-16 10:00:00          0.000        0   \n",
       "848712           26      0 2016-01-16 10:00:00          0.000        0   \n",
       "848714           28      0 2016-01-16 10:00:00          0.000        0   \n",
       "848717           32      0 2016-01-16 10:00:00          0.000        0   \n",
       "848723           38      0 2016-01-16 10:00:00          0.000        0   \n",
       "848724           39      0 2016-01-16 10:00:00          0.000        0   \n",
       "848726           41      0 2016-01-16 10:00:00          0.000        0   \n",
       "848737           53      0 2016-01-16 10:00:00          0.000        0   \n",
       "848739           55      0 2016-01-16 10:00:00          0.000        0   \n",
       "848763           79      0 2016-01-16 10:00:00          0.000        0   \n",
       "848764           80      0 2016-01-16 10:00:00          0.000        0   \n",
       "848766           82      0 2016-01-16 10:00:00          0.000        0   \n",
       "848768           84      0 2016-01-16 10:00:00          0.000        0   \n",
       "848776           92      0 2016-01-16 10:00:00          0.000        0   \n",
       "848777           93      0 2016-01-16 10:00:00          0.000        0   \n",
       "848783           99      0 2016-01-16 10:00:00          0.000        0   \n",
       "848785          101      0 2016-01-16 10:00:00          0.000        0   \n",
       "848786          102      0 2016-01-16 10:00:00          0.000        0   \n",
       "848788          104      0 2016-01-16 10:00:00          0.000        0   \n",
       "\n",
       "       primary_use  square_feet  year_built  floor_count  air_temperature  \\\n",
       "844101      Office        27000    2010.000     -200.000         -200.000   \n",
       "844107      Office        83957    1974.000     -200.000         -200.000   \n",
       "844109      Office        15250    1980.000     -200.000         -200.000   \n",
       "844111      Office        18717    2004.000     -200.000         -200.000   \n",
       "844113      Office         7043    1990.000     -200.000         -200.000   \n",
       "844117      Office       103286    1969.000     -200.000         -200.000   \n",
       "844118      Office        26953    2005.000     -200.000         -200.000   \n",
       "844120      Office        52957    2016.000     -200.000         -200.000   \n",
       "844123      Office        48392    2005.000     -200.000         -200.000   \n",
       "844129      Office        12769    2013.000     -200.000         -200.000   \n",
       "844130      Office        64619    1969.000     -200.000         -200.000   \n",
       "844132      Office        93860    1968.000     -200.000         -200.000   \n",
       "844143      Office        87742    1971.000     -200.000         -200.000   \n",
       "844145      Office        16726    2011.000     -200.000         -200.000   \n",
       "844169      Office        36240    2010.000     -200.000         -200.000   \n",
       "844170      Office       156111    2001.000     -200.000         -200.000   \n",
       "844172      Office        10743    1974.000     -200.000         -200.000   \n",
       "844174      Office         4038    1986.000     -200.000         -200.000   \n",
       "844182      Office        10779    1970.000     -200.000         -200.000   \n",
       "844183      Office        33370    1982.000     -200.000         -200.000   \n",
       "844189      Office         2260    2016.000     -200.000         -200.000   \n",
       "844191      Office        18860    1986.000     -200.000         -200.000   \n",
       "844192      Office        15876    1983.000     -200.000         -200.000   \n",
       "844194      Office        45330    2003.000     -200.000         -200.000   \n",
       "846396      Office        27000    2010.000     -200.000         -200.000   \n",
       "846402      Office        83957    1974.000     -200.000         -200.000   \n",
       "846404      Office        15250    1980.000     -200.000         -200.000   \n",
       "846406      Office        18717    2004.000     -200.000         -200.000   \n",
       "846408      Office         7043    1990.000     -200.000         -200.000   \n",
       "846412      Office       103286    1969.000     -200.000         -200.000   \n",
       "...            ...          ...         ...          ...              ...   \n",
       "846477      Office        10779    1970.000     -200.000         -200.000   \n",
       "846478      Office        33370    1982.000     -200.000         -200.000   \n",
       "846484      Office         2260    2016.000     -200.000         -200.000   \n",
       "846486      Office        18860    1986.000     -200.000         -200.000   \n",
       "846487      Office        15876    1983.000     -200.000         -200.000   \n",
       "846489      Office        45330    2003.000     -200.000         -200.000   \n",
       "848695      Office        27000    2010.000     -200.000         -200.000   \n",
       "848701      Office        83957    1974.000     -200.000         -200.000   \n",
       "848703      Office        15250    1980.000     -200.000         -200.000   \n",
       "848705      Office        18717    2004.000     -200.000         -200.000   \n",
       "848707      Office         7043    1990.000     -200.000         -200.000   \n",
       "848711      Office       103286    1969.000     -200.000         -200.000   \n",
       "848712      Office        26953    2005.000     -200.000         -200.000   \n",
       "848714      Office        52957    2016.000     -200.000         -200.000   \n",
       "848717      Office        48392    2005.000     -200.000         -200.000   \n",
       "848723      Office        12769    2013.000     -200.000         -200.000   \n",
       "848724      Office        64619    1969.000     -200.000         -200.000   \n",
       "848726      Office        93860    1968.000     -200.000         -200.000   \n",
       "848737      Office        87742    1971.000     -200.000         -200.000   \n",
       "848739      Office        16726    2011.000     -200.000         -200.000   \n",
       "848763      Office        36240    2010.000     -200.000         -200.000   \n",
       "848764      Office       156111    2001.000     -200.000         -200.000   \n",
       "848766      Office        10743    1974.000     -200.000         -200.000   \n",
       "848768      Office         4038    1986.000     -200.000         -200.000   \n",
       "848776      Office        10779    1970.000     -200.000         -200.000   \n",
       "848777      Office        33370    1982.000     -200.000         -200.000   \n",
       "848783      Office         2260    2016.000     -200.000         -200.000   \n",
       "848785      Office        18860    1986.000     -200.000         -200.000   \n",
       "848786      Office        15876    1983.000     -200.000         -200.000   \n",
       "848788      Office        45330    2003.000     -200.000         -200.000   \n",
       "\n",
       "        cloud_coverage  dew_temperature  precip_depth_1_hr  \\\n",
       "844101        -200.000         -200.000              0.000   \n",
       "844107        -200.000         -200.000              0.000   \n",
       "844109        -200.000         -200.000              0.000   \n",
       "844111        -200.000         -200.000              0.000   \n",
       "844113        -200.000         -200.000              0.000   \n",
       "844117        -200.000         -200.000              0.000   \n",
       "844118        -200.000         -200.000              0.000   \n",
       "844120        -200.000         -200.000              0.000   \n",
       "844123        -200.000         -200.000              0.000   \n",
       "844129        -200.000         -200.000              0.000   \n",
       "844130        -200.000         -200.000              0.000   \n",
       "844132        -200.000         -200.000              0.000   \n",
       "844143        -200.000         -200.000              0.000   \n",
       "844145        -200.000         -200.000              0.000   \n",
       "844169        -200.000         -200.000              0.000   \n",
       "844170        -200.000         -200.000              0.000   \n",
       "844172        -200.000         -200.000              0.000   \n",
       "844174        -200.000         -200.000              0.000   \n",
       "844182        -200.000         -200.000              0.000   \n",
       "844183        -200.000         -200.000              0.000   \n",
       "844189        -200.000         -200.000              0.000   \n",
       "844191        -200.000         -200.000              0.000   \n",
       "844192        -200.000         -200.000              0.000   \n",
       "844194        -200.000         -200.000              0.000   \n",
       "846396           2.000         -200.000              0.000   \n",
       "846402           2.000         -200.000              0.000   \n",
       "846404           2.000         -200.000              0.000   \n",
       "846406           2.000         -200.000              0.000   \n",
       "846408           2.000         -200.000              0.000   \n",
       "846412           2.000         -200.000              0.000   \n",
       "...                ...              ...                ...   \n",
       "846477           2.000         -200.000              0.000   \n",
       "846478           2.000         -200.000              0.000   \n",
       "846484           2.000         -200.000              0.000   \n",
       "846486           2.000         -200.000              0.000   \n",
       "846487           2.000         -200.000              0.000   \n",
       "846489           2.000         -200.000              0.000   \n",
       "848695           2.000         -200.000              0.000   \n",
       "848701           2.000         -200.000              0.000   \n",
       "848703           2.000         -200.000              0.000   \n",
       "848705           2.000         -200.000              0.000   \n",
       "848707           2.000         -200.000              0.000   \n",
       "848711           2.000         -200.000              0.000   \n",
       "848712           2.000         -200.000              0.000   \n",
       "848714           2.000         -200.000              0.000   \n",
       "848717           2.000         -200.000              0.000   \n",
       "848723           2.000         -200.000              0.000   \n",
       "848724           2.000         -200.000              0.000   \n",
       "848726           2.000         -200.000              0.000   \n",
       "848737           2.000         -200.000              0.000   \n",
       "848739           2.000         -200.000              0.000   \n",
       "848763           2.000         -200.000              0.000   \n",
       "848764           2.000         -200.000              0.000   \n",
       "848766           2.000         -200.000              0.000   \n",
       "848768           2.000         -200.000              0.000   \n",
       "848776           2.000         -200.000              0.000   \n",
       "848777           2.000         -200.000              0.000   \n",
       "848783           2.000         -200.000              0.000   \n",
       "848785           2.000         -200.000              0.000   \n",
       "848786           2.000         -200.000              0.000   \n",
       "848788           2.000         -200.000              0.000   \n",
       "\n",
       "        sea_level_pressure  wind_direction  wind_speed  \n",
       "844101            -200.000         180.000       1.500  \n",
       "844107            -200.000         180.000       1.500  \n",
       "844109            -200.000         180.000       1.500  \n",
       "844111            -200.000         180.000       1.500  \n",
       "844113            -200.000         180.000       1.500  \n",
       "844117            -200.000         180.000       1.500  \n",
       "844118            -200.000         180.000       1.500  \n",
       "844120            -200.000         180.000       1.500  \n",
       "844123            -200.000         180.000       1.500  \n",
       "844129            -200.000         180.000       1.500  \n",
       "844130            -200.000         180.000       1.500  \n",
       "844132            -200.000         180.000       1.500  \n",
       "844143            -200.000         180.000       1.500  \n",
       "844145            -200.000         180.000       1.500  \n",
       "844169            -200.000         180.000       1.500  \n",
       "844170            -200.000         180.000       1.500  \n",
       "844172            -200.000         180.000       1.500  \n",
       "844174            -200.000         180.000       1.500  \n",
       "844182            -200.000         180.000       1.500  \n",
       "844183            -200.000         180.000       1.500  \n",
       "844189            -200.000         180.000       1.500  \n",
       "844191            -200.000         180.000       1.500  \n",
       "844192            -200.000         180.000       1.500  \n",
       "844194            -200.000         180.000       1.500  \n",
       "846396            -200.000         190.000       1.500  \n",
       "846402            -200.000         190.000       1.500  \n",
       "846404            -200.000         190.000       1.500  \n",
       "846406            -200.000         190.000       1.500  \n",
       "846408            -200.000         190.000       1.500  \n",
       "846412            -200.000         190.000       1.500  \n",
       "...                    ...             ...         ...  \n",
       "846477            -200.000         190.000       1.500  \n",
       "846478            -200.000         190.000       1.500  \n",
       "846484            -200.000         190.000       1.500  \n",
       "846486            -200.000         190.000       1.500  \n",
       "846487            -200.000         190.000       1.500  \n",
       "846489            -200.000         190.000       1.500  \n",
       "848695            -200.000         190.000       1.500  \n",
       "848701            -200.000         190.000       1.500  \n",
       "848703            -200.000         190.000       1.500  \n",
       "848705            -200.000         190.000       1.500  \n",
       "848707            -200.000         190.000       1.500  \n",
       "848711            -200.000         190.000       1.500  \n",
       "848712            -200.000         190.000       1.500  \n",
       "848714            -200.000         190.000       1.500  \n",
       "848717            -200.000         190.000       1.500  \n",
       "848723            -200.000         190.000       1.500  \n",
       "848724            -200.000         190.000       1.500  \n",
       "848726            -200.000         190.000       1.500  \n",
       "848737            -200.000         190.000       1.500  \n",
       "848739            -200.000         190.000       1.500  \n",
       "848763            -200.000         190.000       1.500  \n",
       "848764            -200.000         190.000       1.500  \n",
       "848766            -200.000         190.000       1.500  \n",
       "848768            -200.000         190.000       1.500  \n",
       "848776            -200.000         190.000       1.500  \n",
       "848777            -200.000         190.000       1.500  \n",
       "848783            -200.000         190.000       1.500  \n",
       "848785            -200.000         190.000       1.500  \n",
       "848786            -200.000         190.000       1.500  \n",
       "848788            -200.000         190.000       1.500  \n",
       "\n",
       "[72 rows x 16 columns]"
      ]
     },
     "execution_count": 73,
     "metadata": {},
     "output_type": "execute_result"
    }
   ],
   "source": [
    "train_office[train_office.air_temperature == -200]"
   ]
  },
  {
   "cell_type": "code",
   "execution_count": 71,
   "metadata": {},
   "outputs": [
    {
     "ename": "KeyError",
     "evalue": "0",
     "output_type": "error",
     "traceback": [
      "\u001b[0;31m---------------------------------------------------------------------------\u001b[0m",
      "\u001b[0;31mKeyError\u001b[0m                                  Traceback (most recent call last)",
      "\u001b[0;32m<ipython-input-71-810c2b5bfe93>\u001b[0m in \u001b[0;36m<module>\u001b[0;34m\u001b[0m\n\u001b[1;32m      4\u001b[0m     \u001b[0;32mfor\u001b[0m \u001b[0mi\u001b[0m \u001b[0;32min\u001b[0m \u001b[0mrange\u001b[0m\u001b[0;34m(\u001b[0m\u001b[0;36m0\u001b[0m\u001b[0;34m,\u001b[0m \u001b[0mlen\u001b[0m\u001b[0;34m(\u001b[0m\u001b[0mtrain_office\u001b[0m\u001b[0;34m)\u001b[0m\u001b[0;34m)\u001b[0m\u001b[0;34m:\u001b[0m\u001b[0;34m\u001b[0m\u001b[0;34m\u001b[0m\u001b[0m\n\u001b[1;32m      5\u001b[0m \u001b[0;31m#         sample_df[j].fillna(sample_df[i-1])#, inplace=True)\u001b[0m\u001b[0;34m\u001b[0m\u001b[0;34m\u001b[0m\u001b[0;34m\u001b[0m\u001b[0m\n\u001b[0;32m----> 6\u001b[0;31m         \u001b[0;32mif\u001b[0m \u001b[0mtrain_office\u001b[0m\u001b[0;34m[\u001b[0m\u001b[0mj\u001b[0m\u001b[0;34m]\u001b[0m\u001b[0;34m[\u001b[0m\u001b[0mi\u001b[0m\u001b[0;34m]\u001b[0m \u001b[0;34m==\u001b[0m \u001b[0;34m-\u001b[0m\u001b[0;36m200\u001b[0m\u001b[0;34m:\u001b[0m\u001b[0;34m\u001b[0m\u001b[0;34m\u001b[0m\u001b[0m\n\u001b[0m\u001b[1;32m      7\u001b[0m \u001b[0;31m#             print(\"yes\")\u001b[0m\u001b[0;34m\u001b[0m\u001b[0;34m\u001b[0m\u001b[0;34m\u001b[0m\u001b[0m\n\u001b[1;32m      8\u001b[0m             \u001b[0mtrain_office\u001b[0m\u001b[0;34m[\u001b[0m\u001b[0mj\u001b[0m\u001b[0;34m]\u001b[0m\u001b[0;34m[\u001b[0m\u001b[0mi\u001b[0m\u001b[0;34m]\u001b[0m \u001b[0;34m=\u001b[0m \u001b[0mtrain_office\u001b[0m\u001b[0;34m[\u001b[0m\u001b[0mj\u001b[0m\u001b[0;34m]\u001b[0m\u001b[0;34m[\u001b[0m\u001b[0mi\u001b[0m\u001b[0;34m-\u001b[0m\u001b[0;36m1\u001b[0m\u001b[0;34m]\u001b[0m\u001b[0;34m\u001b[0m\u001b[0;34m\u001b[0m\u001b[0m\n",
      "\u001b[0;32m/anaconda3/lib/python3.7/site-packages/pandas/core/series.py\u001b[0m in \u001b[0;36m__getitem__\u001b[0;34m(self, key)\u001b[0m\n\u001b[1;32m    866\u001b[0m         \u001b[0mkey\u001b[0m \u001b[0;34m=\u001b[0m \u001b[0mcom\u001b[0m\u001b[0;34m.\u001b[0m\u001b[0mapply_if_callable\u001b[0m\u001b[0;34m(\u001b[0m\u001b[0mkey\u001b[0m\u001b[0;34m,\u001b[0m \u001b[0mself\u001b[0m\u001b[0;34m)\u001b[0m\u001b[0;34m\u001b[0m\u001b[0;34m\u001b[0m\u001b[0m\n\u001b[1;32m    867\u001b[0m         \u001b[0;32mtry\u001b[0m\u001b[0;34m:\u001b[0m\u001b[0;34m\u001b[0m\u001b[0;34m\u001b[0m\u001b[0m\n\u001b[0;32m--> 868\u001b[0;31m             \u001b[0mresult\u001b[0m \u001b[0;34m=\u001b[0m \u001b[0mself\u001b[0m\u001b[0;34m.\u001b[0m\u001b[0mindex\u001b[0m\u001b[0;34m.\u001b[0m\u001b[0mget_value\u001b[0m\u001b[0;34m(\u001b[0m\u001b[0mself\u001b[0m\u001b[0;34m,\u001b[0m \u001b[0mkey\u001b[0m\u001b[0;34m)\u001b[0m\u001b[0;34m\u001b[0m\u001b[0;34m\u001b[0m\u001b[0m\n\u001b[0m\u001b[1;32m    869\u001b[0m \u001b[0;34m\u001b[0m\u001b[0m\n\u001b[1;32m    870\u001b[0m             \u001b[0;32mif\u001b[0m \u001b[0;32mnot\u001b[0m \u001b[0mis_scalar\u001b[0m\u001b[0;34m(\u001b[0m\u001b[0mresult\u001b[0m\u001b[0;34m)\u001b[0m\u001b[0;34m:\u001b[0m\u001b[0;34m\u001b[0m\u001b[0;34m\u001b[0m\u001b[0m\n",
      "\u001b[0;32m/anaconda3/lib/python3.7/site-packages/pandas/core/indexes/base.py\u001b[0m in \u001b[0;36mget_value\u001b[0;34m(self, series, key)\u001b[0m\n\u001b[1;32m   4373\u001b[0m         \u001b[0;32mtry\u001b[0m\u001b[0;34m:\u001b[0m\u001b[0;34m\u001b[0m\u001b[0;34m\u001b[0m\u001b[0m\n\u001b[1;32m   4374\u001b[0m             return self._engine.get_value(s, k,\n\u001b[0;32m-> 4375\u001b[0;31m                                           tz=getattr(series.dtype, 'tz', None))\n\u001b[0m\u001b[1;32m   4376\u001b[0m         \u001b[0;32mexcept\u001b[0m \u001b[0mKeyError\u001b[0m \u001b[0;32mas\u001b[0m \u001b[0me1\u001b[0m\u001b[0;34m:\u001b[0m\u001b[0;34m\u001b[0m\u001b[0;34m\u001b[0m\u001b[0m\n\u001b[1;32m   4377\u001b[0m             \u001b[0;32mif\u001b[0m \u001b[0mlen\u001b[0m\u001b[0;34m(\u001b[0m\u001b[0mself\u001b[0m\u001b[0;34m)\u001b[0m \u001b[0;34m>\u001b[0m \u001b[0;36m0\u001b[0m \u001b[0;32mand\u001b[0m \u001b[0;34m(\u001b[0m\u001b[0mself\u001b[0m\u001b[0;34m.\u001b[0m\u001b[0mholds_integer\u001b[0m\u001b[0;34m(\u001b[0m\u001b[0;34m)\u001b[0m \u001b[0;32mor\u001b[0m \u001b[0mself\u001b[0m\u001b[0;34m.\u001b[0m\u001b[0mis_boolean\u001b[0m\u001b[0;34m(\u001b[0m\u001b[0;34m)\u001b[0m\u001b[0;34m)\u001b[0m\u001b[0;34m:\u001b[0m\u001b[0;34m\u001b[0m\u001b[0;34m\u001b[0m\u001b[0m\n",
      "\u001b[0;32mpandas/_libs/index.pyx\u001b[0m in \u001b[0;36mpandas._libs.index.IndexEngine.get_value\u001b[0;34m()\u001b[0m\n",
      "\u001b[0;32mpandas/_libs/index.pyx\u001b[0m in \u001b[0;36mpandas._libs.index.IndexEngine.get_value\u001b[0;34m()\u001b[0m\n",
      "\u001b[0;32mpandas/_libs/index.pyx\u001b[0m in \u001b[0;36mpandas._libs.index.IndexEngine.get_loc\u001b[0;34m()\u001b[0m\n",
      "\u001b[0;32mpandas/_libs/hashtable_class_helper.pxi\u001b[0m in \u001b[0;36mpandas._libs.hashtable.Int64HashTable.get_item\u001b[0;34m()\u001b[0m\n",
      "\u001b[0;32mpandas/_libs/hashtable_class_helper.pxi\u001b[0m in \u001b[0;36mpandas._libs.hashtable.Int64HashTable.get_item\u001b[0;34m()\u001b[0m\n",
      "\u001b[0;31mKeyError\u001b[0m: 0"
     ]
    }
   ],
   "source": [
    "imputed_columns = ['air_temperature', 'cloud_coverage', 'dew_temperature', 'precip_depth_1_hr',\n",
    "                   'sea_level_pressure', 'wind_direction']\n",
    "for j in imputed_columns:\n",
    "    for i in range(0, len(train_office)):\n",
    "#         sample_df[j].fillna(sample_df[i-1])#, inplace=True)\n",
    "        if train_office[j][i] == -200:\n",
    "#             print(\"yes\")\n",
    "            train_office[j][i] = train_office[j][i-1]"
   ]
  },
  {
   "cell_type": "code",
   "execution_count": null,
   "metadata": {},
   "outputs": [],
   "source": []
  },
  {
   "cell_type": "code",
   "execution_count": null,
   "metadata": {},
   "outputs": [],
   "source": []
  },
  {
   "cell_type": "markdown",
   "metadata": {},
   "source": [
    "floor count information was missing in the dataset, so I dropped that column."
   ]
  },
  {
   "cell_type": "markdown",
   "metadata": {},
   "source": [
    "## Checking missing data for train_df"
   ]
  },
  {
   "cell_type": "code",
   "execution_count": null,
   "metadata": {},
   "outputs": [],
   "source": [
    "total = train_df.isnull().sum().sort_values(ascending=False)\n",
    "percent = (train_df.isnull().sum()/train_df.isnull().count()*100).sort_values(ascending=False)\n",
    "missing__train_data = pd.concat([total, percent], axis=1, keys=['Total', 'Percent'])\n",
    "missing__train_data"
   ]
  },
  {
   "cell_type": "markdown",
   "metadata": {},
   "source": [
    "## Checking missing values for weather_train_df"
   ]
  },
  {
   "cell_type": "code",
   "execution_count": null,
   "metadata": {},
   "outputs": [],
   "source": [
    "total = weather_train_df.isnull().sum().sort_values(ascending=False)\n",
    "percent = (weather_train_df.isnull().sum()/weather_train_df.isnull().count()*100).sort_values(ascending=False)\n",
    "missing__weather_data = pd.concat([total, percent], axis=1, keys=['Total', 'Percent'])\n",
    "missing__weather_data"
   ]
  },
  {
   "cell_type": "markdown",
   "metadata": {},
   "source": [
    "## Checking missing values for Metadata_train_df"
   ]
  },
  {
   "cell_type": "code",
   "execution_count": null,
   "metadata": {},
   "outputs": [],
   "source": [
    "total = metadata_train_df.isnull().sum().sort_values(ascending=False)\n",
    "percent = (metadata_train_df.isnull().sum()/metadata_train_df.isnull().count()*100).sort_values(ascending=False)\n",
    "missing__metadata_data = pd.concat([total, percent], axis=1, keys=['Total', 'Percent'])\n",
    "missing__metadata_data"
   ]
  },
  {
   "cell_type": "markdown",
   "metadata": {},
   "source": [
    "# Ploting Training set"
   ]
  },
  {
   "cell_type": "code",
   "execution_count": null,
   "metadata": {},
   "outputs": [],
   "source": [
    "import visualization_1 as vis\n",
    "vis.plot_dist_col(weather_train_df)"
   ]
  },
  {
   "cell_type": "code",
   "execution_count": null,
   "metadata": {},
   "outputs": [],
   "source": [
    "vis.plot_dist_col(weather_train_df, 'cloud_coverage')"
   ]
  },
  {
   "cell_type": "code",
   "execution_count": null,
   "metadata": {},
   "outputs": [],
   "source": [
    "vis.plot_dist_col(weather_train_df, 'dew_temperature')"
   ]
  },
  {
   "cell_type": "code",
   "execution_count": null,
   "metadata": {},
   "outputs": [],
   "source": [
    "vis.plot_dist_col(weather_train_df, 'precip_depth_1_hr')"
   ]
  },
  {
   "cell_type": "code",
   "execution_count": null,
   "metadata": {},
   "outputs": [],
   "source": [
    "vis.plot_dist_col(weather_train_df, 'sea_level_pressure')"
   ]
  },
  {
   "cell_type": "code",
   "execution_count": null,
   "metadata": {},
   "outputs": [],
   "source": [
    "vis.plot_dist_col(weather_train_df, 'wind_direction')"
   ]
  },
  {
   "cell_type": "code",
   "execution_count": null,
   "metadata": {},
   "outputs": [],
   "source": [
    "vis.plot_dist_col(weather_train_df, 'wind_speed')"
   ]
  },
  {
   "cell_type": "code",
   "execution_count": null,
   "metadata": {},
   "outputs": [],
   "source": [
    "np.unique(metadata_train_df[metadata_train_df['primary_use']=='Education']['site_id'], return_counts=True)"
   ]
  },
  {
   "cell_type": "markdown",
   "metadata": {},
   "source": [
    "# Sample Single Series Analysis"
   ]
  },
  {
   "cell_type": "code",
   "execution_count": null,
   "metadata": {},
   "outputs": [],
   "source": [
    "from statsmodels.tsa.seasonal import seasonal_decompose\n",
    "ts=train_df.groupby([\"timestamp\"])[\"meter_reading\"].sum()\n",
    "ts.astype('float')\n",
    "plt.figure(figsize=(16,8))\n",
    "plt.title('Meter Reading')\n",
    "plt.xlabel('Timestamp')\n",
    "plt.ylabel('Meter Reading')\n",
    "plt.plot(ts);"
   ]
  },
  {
   "cell_type": "code",
   "execution_count": null,
   "metadata": {},
   "outputs": [],
   "source": [
    "plt.figure(figsize=(16,6))\n",
    "plt.plot(ts.rolling(window=12,center=False).mean(),label='Rolling Mean');\n",
    "plt.plot(ts.rolling(window=12,center=False).std(),label='Rolling sd');\n",
    "plt.legend();"
   ]
  },
  {
   "cell_type": "code",
   "execution_count": null,
   "metadata": {},
   "outputs": [],
   "source": [
    "import statsmodels.api as sm\n",
    "# multiplicative\n",
    "res = sm.tsa.seasonal_decompose(ts.values,freq=12,model=\"multiplicative\")\n",
    "fig = res.plot()"
   ]
  },
  {
   "cell_type": "code",
   "execution_count": null,
   "metadata": {},
   "outputs": [],
   "source": [
    "res = sm.tsa.seasonal_decompose(ts.values,freq=12,model=\"additive\")\n",
    "fig = res.plot()"
   ]
  },
  {
   "cell_type": "markdown",
   "metadata": {},
   "source": [
    "# Outliers "
   ]
  },
  {
   "cell_type": "code",
   "execution_count": null,
   "metadata": {},
   "outputs": [],
   "source": [
    "y_mean_time = train_df.groupby('timestamp').meter_reading.mean()\n",
    "y_mean_time.plot(figsize=(20, 8));"
   ]
  },
  {
   "cell_type": "markdown",
   "metadata": {},
   "source": [
    "# Grouping data in a daily basis"
   ]
  },
  {
   "cell_type": "code",
   "execution_count": null,
   "metadata": {},
   "outputs": [],
   "source": [
    "def split_timestamp(df):\n",
    "    \"\"\"Splits the timestamp to month and so on.\"\"\"\n",
    "    df['month'] = df['timestamp'].dt.month.astype('uint8')\n",
    "#     df['date'] = df['timestamp'].dt.date.astype('uint8')\n",
    "    df['day_of_month'] = df['timestamp'].dt.day.astype('uint8')\n",
    "    df['day_of_week'] = df['timestamp'].dt.dayofweek.astype('uint8')\n",
    "    df['hour'] = df['timestamp'].dt.hour.astype('uint8')\n",
    "    \n",
    "    return df"
   ]
  },
  {
   "cell_type": "code",
   "execution_count": null,
   "metadata": {},
   "outputs": [],
   "source": [
    "train_df.head()"
   ]
  },
  {
   "cell_type": "code",
   "execution_count": null,
   "metadata": {},
   "outputs": [],
   "source": [
    "# train_df['month'] = train_df['timestamp'].dt.month.astype('uint8')\n",
    "train_df['meter'] = pd.Categorical(train_df['meter']).rename_categories({0: \"Electricity\", \n",
    "                                                                         1: \"ChilledWater\",\n",
    "                                                                         2:\"Steam\",\n",
    "                                                                         3:\"HotWater\"\n",
    "                                                                        })\n",
    "train_df['date'] = train_df['timestamp'].dt.date"
   ]
  },
  {
   "cell_type": "code",
   "execution_count": null,
   "metadata": {},
   "outputs": [],
   "source": [
    "train_daily = train_df.groupby(['date', 'building_id', 'meter'])[['meter_reading']].sum()\n",
    "train_daily"
   ]
  },
  {
   "cell_type": "code",
   "execution_count": null,
   "metadata": {},
   "outputs": [],
   "source": [
    "train_daily_agg = train_df.groupby(['date', 'meter'])[['meter_reading']].agg(['sum', 'mean', 'idxmax', 'max'])\n",
    "train_daily_agg = train_daily_agg.reset_index()\n",
    "level_0 = train_daily_agg.columns.droplevel(0)\n",
    "level_1 = train_daily_agg.columns.droplevel(1)\n",
    "level_0 = ['' if x == '' else '-' + x for x in level_0]\n",
    "train_daily_agg.columns = level_1 + level_0\n",
    "train_daily_agg.rename_axis(None, axis=1)\n",
    "train_daily_agg.head()"
   ]
  },
  {
   "cell_type": "markdown",
   "metadata": {},
   "source": [
    "0: Monday and 6: Sunday"
   ]
  },
  {
   "cell_type": "code",
   "execution_count": null,
   "metadata": {},
   "outputs": [],
   "source": [
    "fig_total = px.line(train_daily_agg, x='date', y='meter_reading-sum', color='meter', render_mode='svg')\n",
    "fig_total.update_layout(title='Total kWh per energy aspect')\n",
    "fig_total.show()"
   ]
  },
  {
   "cell_type": "code",
   "execution_count": null,
   "metadata": {},
   "outputs": [],
   "source": [
    "fig_maximum = px.line(train_daily_agg, x='date', y='meter_reading-max', color='meter', render_mode='svg')\n",
    "fig_maximum.update_layout(title='Maximum kWh per energy aspect')\n",
    "fig_maximum.show()"
   ]
  },
  {
   "cell_type": "markdown",
   "metadata": {},
   "source": [
    "# Identifying Outliers"
   ]
  },
  {
   "cell_type": "code",
   "execution_count": null,
   "metadata": {},
   "outputs": [],
   "source": [
    "train_daily_agg.head()"
   ]
  },
  {
   "cell_type": "code",
   "execution_count": null,
   "metadata": {},
   "outputs": [],
   "source": [
    "# train_df.head(3)"
   ]
  },
  {
   "cell_type": "code",
   "execution_count": null,
   "metadata": {},
   "outputs": [],
   "source": [
    "# metadata_train_df.head()"
   ]
  },
  {
   "cell_type": "code",
   "execution_count": null,
   "metadata": {},
   "outputs": [],
   "source": [
    "train = train_df.copy()\n",
    "train['timestamp'] = pd.to_datetime(train['timestamp'])\n",
    "temp_df = train[['building_id']]\n",
    "temp_df = temp_df.merge(metadata_train_df, on=['building_id'], how='left')\n",
    "# temp_df.head()\n",
    "del temp_df['building_id']\n",
    "train = pd.concat([train, temp_df], axis=1)\n",
    "train.head()"
   ]
  },
  {
   "cell_type": "markdown",
   "metadata": {},
   "source": [
    "Weather DF merge over concat"
   ]
  },
  {
   "cell_type": "code",
   "execution_count": null,
   "metadata": {},
   "outputs": [],
   "source": [
    "temp_df = train[['site_id', 'timestamp']]\n",
    "temp_df = temp_df.merge(weather_train_df, on=['site_id', 'timestamp'], how='left')\n",
    "del temp_df['site_id'], temp_df['timestamp']\n",
    "train = pd.concat([train, temp_df], axis=1)\n",
    "print(train.shape)\n",
    "train.head()"
   ]
  },
  {
   "cell_type": "markdown",
   "metadata": {},
   "source": [
    "# Handling of missing data\n",
    "Types of missing data\n",
    "> It is helpful to create and test hypotheses around why the data would be potentially missing, it is because the sensor recording the data disconnected from the server, the person feeding paper forms into the spreadsheet missed it or is the data missing for a particular category of rows.  \n",
    "\n",
    "Time series imputation\n",
    "\n",
    "1. Non-time-series specific method\n",
    "2. mean imputation\n",
    "3. median imputation\n",
    "4. mode imputation\n",
    "5. calcucate the appropriate measure and replace NAs with the values. #### appropriate for stationary time series, for example, white noise data\n",
    "6. Random sample imputation replace missing values with observations randomly selected from the remaining (either of it or just some section of it) #### It is not likely to work well unless the random select is carefully chosen.\n",
    "\n",
    "Time-Series specific method\n",
    "\n",
    "- Last observation carried forward (LOCF)  \n",
    "- Next observation carried backward (NOCB)  \n",
    "- Linear interpolation  \n",
    "- Spline interpolation  "
   ]
  },
  {
   "cell_type": "code",
   "execution_count": null,
   "metadata": {},
   "outputs": [],
   "source": [
    "train.isnull().sum().sort_values(ascending=False)"
   ]
  },
  {
   "cell_type": "markdown",
   "metadata": {},
   "source": [
    "- fillnan in the 'floor_count', 'year_built', 'age', and 'cloud_coverage' columns by -999"
   ]
  },
  {
   "cell_type": "code",
   "execution_count": null,
   "metadata": {},
   "outputs": [],
   "source": [
    "metadata_train_df.isna().sum().sort_values(ascending=False)"
   ]
  },
  {
   "cell_type": "code",
   "execution_count": null,
   "metadata": {},
   "outputs": [],
   "source": [
    "def fill_nan(df, cols):\n",
    "    for col in cols:\n",
    "        df[col] = df[col].fillna(-999).astype(np.int16)\n",
    "        \n",
    "    return df"
   ]
  },
  {
   "cell_type": "code",
   "execution_count": null,
   "metadata": {},
   "outputs": [],
   "source": [
    "# meta_sample = metadata_train_df.copy()\n",
    "meta_sample.isna().sum().sort_values(ascending=False)"
   ]
  },
  {
   "cell_type": "code",
   "execution_count": null,
   "metadata": {},
   "outputs": [],
   "source": [
    "# type(list(meta_sample.columns))\n",
    "# for i in meta_sample.columns:\n",
    "#     print(meta_sample[i])"
   ]
  },
  {
   "cell_type": "code",
   "execution_count": null,
   "metadata": {},
   "outputs": [],
   "source": [
    "# [meta_sample.columns == 'square_feet']\n",
    "meta_sample['year_built'] = meta_sample['year_built']-1900\n",
    "meta_sample['square_feet'] = np.log(meta_sample['square_feet'])\n",
    "meta_sample.head()"
   ]
  },
  {
   "cell_type": "code",
   "execution_count": null,
   "metadata": {},
   "outputs": [],
   "source": [
    "weather_sample = weather_train_df.copy()\n",
    "weather_sample.head()"
   ]
  },
  {
   "cell_type": "code",
   "execution_count": null,
   "metadata": {},
   "outputs": [],
   "source": [
    "from tqdm import tqdm"
   ]
  },
  {
   "cell_type": "code",
   "execution_count": null,
   "metadata": {},
   "outputs": [],
   "source": [
    "drop_cols = ['precip_depth_1_hr', 'sea_level_pressure', 'wind_direction', 'wind_speed']\n",
    "# weather_sample.drop(drop_cols, axis=1)\n",
    "# target = np.log1(weather_sample['meter_reading'])"
   ]
  },
  {
   "cell_type": "code",
   "execution_count": null,
   "metadata": {},
   "outputs": [],
   "source": [
    "meta_sample_filled = fill_nan(meta_sample, cols=['floor_count', 'year_built'])\n",
    "meta_sample_filled.isna().su"
   ]
  },
  {
   "cell_type": "code",
   "execution_count": null,
   "metadata": {},
   "outputs": [],
   "source": [
    "metadata_train_df.info()"
   ]
  },
  {
   "cell_type": "markdown",
   "metadata": {},
   "source": [
    "## Weather data"
   ]
  },
  {
   "cell_type": "code",
   "execution_count": null,
   "metadata": {},
   "outputs": [],
   "source": [
    "print(weather_train_df.shape)\n",
    "weather_train_df.head(3)"
   ]
  },
  {
   "cell_type": "markdown",
   "metadata": {},
   "source": [
    "# Checking missing values "
   ]
  },
  {
   "cell_type": "code",
   "execution_count": null,
   "metadata": {},
   "outputs": [],
   "source": [
    "# train_df.isna().sum()/len(train_df)"
   ]
  },
  {
   "cell_type": "code",
   "execution_count": null,
   "metadata": {},
   "outputs": [],
   "source": [
    "# metadata_train_df.isna().sum()#/len(building_meta_df)"
   ]
  },
  {
   "cell_type": "code",
   "execution_count": null,
   "metadata": {},
   "outputs": [],
   "source": [
    "# weather_train_df.isna().sum()#/len(weather_train_df)"
   ]
  },
  {
   "cell_type": "code",
   "execution_count": null,
   "metadata": {},
   "outputs": [],
   "source": [
    "weather_train_df.loc[0::8784]"
   ]
  },
  {
   "cell_type": "code",
   "execution_count": null,
   "metadata": {},
   "outputs": [],
   "source": [
    "unique_site_id = np.unique(weather_train_df['site_id'])\n",
    "\n",
    "print(unique_site_id)\n",
    "# site_list = [weather_train_df[x] for x in unique_site_id if weather_train_df['site_id']==x]\n",
    "# site_list\n",
    "df_list = []\n",
    "for i in unique_site_id:\n",
    "    df_list.append(weather_train_df[weather_train_df['site_id']==i])"
   ]
  },
  {
   "cell_type": "code",
   "execution_count": null,
   "metadata": {},
   "outputs": [],
   "source": [
    "df_0= df_list[0]\n",
    "len(df_list)\n",
    "type(df_list)\n",
    "df_0.head()"
   ]
  },
  {
   "cell_type": "code",
   "execution_count": null,
   "metadata": {},
   "outputs": [],
   "source": [
    "def interpolated(df):\n",
    "    df_on = df.set_index('timestamp')\n",
    "#     print(df.head())\n",
    "    df_on = df_on.interpolate(method='time')\n",
    "    df_on = df_on.reset_index()\n",
    "    \n",
    "    return df_on"
   ]
  },
  {
   "cell_type": "code",
   "execution_count": null,
   "metadata": {},
   "outputs": [],
   "source": []
  },
  {
   "cell_type": "code",
   "execution_count": null,
   "metadata": {},
   "outputs": [],
   "source": [
    "df_0_int = interpolated(df_0)"
   ]
  },
  {
   "cell_type": "code",
   "execution_count": null,
   "metadata": {},
   "outputs": [],
   "source": [
    "df_list[0]"
   ]
  },
  {
   "cell_type": "code",
   "execution_count": null,
   "metadata": {},
   "outputs": [],
   "source": [
    "weather_train_df[weather_train_df['site_id']==0].info()"
   ]
  },
  {
   "cell_type": "code",
   "execution_count": null,
   "metadata": {},
   "outputs": [],
   "source": [
    "sample_df = weather_train_df[weather_train_df['site_id']==0]\n",
    "sample_df.head()\n",
    "site_list = \n",
    "for df in "
   ]
  },
  {
   "cell_type": "code",
   "execution_count": null,
   "metadata": {},
   "outputs": [],
   "source": [
    "sample_df.set_index('timestamp', inplace=True)"
   ]
  },
  {
   "cell_type": "code",
   "execution_count": null,
   "metadata": {},
   "outputs": [],
   "source": [
    "sample_df.interpolate(method='time').isna().sum()"
   ]
  },
  {
   "cell_type": "code",
   "execution_count": null,
   "metadata": {},
   "outputs": [],
   "source": [
    "# checking the 'nan' columns \n",
    "nan_cols = [i for i in sample_df.columns if sample_df[i].isnull().any()]\n",
    "sample_df.fillna(-200, inplace=True)\n",
    "nan_cols"
   ]
  },
  {
   "cell_type": "code",
   "execution_count": null,
   "metadata": {},
   "outputs": [],
   "source": [
    "sample_df.head()"
   ]
  },
  {
   "cell_type": "code",
   "execution_count": null,
   "metadata": {
    "scrolled": true
   },
   "outputs": [],
   "source": [
    "# print(nan_cols)\n",
    "for j in nan_cols:\n",
    "    for i in range(0, len(sample_df)):\n",
    "#         sample_df[j].fillna(sample_df[i-1])#, inplace=True)\n",
    "        if sample_df[j][i] == -200:\n",
    "            print(\"yes\")\n",
    "            sample_df[j][i] = sample_df[j][i-1]"
   ]
  },
  {
   "cell_type": "code",
   "execution_count": null,
   "metadata": {},
   "outputs": [],
   "source": [
    "sample_df.head()"
   ]
  },
  {
   "cell_type": "code",
   "execution_count": null,
   "metadata": {},
   "outputs": [],
   "source": [
    "# missing value treatment \n",
    "# cols = sample_df.columns\n",
    "# cols[['air_temperature', 'cloud_coverage', 'dew_temperature']]\n",
    "# col_lst = ['air_temperature', 'cloud_coverage', 'dew_temperature']\n"
   ]
  },
  {
   "cell_type": "code",
   "execution_count": null,
   "metadata": {},
   "outputs": [],
   "source": [
    "sample_df.head()"
   ]
  },
  {
   "cell_type": "code",
   "execution_count": null,
   "metadata": {},
   "outputs": [],
   "source": [
    "cols = sample_df.columns\n",
    "for i in cols:\n",
    "    \n",
    "    sample_df['i'].fillna(sample_df.groupby(by=[sample_df.timestamp.dt.day, sample_df.timestamp.dt.month])['i'].mean()\n",
    "                          #     metadata['year_built'].fillna(-999, inplace=True)\n",
    "# sample_df.groupby(by=[sample_df.timestamp.dt.day, sample_df.timestamp.dt.month]).mean()\n",
    "\n",
    "# .agg(['max', 'mean', 'median', 'count', 'std'])\n",
    "#  df['day_of_month'] = df['timestamp'].dt.day.astype(\"uint8\")"
   ]
  },
  {
   "cell_type": "code",
   "execution_count": null,
   "metadata": {},
   "outputs": [],
   "source": [
    "sample_df.groupby(by=[sample_df.timestamp.dt.day, sample_df.timestamp.dt.month])['air_temperature'].mean()"
   ]
  },
  {
   "cell_type": "code",
   "execution_count": null,
   "metadata": {},
   "outputs": [],
   "source": [
    "sample_df.head()"
   ]
  },
  {
   "cell_type": "markdown",
   "metadata": {},
   "source": [
    "# Replacing meter's"
   ]
  },
  {
   "cell_type": "code",
   "execution_count": null,
   "metadata": {},
   "outputs": [],
   "source": [
    "print(train_df['meter'].value_counts())"
   ]
  },
  {
   "cell_type": "code",
   "execution_count": null,
   "metadata": {},
   "outputs": [],
   "source": [
    "train_df['meter'].replace({0:\"Electricity\",1:\"ChilledWater\", 2:\"Steam\",3:\"HotWater\"}, inplace=True)\n",
    "train_df['meter'].value_counts()"
   ]
  },
  {
   "cell_type": "code",
   "execution_count": null,
   "metadata": {},
   "outputs": [],
   "source": [
    "import seaborn as sns \n",
    "sns.set(style='darkgrid')\n",
    "# sns.set_style(\"darkgrid\", {\"axes.facecolor\": \".9\"})\n",
    "# sns.set_context('talk')\n",
    "sns.countplot(train_df['meter'], order=train_df['meter'].value_counts().index)\n",
    "plt.title('Distribution of Meter Id Code')\n",
    "plt.xlabel('Meter Id Code')\n",
    "plt.ylabel('Frequency');"
   ]
  },
  {
   "cell_type": "code",
   "execution_count": null,
   "metadata": {},
   "outputs": [],
   "source": [
    "print (\"There are {} unique Buildings in the training data\".format(train_df['building_id'].nunique()))"
   ]
  },
  {
   "cell_type": "markdown",
   "metadata": {},
   "source": [
    "Like it is mentioned in the competition description, each building may or may not have all 4 meter"
   ]
  },
  {
   "cell_type": "code",
   "execution_count": null,
   "metadata": {},
   "outputs": [],
   "source": [
    "train_df.groupby('meter')['meter_reading'].agg(['min','max','mean','median', 'count', 'std'])"
   ]
  },
  {
   "cell_type": "markdown",
   "metadata": {},
   "source": [
    "## Building Metadata:"
   ]
  },
  {
   "cell_type": "code",
   "execution_count": null,
   "metadata": {},
   "outputs": [],
   "source": [
    "# metadata\n",
    "sns.countplot(building_meta_df['primary_use'], order=building_meta_df['primary_use'].value_counts().index)\n",
    "plt.title('Distribution of Primary use of Buildings')\n",
    "plt.xlabel('Building types')\n",
    "plt.ylabel('Frequency');"
   ]
  },
  {
   "cell_type": "code",
   "execution_count": null,
   "metadata": {},
   "outputs": [],
   "source": [
    "# Building floor count\n",
    "sns.countplot(building_meta_df['floor_count'], order=building_meta_df['floor_count'].value_counts().index)\n",
    "plt.title('Floor counts')\n",
    "plt.xlabel('Floors')\n",
    "plt.ylabel('Frequency');"
   ]
  },
  {
   "cell_type": "code",
   "execution_count": null,
   "metadata": {},
   "outputs": [],
   "source": [
    "# year built \n",
    "sns.countplot(building_meta_df['year_built'], order=building_meta_df['year_built'].value_counts().index)\n",
    "plt.title('Year built')\n",
    "plt.xlabel('Years')\n",
    "plt.ylabel('Frequency');"
   ]
  },
  {
   "cell_type": "code",
   "execution_count": null,
   "metadata": {},
   "outputs": [],
   "source": [
    "# fig = px.scatter(metadata, y=\"square_feet\", x=\"year_built\", color=\"primary_use\", size=\"square_feet\")\n",
    "# fig.update_layout(showlegend=True)\n",
    "# fig.show()"
   ]
  },
  {
   "cell_type": "code",
   "execution_count": null,
   "metadata": {},
   "outputs": [],
   "source": [
    "for df in [train_df]:\n",
    "    df['month'] = df['timestamp'].dt.month.astype(\"uint8\")\n",
    "    df['day_of_month'] = df['timestamp'].dt.day.astype(\"uint8\")\n",
    "    df['day_of_week'] = df['timestamp'].dt.dayofweek.astype(\"uint8\")\n",
    "    df['hour'] = df['timestamp'].dt.hour.astype(\"uint8\")"
   ]
  },
  {
   "cell_type": "code",
   "execution_count": null,
   "metadata": {},
   "outputs": [],
   "source": [
    "def split_timestamp(df):\n",
    "    df['month'] = df['timestamp'].dt.month.astype('uint8')\n",
    "    df['day_of_month'] = df['timestamp'].dt.day.astype('uint8')\n",
    "    df['day_of_week'] = df['timestamp'].dt.dayofweek.astype('uint8')\n",
    "    df['hour'] = df['timestamp'].dt.hour.astype('uint8')\n",
    "    \n",
    "    return df"
   ]
  },
  {
   "cell_type": "markdown",
   "metadata": {},
   "source": [
    "### Grouping by meter and month"
   ]
  },
  {
   "cell_type": "code",
   "execution_count": null,
   "metadata": {},
   "outputs": [],
   "source": [
    "train_df = split_timestamp(train_df)\n",
    "# pd.set_option('display.float_format', lambda x: '%.3f' % x)\n",
    "train_df.groupby(['meter', 'month'])['meter_reading'].agg(['max', 'mean', 'median', 'count', 'std'])"
   ]
  },
  {
   "cell_type": "code",
   "execution_count": null,
   "metadata": {},
   "outputs": [],
   "source": [
    "train.drop(columns=['Month', 'DayOfMonth', 'DayOfWeek', 'Hour'], inplace=True)\n",
    "train.head(1)"
   ]
  },
  {
   "cell_type": "code",
   "execution_count": null,
   "metadata": {},
   "outputs": [],
   "source": [
    "train_df.groupby(['meter', 'day_of_week'])['meter_reading'].agg(['max', 'mean', 'median', 'count', 'std'])"
   ]
  },
  {
   "cell_type": "code",
   "execution_count": null,
   "metadata": {},
   "outputs": [],
   "source": [
    "sns.distplot(np.log1p(train_df['meter_reading']), kde=False)\n",
    "plt.title('Distribution of log of meter reading variable')"
   ]
  },
  {
   "cell_type": "code",
   "execution_count": null,
   "metadata": {},
   "outputs": [],
   "source": [
    "sns.boxplot(train_df[train_df['meter'] == \"Electricity\"]['meter_reading']);\n",
    "plt.title(\"Boxplot of Meter Reading Variable for the Meter Type: Electricity\");\n",
    "# We can see a few outliers here. "
   ]
  },
  {
   "cell_type": "code",
   "execution_count": null,
   "metadata": {},
   "outputs": [],
   "source": [
    "sns.boxplot(train_df[train_df['meter'] == \"ChilledWater\"]['meter_reading']);\n",
    "plt.title(\"Boxplot of Meter Reading Variable for the Meter Type: ChilledWater\");\n",
    "# Not many outliers here."
   ]
  },
  {
   "cell_type": "code",
   "execution_count": null,
   "metadata": {},
   "outputs": [],
   "source": [
    "sns.boxplot(train_df[train_df['meter'] == \"HotWater\"]['meter_reading']);\n",
    "plt.title(\"Boxplot of Meter Reading Variable for the Meter Type: HotWater\");\n",
    "# We can see a single value that is way off from the rest. "
   ]
  },
  {
   "cell_type": "code",
   "execution_count": null,
   "metadata": {},
   "outputs": [],
   "source": [
    "sns.boxplot(train_df[train_df['meter'] == \"Steam\"]['meter_reading']);\n",
    "plt.title(\"Boxplot of Meter Reading Variable for the Meter Type: Steam\");\n",
    "# We can see a few outliers here. "
   ]
  },
  {
   "cell_type": "markdown",
   "metadata": {},
   "source": [
    "### Converting the dependent variable to logarithmic scale"
   ]
  },
  {
   "cell_type": "code",
   "execution_count": null,
   "metadata": {},
   "outputs": [],
   "source": [
    "train_df.head()"
   ]
  },
  {
   "cell_type": "code",
   "execution_count": null,
   "metadata": {},
   "outputs": [],
   "source": [
    "train_df['meter_reading'] = np.log1p(train_df['meter_reading'])\n",
    "train_df.head()"
   ]
  },
  {
   "cell_type": "code",
   "execution_count": null,
   "metadata": {},
   "outputs": [],
   "source": [
    "sns.distplot(train_df[train_df['meter'] == \"Electricity\"]['meter_reading'],kde=False)\n",
    "plt.title(\"Distribution of Meter Reading per MeterID code: Electricity\")"
   ]
  },
  {
   "cell_type": "code",
   "execution_count": null,
   "metadata": {},
   "outputs": [],
   "source": [
    "sns.distplot(train_df[train_df['meter'] == \"ChilledWater\"]['meter_reading'],kde=False)\n",
    "plt.title(\"Distribution of Meter Reading per MeterID code: Chilledwater\")"
   ]
  },
  {
   "cell_type": "code",
   "execution_count": null,
   "metadata": {},
   "outputs": [],
   "source": [
    "sns.distplot(train_df[train_df['meter'] == \"Steam\"]['meter_reading'],kde=False)\n",
    "plt.title(\"Distribution of Meter Reading per MeterID code: Steam\")"
   ]
  },
  {
   "cell_type": "code",
   "execution_count": null,
   "metadata": {},
   "outputs": [],
   "source": [
    "sns.distplot(train_df[train_df['meter'] == \"HotWater\"]['meter_reading'],kde=False)\n",
    "plt.title(\"Distribution of Meter Reading per MeterID code: Hotwater\")"
   ]
  },
  {
   "cell_type": "code",
   "execution_count": null,
   "metadata": {},
   "outputs": [],
   "source": [
    "train_df.head(3)"
   ]
  },
  {
   "cell_type": "markdown",
   "metadata": {},
   "source": [
    "## Metadata "
   ]
  },
  {
   "cell_type": "code",
   "execution_count": null,
   "metadata": {},
   "outputs": [],
   "source": [
    "building_meta_df.info()\n",
    "# Missing values in year_built and floor_count variables"
   ]
  },
  {
   "cell_type": "code",
   "execution_count": null,
   "metadata": {},
   "outputs": [],
   "source": [
    "building_meta_df.head(3)"
   ]
  },
  {
   "cell_type": "code",
   "execution_count": null,
   "metadata": {},
   "outputs": [],
   "source": [
    "cols = ['site_id','primary_use','year_built','floor_count','building_id']\n",
    "for col in cols:\n",
    "    print (\"Number of Unique Values in the {} column are:\".format(col),building_meta_df[col].nunique())"
   ]
  },
  {
   "cell_type": "code",
   "execution_count": null,
   "metadata": {},
   "outputs": [],
   "source": [
    "cols = ['site_id','primary_use','floor_count']\n",
    "for col in cols:\n",
    "    print (\"Unique Values in the {} column are:\".format(col),building_meta_df[col].unique())\n",
    "    print (\"\\n\")"
   ]
  },
  {
   "cell_type": "code",
   "execution_count": null,
   "metadata": {},
   "outputs": [],
   "source": [
    "sns.countplot(building_meta_df['site_id'])\n",
    "plt.title(\"Count of Site_id in the Metadata table\")\n",
    "plt.xlabel(\"Site_Id\")\n",
    "plt.ylabel(\"Count\")"
   ]
  },
  {
   "cell_type": "code",
   "execution_count": null,
   "metadata": {},
   "outputs": [],
   "source": [
    "plt.figure(figsize=(8,6))\n",
    "building_meta_df['primary_use'].value_counts().sort_values().plot(kind='bar')\n",
    "plt.title(\"Count of Primary_Use Variable in the Metadata table\")\n",
    "plt.xlabel(\"Primary Use\")\n",
    "plt.ylabel(\"Count\")\n",
    "plt.xticks(rotation=90);\n",
    "# Education, Office, Entertainment/Public Assembly, Public Services, Lodging/Residential form the bulk of Primary Use"
   ]
  },
  {
   "cell_type": "code",
   "execution_count": null,
   "metadata": {},
   "outputs": [],
   "source": [
    "building_meta_df['square_feet'].describe()"
   ]
  },
  {
   "cell_type": "code",
   "execution_count": null,
   "metadata": {},
   "outputs": [],
   "source": [
    "sns.boxplot(building_meta_df['square_feet']);"
   ]
  },
  {
   "cell_type": "code",
   "execution_count": null,
   "metadata": {},
   "outputs": [],
   "source": [
    "building_meta_df['square_feet'] = np.log1p(building_meta_df['square_feet'])"
   ]
  },
  {
   "cell_type": "code",
   "execution_count": null,
   "metadata": {},
   "outputs": [],
   "source": [
    "sns.distplot(building_meta_df['square_feet'])\n",
    "plt.title(\"Distribution of Square Feet variable of Metadata Table\")\n",
    "plt.xlabel(\"Area in Square Feet\")\n",
    "plt.ylabel(\"Frequency\");\n",
    "# Looks like a normal distribution distribution"
   ]
  },
  {
   "cell_type": "code",
   "execution_count": null,
   "metadata": {},
   "outputs": [],
   "source": [
    "sns.boxplot(building_meta_df['square_feet'])\n",
    "plt.title(\"Box Plot of Square Feet Variable\");\n",
    "# There are a few outliers visible"
   ]
  },
  {
   "cell_type": "code",
   "execution_count": null,
   "metadata": {},
   "outputs": [],
   "source": [
    "building_meta_df.groupby('primary_use')['square_feet'].agg(['mean','median','count']).sort_values(by='count')\n",
    "# Parking has the highest average are although the count is less.\n",
    "# Education has the highest count as can be seen in the countplot above."
   ]
  },
  {
   "cell_type": "code",
   "execution_count": null,
   "metadata": {},
   "outputs": [],
   "source": [
    "building_meta_df['year_built'].value_counts().sort_values().plot(kind='bar',figsize=(15,6))\n",
    "plt.xlabel(\"Year Built\")\n",
    "plt.ylabel(\"Count\")\n",
    "plt.title(\"Distribution of Year Built Variable\");"
   ]
  },
  {
   "cell_type": "code",
   "execution_count": null,
   "metadata": {},
   "outputs": [],
   "source": [
    "building_meta_df['floor_count'].value_counts(dropna=False).sort_index().plot(kind='bar',figsize=(8,6))\n",
    "plt.xlabel(\"Number of Floors\")\n",
    "plt.ylabel(\"Count of Buildings\");\n",
    "# Lot of missing values here as well\n",
    "# Maximum number of floors is 26"
   ]
  },
  {
   "cell_type": "code",
   "execution_count": null,
   "metadata": {},
   "outputs": [],
   "source": [
    "building_meta_df.groupby('floor_count')['square_feet'].agg(['count','mean','median']).sort_values(by='count')"
   ]
  },
  {
   "cell_type": "code",
   "execution_count": null,
   "metadata": {},
   "outputs": [],
   "source": [
    "building_meta_df.groupby('primary_use')['square_feet'].agg(['count','mean','median']).sort_values(by='count')"
   ]
  },
  {
   "cell_type": "code",
   "execution_count": null,
   "metadata": {},
   "outputs": [],
   "source": [
    "metadata['year_built'].fillna(-999, inplace=True)\n",
    "metadata['year_built'] = metadata['year_built'].astype('int16')\n",
    "metadata['floor_count'].fillna(-999, inplace=True)\n",
    "metadata['floor_count'] = metadata['floor_count'].astype('float32')"
   ]
  },
  {
   "cell_type": "code",
   "execution_count": null,
   "metadata": {},
   "outputs": [],
   "source": [
    "metadata.head(3)"
   ]
  },
  {
   "cell_type": "markdown",
   "metadata": {},
   "source": [
    "## Weather Data (Train)"
   ]
  },
  {
   "cell_type": "code",
   "execution_count": null,
   "metadata": {},
   "outputs": [],
   "source": [
    "weather_train_df.head(3)"
   ]
  },
  {
   "cell_type": "code",
   "execution_count": null,
   "metadata": {},
   "outputs": [],
   "source": [
    "cols = ['air_temperature','cloud_coverage','dew_temperature','precip_depth_1_hr','sea_level_pressure','wind_direction','wind_speed']\n",
    "for col in cols:\n",
    "    print (\" Minimum Value of {} column is {}\".format(col,weather_train[col].min()))\n",
    "    print (\" Maximum Value of {} column is {}\".format(col,weather_train[col].max()))\n",
    "    print (\"----------------------------------------------------------------------\")"
   ]
  },
  {
   "cell_type": "code",
   "execution_count": null,
   "metadata": {},
   "outputs": [],
   "source": [
    "weather_train_df.isna().sum()/len(weather_train_df)"
   ]
  },
  {
   "cell_type": "code",
   "execution_count": null,
   "metadata": {},
   "outputs": [],
   "source": [
    "weather_train_df[['air_temperature','cloud_coverage','dew_temperature','precip_depth_1_hr','sea_level_pressure','wind_speed']].describe()"
   ]
  },
  {
   "cell_type": "code",
   "execution_count": null,
   "metadata": {},
   "outputs": [],
   "source": [
    "print(weather_train['timestamp'].min())\n",
    "print(weather_train['timestamp'].max())\n",
    "print(len( weather_train['timestamp']))\n",
    "# This data is from 1st Jan to 31st Dec 2016, similar to the timestamp of the training data"
   ]
  },
  {
   "cell_type": "code",
   "execution_count": null,
   "metadata": {},
   "outputs": [],
   "source": [
    "cols = ['air_temperature','cloud_coverage','dew_temperature','precip_depth_1_hr','sea_level_pressure','wind_speed']\n",
    "for ind,col in enumerate(weather_train[cols]):\n",
    "    plt.figure(ind)\n",
    "    sns.distplot(weather_train[col].dropna())"
   ]
  },
  {
   "cell_type": "code",
   "execution_count": null,
   "metadata": {},
   "outputs": [],
   "source": [
    "cols = ['air_temperature','cloud_coverage','dew_temperature','precip_depth_1_hr','sea_level_pressure','wind_speed']\n",
    "for ind,col in enumerate(weather_train[cols]):\n",
    "    plt.figure(ind)\n",
    "    sns.boxplot(weather_train[col].dropna())"
   ]
  },
  {
   "cell_type": "markdown",
   "metadata": {},
   "source": [
    "# Merging Data"
   ]
  },
  {
   "cell_type": "code",
   "execution_count": null,
   "metadata": {},
   "outputs": [],
   "source": [
    "train.head(3)"
   ]
  },
  {
   "cell_type": "code",
   "execution_count": null,
   "metadata": {},
   "outputs": [],
   "source": [
    "metadata.head(3)"
   ]
  },
  {
   "cell_type": "code",
   "execution_count": null,
   "metadata": {},
   "outputs": [],
   "source": [
    "weather_train.dtypes"
   ]
  },
  {
   "cell_type": "code",
   "execution_count": null,
   "metadata": {},
   "outputs": [],
   "source": [
    "train.columns\n",
    "train_df.columns"
   ]
  },
  {
   "cell_type": "code",
   "execution_count": null,
   "metadata": {},
   "outputs": [],
   "source": [
    "import gc\n",
    "from time import time \n",
    "# %%time\n",
    "train_data = pd.merge(train_df,building_meta_df,on='building_id',how='left')\n",
    "# test  = pd.merge(test,metadata,on='building_id',how='left')\n",
    "print (\"Training Data Shape {}\".format(train_data.shape))\n",
    "# print (\"Testing Data Shape {}\".format(test.shape))\n",
    "gc.collect()"
   ]
  },
  {
   "cell_type": "code",
   "execution_count": null,
   "metadata": {},
   "outputs": [],
   "source": [
    "\n",
    "train_data.dtypes"
   ]
  },
  {
   "cell_type": "code",
   "execution_count": null,
   "metadata": {},
   "outputs": [],
   "source": [
    "# %%time\n",
    "train = pd.merge(train_data,weather_train,on=['site_id','timestamp'],how='left')\n",
    "# test  = pd.merge(test,weather_test,on=['site_id','timestamp'],how='left')\n",
    "print (\"Training Data Shape {}\".format(train.shape))\n",
    "# print (\"Testing Data Shape {}\".format(test.shape))\n",
    "# gc.collect()"
   ]
  },
  {
   "cell_type": "code",
   "execution_count": null,
   "metadata": {},
   "outputs": [],
   "source": [
    "train.head(3)"
   ]
  },
  {
   "cell_type": "code",
   "execution_count": null,
   "metadata": {},
   "outputs": [],
   "source": [
    "\n",
    "cols = ['air_temperature','cloud_coverage','dew_temperature','precip_depth_1_hr','sea_level_pressure','wind_direction','wind_speed']\n",
    "for col in cols:\n",
    "    train[col].fillna(train[col].mean(),inplace=True)\n",
    "#     test[col].fillna(test[col].mean(),inplace=True)\n",
    "    \n",
    "del metadata, weather_train#, weather_test"
   ]
  },
  {
   "cell_type": "code",
   "execution_count": null,
   "metadata": {},
   "outputs": [],
   "source": [
    "train.columns"
   ]
  },
  {
   "cell_type": "code",
   "execution_count": null,
   "metadata": {},
   "outputs": [],
   "source": []
  }
 ],
 "metadata": {
  "kernelspec": {
   "display_name": "Python 3",
   "language": "python",
   "name": "python3"
  },
  "language_info": {
   "codemirror_mode": {
    "name": "ipython",
    "version": 3
   },
   "file_extension": ".py",
   "mimetype": "text/x-python",
   "name": "python",
   "nbconvert_exporter": "python",
   "pygments_lexer": "ipython3",
   "version": "3.5.3"
  },
  "toc": {
   "base_numbering": 1,
   "nav_menu": {},
   "number_sections": true,
   "sideBar": true,
   "skip_h1_title": false,
   "title_cell": "Table of Contents",
   "title_sidebar": "Contents",
   "toc_cell": false,
   "toc_position": {},
   "toc_section_display": true,
   "toc_window_display": false
  }
 },
 "nbformat": 4,
 "nbformat_minor": 4
}
