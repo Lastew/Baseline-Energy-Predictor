{
 "cells": [
  {
   "cell_type": "code",
   "execution_count": null,
   "metadata": {},
   "outputs": [],
   "source": [
    "# Data analysis packages:\n",
    "import pandas as pd\n",
    "import numpy as np\n",
    "# pd.set_option('display.float_format', lambda x: '%.5f'%x)\n",
    "#from datetime import datetime as dt\n",
    "\n",
    "# Visualization packages:\n",
    "import seaborn as sns\n",
    "import matplotlib.pyplot as plt\n",
    "%matplotlib inline"
   ]
  },
  {
   "cell_type": "markdown",
   "metadata": {},
   "source": [
    "### Metadata"
   ]
  },
  {
   "cell_type": "code",
   "execution_count": null,
   "metadata": {},
   "outputs": [],
   "source": [
    "metadata = pd.read_csv(\"data/building_metadata.csv\")\n",
    "print(metadata.shape)\n",
    "print(metadata['site_id'].unique())\n",
    "print(metadata.info(memory_usage='deep'))\n",
    "metadata.head(3)"
   ]
  },
  {
   "cell_type": "markdown",
   "metadata": {},
   "source": [
    "### Weather data"
   ]
  },
  {
   "cell_type": "code",
   "execution_count": null,
   "metadata": {},
   "outputs": [],
   "source": [
    "weather_train = pd.read_csv(\"data/weather_train.csv\", parse_dates=['timestamp'])\n",
    "print(weather_train.shape)\n",
    "print(weather_train['site_id'].unique())\n",
    "print(weather_train.info(memory_usage='deep'))\n",
    "weather_train.head(3)"
   ]
  },
  {
   "cell_type": "code",
   "execution_count": null,
   "metadata": {},
   "outputs": [],
   "source": [
    "train = pd.read_csv(\"data/train.csv\", parse_dates=['timestamp'])\n",
    "print(train.shape)\n",
    "# print(train['site_id'].unique())\n",
    "# train.meter_reading.value_counts()\n",
    "train.info()"
   ]
  },
  {
   "cell_type": "markdown",
   "metadata": {},
   "source": [
    "### Dealing with missing values "
   ]
  },
  {
   "cell_type": "code",
   "execution_count": null,
   "metadata": {},
   "outputs": [],
   "source": [
    "missing_weather = pd.DataFrame(weather_train.isna().sum()/len(weather_train),columns=[\"Weather_Train_Missing_Pct\"])\n",
    "# missing_weather[\"Weather_Test_Missing_Pct\"] = weather_test.isna().sum()/len(weather_test)\n",
    "missing_weather"
   ]
  },
  {
   "cell_type": "code",
   "execution_count": null,
   "metadata": {},
   "outputs": [],
   "source": [
    "# missing values \n",
    "metadata.isna().sum()/len(metadata)"
   ]
  },
  {
   "cell_type": "code",
   "execution_count": null,
   "metadata": {},
   "outputs": [],
   "source": [
    "train.isna().sum()/len(train)"
   ]
  },
  {
   "cell_type": "code",
   "execution_count": null,
   "metadata": {},
   "outputs": [],
   "source": [
    "train.describe().T"
   ]
  },
  {
   "cell_type": "code",
   "execution_count": null,
   "metadata": {},
   "outputs": [],
   "source": [
    "print(train['meter'].value_counts())\n",
    "train.head(3)"
   ]
  },
  {
   "cell_type": "code",
   "execution_count": null,
   "metadata": {},
   "outputs": [],
   "source": [
    "train['meter'].replace({0:\"Electricity\",1:\"ChilledWater\",\n",
    "                       2:\"Steam\",3:\"HotWater\"}, inplace=True)\n",
    "train.head(3)"
   ]
  },
  {
   "cell_type": "code",
   "execution_count": null,
   "metadata": {},
   "outputs": [],
   "source": [
    "import seaborn as sns \n",
    "# sns.set(style='darkgrid')\n",
    "sns.set_style(\"darkgrid\", {\"axes.facecolor\": \".9\"})\n",
    "# sns.set_context('talk')\n",
    "sns.countplot(train['meter'], order=train['meter'].value_counts().index)\n",
    "plt.title('Distribution of Meter Id Code')\n",
    "plt.xlabel('Meter Id Code')\n",
    "plt.ylabel('Frequency');"
   ]
  },
  {
   "cell_type": "code",
   "execution_count": null,
   "metadata": {},
   "outputs": [],
   "source": [
    "print (\"There are {} unique Buildings in the training data\".format(train['building_id'].nunique()))"
   ]
  },
  {
   "cell_type": "code",
   "execution_count": null,
   "metadata": {},
   "outputs": [],
   "source": [
    "train.building_id.value_counts(dropna=False).head(3)"
   ]
  },
  {
   "cell_type": "markdown",
   "metadata": {},
   "source": [
    "Like it is mentioned in the competition description, each building may or may not have all 4 meter"
   ]
  },
  {
   "cell_type": "code",
   "execution_count": null,
   "metadata": {},
   "outputs": [],
   "source": [
    "train[train['building_id'] == 1094]['meter'].unique()"
   ]
  },
  {
   "cell_type": "code",
   "execution_count": null,
   "metadata": {},
   "outputs": [],
   "source": [
    "train.head(1)"
   ]
  },
  {
   "cell_type": "code",
   "execution_count": null,
   "metadata": {},
   "outputs": [],
   "source": [
    "train.groupby('meter')['meter_reading'].agg(['min','max','mean','median', 'count', 'std'])"
   ]
  },
  {
   "cell_type": "code",
   "execution_count": null,
   "metadata": {},
   "outputs": [],
   "source": [
    "for df in [train]:\n",
    "    df['month'] = df['timestamp'].dt.month.astype(\"uint8\")\n",
    "    df['day_of_month'] = df['timestamp'].dt.day.astype(\"uint8\")\n",
    "    df['day_of_week'] = df['timestamp'].dt.dayofweek.astype(\"uint8\")\n",
    "    df['hour'] = df['timestamp'].dt.hour.astype(\"uint8\")"
   ]
  },
  {
   "cell_type": "code",
   "execution_count": null,
   "metadata": {},
   "outputs": [],
   "source": [
    "train.drop(columns=['Month', 'DayOfMonth', 'DayOfWeek', 'Hour'], inplace=True)\n",
    "train.head(1)"
   ]
  },
  {
   "cell_type": "code",
   "execution_count": null,
   "metadata": {},
   "outputs": [],
   "source": [
    "train.groupby(['meter', 'month'])['meter_reading'].agg(['max', 'mean', 'median', 'count', 'std'])"
   ]
  },
  {
   "cell_type": "code",
   "execution_count": null,
   "metadata": {},
   "outputs": [],
   "source": [
    "train.groupby(['meter', 'day_of_week'])['meter_reading'].agg(['max', 'mean', 'median', 'count', 'std'])"
   ]
  },
  {
   "cell_type": "code",
   "execution_count": null,
   "metadata": {},
   "outputs": [],
   "source": [
    "train.head(1)"
   ]
  },
  {
   "cell_type": "code",
   "execution_count": null,
   "metadata": {},
   "outputs": [],
   "source": [
    "train['meter_reading'].describe()"
   ]
  },
  {
   "cell_type": "code",
   "execution_count": null,
   "metadata": {},
   "outputs": [],
   "source": [
    "sns.distplot(np.log1p(train['meter_reading']), kde=False)\n",
    "plt.title('Distribution of log of meter reading variable')"
   ]
  },
  {
   "cell_type": "code",
   "execution_count": null,
   "metadata": {},
   "outputs": [],
   "source": [
    "sns.boxplot(train[train['meter'] == \"Electricity\"]['meter_reading']);\n",
    "plt.title(\"Boxplot of Meter Reading Variable for the Meter Type: Electricity\");\n",
    "# We can see a few outliers here. "
   ]
  },
  {
   "cell_type": "code",
   "execution_count": null,
   "metadata": {},
   "outputs": [],
   "source": [
    "sns.boxplot(train[train['meter'] == \"ChilledWater\"]['meter_reading']);\n",
    "plt.title(\"Boxplot of Meter Reading Variable for the Meter Type: ChilledWater\");\n",
    "# Not many outliers here."
   ]
  },
  {
   "cell_type": "code",
   "execution_count": null,
   "metadata": {},
   "outputs": [],
   "source": [
    "sns.boxplot(train[train['meter'] == \"HotWater\"]['meter_reading']);\n",
    "plt.title(\"Boxplot of Meter Reading Variable for the Meter Type: HotWater\");\n",
    "# We can see a single value that is way off from the rest. "
   ]
  },
  {
   "cell_type": "code",
   "execution_count": null,
   "metadata": {},
   "outputs": [],
   "source": [
    "sns.boxplot(train[train['meter'] == \"Steam\"]['meter_reading']);\n",
    "plt.title(\"Boxplot of Meter Reading Variable for the Meter Type: Steam\");\n",
    "# We can see a few outliers here. "
   ]
  },
  {
   "cell_type": "markdown",
   "metadata": {},
   "source": [
    "### Converting the dependent variable to logarithmic scale"
   ]
  },
  {
   "cell_type": "code",
   "execution_count": null,
   "metadata": {},
   "outputs": [],
   "source": [
    "train['meter_reading'] = np.log1p(train['meter_reading'])\n"
   ]
  },
  {
   "cell_type": "code",
   "execution_count": null,
   "metadata": {},
   "outputs": [],
   "source": [
    "sns.distplot(train[train['meter'] == \"Electricity\"]['meter_reading'],kde=False)\n",
    "plt.title(\"Distribution of Meter Reading per MeterID code: Electricity\")"
   ]
  },
  {
   "cell_type": "code",
   "execution_count": null,
   "metadata": {},
   "outputs": [],
   "source": [
    "sns.distplot(train[train['meter'] == \"ChilledWater\"]['meter_reading'],kde=False)\n",
    "plt.title(\"Distribution of Meter Reading per MeterID code: Chilledwater\")"
   ]
  },
  {
   "cell_type": "code",
   "execution_count": null,
   "metadata": {},
   "outputs": [],
   "source": [
    "sns.distplot(train[train['meter'] == \"Steam\"]['meter_reading'],kde=False)\n",
    "plt.title(\"Distribution of Meter Reading per MeterID code: Steam\")"
   ]
  },
  {
   "cell_type": "code",
   "execution_count": null,
   "metadata": {},
   "outputs": [],
   "source": [
    "sns.distplot(train[train['meter'] == \"HotWater\"]['meter_reading'],kde=False)\n",
    "plt.title(\"Distribution of Meter Reading per MeterID code: Hotwater\")"
   ]
  },
  {
   "cell_type": "code",
   "execution_count": null,
   "metadata": {},
   "outputs": [],
   "source": [
    "train.head(1)"
   ]
  },
  {
   "cell_type": "markdown",
   "metadata": {},
   "source": [
    "## Metadata "
   ]
  },
  {
   "cell_type": "code",
   "execution_count": null,
   "metadata": {},
   "outputs": [],
   "source": [
    "metadata.info()\n",
    "# Missing values in year_built and floor_count variables"
   ]
  },
  {
   "cell_type": "code",
   "execution_count": null,
   "metadata": {},
   "outputs": [],
   "source": [
    "metadata.head(3)"
   ]
  },
  {
   "cell_type": "code",
   "execution_count": null,
   "metadata": {},
   "outputs": [],
   "source": [
    "cols = ['site_id','primary_use','year_built','floor_count','building_id']\n",
    "for col in cols:\n",
    "    print (\"Number of Unique Values in the {} column are:\".format(col),metadata[col].nunique())"
   ]
  },
  {
   "cell_type": "code",
   "execution_count": null,
   "metadata": {},
   "outputs": [],
   "source": [
    "cols = ['site_id','primary_use','floor_count']\n",
    "for col in cols:\n",
    "    print (\"Unique Values in the {} column are:\".format(col),metadata[col].unique())\n",
    "    print (\"\\n\")"
   ]
  },
  {
   "cell_type": "code",
   "execution_count": null,
   "metadata": {},
   "outputs": [],
   "source": [
    "sns.countplot(metadata['site_id'])\n",
    "plt.title(\"Count of Site_id in the Metadata table\")\n",
    "plt.xlabel(\"Site_Id\")\n",
    "plt.ylabel(\"Count\")"
   ]
  },
  {
   "cell_type": "code",
   "execution_count": null,
   "metadata": {},
   "outputs": [],
   "source": [
    "plt.figure(figsize=(8,6))\n",
    "metadata['primary_use'].value_counts().sort_values().plot(kind='bar')\n",
    "plt.title(\"Count of Primary_Use Variable in the Metadata table\")\n",
    "plt.xlabel(\"Primary Use\")\n",
    "plt.ylabel(\"Count\")\n",
    "plt.xticks(rotation=90)\n",
    "# Education, Office, Entertainment/Public Assembly, Public Services, Lodging/Residential form the bulk of Primary Use"
   ]
  },
  {
   "cell_type": "code",
   "execution_count": null,
   "metadata": {},
   "outputs": [],
   "source": [
    "metadata['square_feet'].describe()"
   ]
  },
  {
   "cell_type": "code",
   "execution_count": null,
   "metadata": {},
   "outputs": [],
   "source": [
    "sns.boxplot(metadata['square_feet'])"
   ]
  },
  {
   "cell_type": "code",
   "execution_count": null,
   "metadata": {},
   "outputs": [],
   "source": [
    "metadata['square_feet'] = np.log1p(metadata['square_feet'])"
   ]
  },
  {
   "cell_type": "code",
   "execution_count": null,
   "metadata": {},
   "outputs": [],
   "source": [
    "sns.distplot(metadata['square_feet'])\n",
    "plt.title(\"Distribution of Square Feet variable of Metadata Table\")\n",
    "plt.xlabel(\"Area in Square Feet\")\n",
    "plt.ylabel(\"Frequency\")\n",
    "# Looks like a normal distribution distribution"
   ]
  },
  {
   "cell_type": "code",
   "execution_count": null,
   "metadata": {},
   "outputs": [],
   "source": [
    "sns.boxplot(metadata['square_feet'])\n",
    "plt.title(\"Box Plot of Square Feet Variable\")\n",
    "# There are a few outliers visible"
   ]
  },
  {
   "cell_type": "code",
   "execution_count": null,
   "metadata": {},
   "outputs": [],
   "source": [
    "metadata.groupby('primary_use')['square_feet'].agg(['mean','median','count']).sort_values(by='count')\n",
    "# Parking has the highest average are although the count is less.\n",
    "# Education has the highest count as can be seen in the countplot above."
   ]
  },
  {
   "cell_type": "code",
   "execution_count": null,
   "metadata": {},
   "outputs": [],
   "source": [
    "metadata['year_built'].value_counts().sort_values().plot(kind='bar',figsize=(15,6))\n",
    "plt.xlabel(\"Year Built\")\n",
    "plt.ylabel(\"Count\")\n",
    "plt.title(\"Distribution of Year Built Variable\")"
   ]
  },
  {
   "cell_type": "code",
   "execution_count": null,
   "metadata": {},
   "outputs": [],
   "source": [
    "metadata['floor_count'].value_counts(dropna=False).sort_index().plot(kind='bar',figsize=(8,6))\n",
    "plt.xlabel(\"Number of Floors\")\n",
    "plt.ylabel(\"Count of Buildings\")\n",
    "# Lot of missing values here as well\n",
    "# Maximum number of floors is 26"
   ]
  },
  {
   "cell_type": "code",
   "execution_count": null,
   "metadata": {},
   "outputs": [],
   "source": [
    "metadata.groupby('floor_count')['square_feet'].agg(['count','mean','median']).sort_values(by='count')"
   ]
  },
  {
   "cell_type": "code",
   "execution_count": null,
   "metadata": {},
   "outputs": [],
   "source": [
    "metadata.groupby('primary_use')['square_feet'].agg(['count','mean','median']).sort_values(by='count')"
   ]
  },
  {
   "cell_type": "code",
   "execution_count": null,
   "metadata": {},
   "outputs": [],
   "source": [
    "metadata['year_built'].fillna(-999, inplace=True)\n",
    "metadata['year_built'] = metadata['year_built'].astype('int16')\n",
    "metadata['floor_count'].fillna(-999, inplace=True)\n",
    "metadata['floor_count'] = metadata['floor_count'].astype('float32')"
   ]
  },
  {
   "cell_type": "code",
   "execution_count": null,
   "metadata": {},
   "outputs": [],
   "source": [
    "metadata.head(3)"
   ]
  },
  {
   "cell_type": "markdown",
   "metadata": {},
   "source": [
    "# Weather Data (Train)"
   ]
  },
  {
   "cell_type": "code",
   "execution_count": null,
   "metadata": {},
   "outputs": [],
   "source": [
    "weather_train.head(3)"
   ]
  },
  {
   "cell_type": "code",
   "execution_count": null,
   "metadata": {},
   "outputs": [],
   "source": [
    "cols = ['air_temperature','cloud_coverage','dew_temperature','precip_depth_1_hr','sea_level_pressure','wind_direction','wind_speed']\n",
    "for col in cols:\n",
    "    print (\" Minimum Value of {} column is {}\".format(col,weather_train[col].min()))\n",
    "    print (\" Maximum Value of {} column is {}\".format(col,weather_train[col].max()))\n",
    "    print (\"----------------------------------------------------------------------\")"
   ]
  },
  {
   "cell_type": "code",
   "execution_count": null,
   "metadata": {},
   "outputs": [],
   "source": [
    "weather_train.isna().sum()/len(weather_train)"
   ]
  },
  {
   "cell_type": "code",
   "execution_count": null,
   "metadata": {},
   "outputs": [],
   "source": [
    "weather_train[['air_temperature','cloud_coverage','dew_temperature','precip_depth_1_hr','sea_level_pressure','wind_speed']].describe()"
   ]
  },
  {
   "cell_type": "code",
   "execution_count": null,
   "metadata": {},
   "outputs": [],
   "source": [
    "print(weather_train['timestamp'].min())\n",
    "print(weather_train['timestamp'].max())\n",
    "print(len( weather_train['timestamp']))\n",
    "# This data is from 1st Jan to 31st Dec 2016, similar to the timestamp of the training data"
   ]
  },
  {
   "cell_type": "code",
   "execution_count": null,
   "metadata": {},
   "outputs": [],
   "source": [
    "cols = ['air_temperature','cloud_coverage','dew_temperature','precip_depth_1_hr','sea_level_pressure','wind_speed']\n",
    "for ind,col in enumerate(weather_train[cols]):\n",
    "    plt.figure(ind)\n",
    "    sns.distplot(weather_train[col].dropna())"
   ]
  },
  {
   "cell_type": "code",
   "execution_count": null,
   "metadata": {},
   "outputs": [],
   "source": [
    "cols = ['air_temperature','cloud_coverage','dew_temperature','precip_depth_1_hr','sea_level_pressure','wind_speed']\n",
    "for ind,col in enumerate(weather_train[cols]):\n",
    "    plt.figure(ind)\n",
    "    sns.boxplot(weather_train[col].dropna())"
   ]
  },
  {
   "cell_type": "markdown",
   "metadata": {},
   "source": [
    "# Merging Data"
   ]
  },
  {
   "cell_type": "code",
   "execution_count": null,
   "metadata": {},
   "outputs": [],
   "source": [
    "train.head(3)"
   ]
  },
  {
   "cell_type": "code",
   "execution_count": null,
   "metadata": {},
   "outputs": [],
   "source": [
    "metadata.head(3)"
   ]
  },
  {
   "cell_type": "code",
   "execution_count": null,
   "metadata": {},
   "outputs": [],
   "source": [
    "weather_train.dtypes"
   ]
  },
  {
   "cell_type": "code",
   "execution_count": null,
   "metadata": {},
   "outputs": [],
   "source": [
    "# %%time\n",
    "train_data = pd.merge(train,metadata,on='building_id',how='left')\n",
    "# test  = pd.merge(test,metadata,on='building_id',how='left')\n",
    "print (\"Training Data Shape {}\".format(train_data.shape))\n",
    "# print (\"Testing Data Shape {}\".format(test.shape))\n",
    "# gc.collect()"
   ]
  },
  {
   "cell_type": "code",
   "execution_count": null,
   "metadata": {},
   "outputs": [],
   "source": [
    "train_data.dtypes"
   ]
  },
  {
   "cell_type": "code",
   "execution_count": null,
   "metadata": {},
   "outputs": [],
   "source": [
    "# %%time\n",
    "train = pd.merge(train_data,weather_train,on=['site_id','timestamp'],how='left')\n",
    "# test  = pd.merge(test,weather_test,on=['site_id','timestamp'],how='left')\n",
    "print (\"Training Data Shape {}\".format(train.shape))\n",
    "# print (\"Testing Data Shape {}\".format(test.shape))\n",
    "# gc.collect()"
   ]
  },
  {
   "cell_type": "code",
   "execution_count": null,
   "metadata": {},
   "outputs": [],
   "source": [
    "train.head(3)"
   ]
  },
  {
   "cell_type": "code",
   "execution_count": null,
   "metadata": {},
   "outputs": [],
   "source": [
    "\n",
    "cols = ['air_temperature','cloud_coverage','dew_temperature','precip_depth_1_hr','sea_level_pressure','wind_direction','wind_speed']\n",
    "for col in cols:\n",
    "    train[col].fillna(train[col].mean(),inplace=True)\n",
    "#     test[col].fillna(test[col].mean(),inplace=True)\n",
    "    \n",
    "del metadata, weather_train#, weather_test"
   ]
  },
  {
   "cell_type": "code",
   "execution_count": null,
   "metadata": {},
   "outputs": [],
   "source": [
    "train.columns"
   ]
  },
  {
   "cell_type": "code",
   "execution_count": null,
   "metadata": {},
   "outputs": [],
   "source": [
    "# %%time\n",
    "for df in [train]:#, test]:\n",
    "    df['weekend'] = np.where((df['day_of_week'] == 5) | (df['day_of_week'] == 6), 1, 0)\n",
    "    df['air_temperature'] = df['air_temperature'].astype('float16')\n",
    "    df['cloud_coverage'] = df['cloud_coverage'].astype(\"float16\")\n",
    "    df['dew_temperature'] = df['dew_temperature'].astype('float16')\n",
    "    df['precip_depth_1_hr'] = df['precip_depth_1_hr'].astype('float32')\n",
    "    df['sea_level_pressure'] = df['sea_level_pressure'].astype('float32')\n",
    "    df['wind_direction'] = df['wind_direction'].astype('float32')\n",
    "    df['wind_speed'] = df['wind_speed'].astype('float16')\n",
    "    df['square_feet'] = df['square_feet'].astype(\"float32\")\n",
    "    df['building_id'] = df['building_id'].astype(\"int16\")"
   ]
  },
  {
   "cell_type": "code",
   "execution_count": null,
   "metadata": {},
   "outputs": [],
   "source": []
  }
 ],
 "metadata": {
  "kernelspec": {
   "display_name": "Python 3",
   "language": "python",
   "name": "python3"
  },
  "language_info": {
   "codemirror_mode": {
    "name": "ipython",
    "version": 3
   },
   "file_extension": ".py",
   "mimetype": "text/x-python",
   "name": "python",
   "nbconvert_exporter": "python",
   "pygments_lexer": "ipython3",
   "version": "3.7.3"
  },
  "toc": {
   "base_numbering": 1,
   "nav_menu": {},
   "number_sections": true,
   "sideBar": true,
   "skip_h1_title": false,
   "title_cell": "Table of Contents",
   "title_sidebar": "Contents",
   "toc_cell": false,
   "toc_position": {},
   "toc_section_display": true,
   "toc_window_display": false
  }
 },
 "nbformat": 4,
 "nbformat_minor": 2
}
