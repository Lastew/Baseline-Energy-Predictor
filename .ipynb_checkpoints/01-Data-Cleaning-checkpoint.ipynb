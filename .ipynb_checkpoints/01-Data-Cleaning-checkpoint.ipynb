{
 "cells": [
  {
   "cell_type": "markdown",
   "metadata": {},
   "source": [
    "<h1><font color='darkred'>Great Baseline Energy Consumption Predictor</font></h1>"
   ]
  },
  {
   "cell_type": "markdown",
   "metadata": {},
   "source": [
    "<p><strong>Welcome!</strong> This notebook will walk you though baseline energy consumption prediction using a deep learning model. In particular, we will see the Long-Short Term Memory commonly known as <code><i>LSTM Model</i></code>.</p>\n",
    "    \n",
    "<p>This project is designed to ease the difficulty of verifying the baseline energy consumption of a building without undergoing any energy efficiency improvement measures. This will help DOE, third parity incentive providers and the customer to know what to expect regarding how much they could save and how much they would get as an incentive from the DOE or incentive provider companies.\n",
    "    \n",
    "In general, <b>energy saving</b> is measured by taking the difference in energy consumption between:\n",
    "    <ul>\n",
    "        <li> the energy consumption without any measures</li>\n",
    "        <li> And by comparing it with the energy consumption after conducting certain energy saving improvement</li>\n",
    "    </ul>\n",
    "</p>"
   ]
  },
  {
   "cell_type": "markdown",
   "metadata": {},
   "source": [
    "<h2>Table of Contents</h2>\n",
    "<div class=\"alert alert-block alert-info\" style=\"margin-top: 20px\">\n",
    "    <ul>\n",
    "        <li><a href=\"imports\">Import <code>Python</code> Packages</a></li>\n",
    "        <li><a href=\"dataset\">About the Data</a></li>\n",
    "        <ul>\n",
    "            <li><a href=\"files\">Loading Data</a></li>\n",
    "            <li><a href='memory'>Reducing Memory Usage of the Data</a></li>\n",
    "        </ul>\n",
    "        <li><a href=\"eda\">Merging the Data into one set</a></li>\n",
    "        <li><a href=\"eda\">Training Set: Exploratory Data Analysis (EDA)</a></li>\n",
    "         <ul>\n",
    "            <li><a href=\"train\">Checking for Missing Values</a></li>\n",
    "            <li><a href=\"weather\">Checking for Missing Values in the Weather Dataset</a></li>\n",
    "            <li><a href=\"metadata\">Checking for Missing Values in the Metadata</a></li>\n",
    "        </ul>\n",
    "    </ul>\n",
    "    <p>\n",
    "        Estimated read time: <strong>17 min</strong>\n",
    "    </p>\n",
    "</div>\n",
    "\n",
    "<hr>"
   ]
  },
  {
   "cell_type": "markdown",
   "metadata": {},
   "source": [
    "<h2 id=\"imports\"><font color='darkblue'>Import <code>Python</code> Packages</font></h2>"
   ]
  },
  {
   "cell_type": "code",
   "execution_count": 30,
   "metadata": {
    "ExecuteTime": {
     "end_time": "2020-01-11T13:38:55.842319Z",
     "start_time": "2020-01-11T13:38:55.266677Z"
    }
   },
   "outputs": [],
   "source": [
    "# Data analysis packages:\n",
    "import pandas as pd\n",
    "import numpy as np\n",
    "pd.set_option('display.float_format', lambda x: '%.3f'%x)\n",
    "\n",
    "# Visualization packages:\n",
    "import seaborn as sns\n",
    "import matplotlib.pyplot as plt\n",
    "%matplotlib inline\n",
    "import matplotlib.patches as patches"
   ]
  },
  {
   "cell_type": "code",
   "execution_count": 31,
   "metadata": {
    "ExecuteTime": {
     "end_time": "2020-01-11T13:38:55.911455Z",
     "start_time": "2020-01-11T13:38:55.849307Z"
    }
   },
   "outputs": [],
   "source": [
    "# import warnings\n",
    "import warnings\n",
    "\n",
    "import itertools\n",
    "import gc"
   ]
  },
  {
   "cell_type": "markdown",
   "metadata": {},
   "source": [
    "import modules from <b>sklearn</b>"
   ]
  },
  {
   "cell_type": "code",
   "execution_count": 32,
   "metadata": {
    "ExecuteTime": {
     "end_time": "2020-01-11T13:38:56.557966Z",
     "start_time": "2020-01-11T13:38:56.488800Z"
    }
   },
   "outputs": [],
   "source": [
    "from sklearn.preprocessing import MinMaxScaler\n",
    "from sklearn.metrics import mean_squared_error\n",
    "from statsmodels.tsa.stattools import adfuller\n",
    "from statsmodels.tsa.seasonal import seasonal_decompose\n",
    "from statsmodels.graphics.gofplots import qqplot\n",
    "import statsmodels.api as sm\n",
    "from matplotlib.dates import DateFormatter\n",
    "import matplotlib.dates as mdates\n",
    "import datetime as dt\n",
    "from IPython.display import HTML # to see everything\n",
    "plt.style.use('seaborn-darkgrid')\n",
    "warnings.filterwarnings(\"ignore\")\n",
    "# matplotlib.rcParams['figure.dpi'] = 100"
   ]
  },
  {
   "cell_type": "markdown",
   "metadata": {},
   "source": [
    "import <b>helper functions</b>"
   ]
  },
  {
   "cell_type": "code",
   "execution_count": 33,
   "metadata": {
    "ExecuteTime": {
     "end_time": "2020-01-11T13:38:59.442614Z",
     "start_time": "2020-01-11T13:38:59.380599Z"
    }
   },
   "outputs": [
    {
     "name": "stdout",
     "output_type": "stream",
     "text": [
      "The autoreload extension is already loaded. To reload it, use:\n",
      "  %reload_ext autoreload\n"
     ]
    }
   ],
   "source": [
    "# helper function\n",
    "import data_cleaning as dc\n",
    "import helper_function as f\n",
    "# import visualization as vis\n",
    "\n",
    "%load_ext autoreload\n",
    "%autoreload 2"
   ]
  },
  {
   "cell_type": "markdown",
   "metadata": {},
   "source": [
    "import <b>plotly</b>"
   ]
  },
  {
   "cell_type": "code",
   "execution_count": 34,
   "metadata": {
    "ExecuteTime": {
     "end_time": "2020-01-11T13:39:01.570440Z",
     "start_time": "2020-01-11T13:39:01.516016Z"
    }
   },
   "outputs": [],
   "source": [
    "import plotly.express as px\n",
    "import plotly.graph_objects as go"
   ]
  },
  {
   "cell_type": "markdown",
   "metadata": {},
   "source": [
    "<h2 id=\"dataset\"><font color='darkblue'>About the Data</font></h2>"
   ]
  },
  {
   "cell_type": "markdown",
   "metadata": {},
   "source": [
    "<p>The data source has three <i>\".csv\"</i> files and all the columns are explained as follows.</p> \n",
    "<b><font color='darkred'><i>train.csv</i></font></b>\n",
    "<ul>\n",
    "    <li><b>building_id</b>: Foreign key for the building metadata</li>\n",
    "    <li><b>meter</b>: The meter id code. Read as {0: electricity, 1: chilledwater, 2: steam, hotwater: 3}. Not every building has all meter types.</li>\n",
    "    <li><b>timestamp</b>: When the measurement was taken</li>\n",
    "    <li><b>meter_reading</b>: The target variable. Energy consumption in kWh (or equivalent). Note that this is real data with measurement error, which we expect will impose a baseline level of modeling error. #### building_meta.csv</li>\n",
    "</ul>\n",
    "<b><font color='darkred'><i>building_metadata.csv</i></font></b>\n",
    "<ul>\n",
    "    <li><b>site_id</b>: Foreign key for the weather files.</li>\n",
    "    <li><b>building_id</b>: Foreign key for training.csv</li>\n",
    "    <li><b>primary_use</b>: Indicator of the primary category of activities for the building based on Energy-Star property type definitions.</li>\n",
    "    <li><b>square_feet</b>: Gross floor area of the building.</li>\n",
    "    <li><b>year_built</b>: Year building was opened.</li>\n",
    "    <li><b>floorcount</b>: Number of floors of the building #### weather[train/test].csv Weather data from a meteorological station as close as possible to the site.</li>\n",
    "</ul>\n",
    "<b><font color='darkred'><i>weather_train.csv</i></font></b>\n",
    "<ul>\n",
    "    <li><b>site_id</b>: Foreign key for the building metadata</li>\n",
    "    <li><b>timestamp</b>: When the measurement was taken</li>\n",
    "    <li><b>air_temperature</b>: Degrees Celsius</li>\n",
    "    <li><b>cloud_coverage</b>: Portion of the sky covered in clouds, in oktas</li>\n",
    "    <li><b>dew_temperature</b>: Degrees Celsius</li>\n",
    "    <li><b>precip_depth_1_hr</b>: Millimeters</li>\n",
    "    <li><b>sea_level_pressure</b>: Millibar/hectopascals</li>\n",
    "    <li><b>wind_direction</b>: Compass direction (0-360)</li>\n",
    "    <li><b>wind_speed</b>: Meters per second</li>\n",
    "</ul>"
   ]
  },
  {
   "cell_type": "markdown",
   "metadata": {},
   "source": [
    "<h3 id='loading'><font color='darkblue'>Loading Data</font></h3>"
   ]
  },
  {
   "cell_type": "code",
   "execution_count": 44,
   "metadata": {
    "ExecuteTime": {
     "end_time": "2020-01-11T13:45:02.659439Z",
     "start_time": "2020-01-11T13:44:38.784247Z"
    }
   },
   "outputs": [
    {
     "name": "stdout",
     "output_type": "stream",
     "text": [
      "Size of training data (20216100, 4)\n",
      "Mem. size of original training data 616.95 Mb\n",
      "----------------------------------\n",
      "Size of training weather data (139773, 9)\n",
      "Mem. size of original training weather data 9.60 Mb\n",
      "----------------------------------\n",
      "Size of building meta data (1449, 6)\n",
      "Mem. size of original building meta data 0.07 Mb\n"
     ]
    }
   ],
   "source": [
    "# training data\n",
    "# %%time\n",
    "train = pd.read_csv(\"data/train.csv\", parse_dates=['timestamp'])\n",
    "weather_train = pd.read_csv(\"data/weather_train.csv\", parse_dates=['timestamp'])\n",
    "metadata = pd.read_csv(\"data/building_metadata.csv\")\n",
    "\n",
    "print('Size of training data', train.shape)\n",
    "print('Mem. size of original training data {:.2f} Mb'.format(train.memory_usage().sum()/1024**2))\n",
    "print('----------------------------------')\n",
    "print('Size of training weather data', weather_train.shape)\n",
    "print('Mem. size of original training weather data {:.2f} Mb'.format(weather_train.memory_usage().sum()/1024**2))\n",
    "print('----------------------------------')\n",
    "print('Size of building meta data', metadata.shape)\n",
    "print('Mem. size of original building meta data {:.2f} Mb'.format(metadata.memory_usage().sum()/1024**2))"
   ]
  },
  {
   "cell_type": "markdown",
   "metadata": {},
   "source": [
    "<p>as we see above, the training dataset consumes a bit high memory. Let's try to reduce the memory usage by calling a custom defined method inside <i><b>\"helper_function.py\"</b></i></p>"
   ]
  },
  {
   "cell_type": "markdown",
   "metadata": {},
   "source": [
    "<h3 id='memory'><font color=\"darkblue\">Reducing Memory Usage of the Data</font></h3>"
   ]
  },
  {
   "cell_type": "code",
   "execution_count": 45,
   "metadata": {
    "ExecuteTime": {
     "end_time": "2020-01-11T13:45:10.120936Z",
     "start_time": "2020-01-11T13:45:08.610713Z"
    }
   },
   "outputs": [
    {
     "name": "stdout",
     "output_type": "stream",
     "text": [
      "Mem. usage decreased to 289.19 Mb (53.1% reduction)\n",
      "Mem. size of reduced training data (20216100, 4)\n",
      "----------------------------------\n",
      "Mem. usage decreased to  3.07 Mb (68.1% reduction)\n",
      "Mem. size of reduced training weather data (139773, 9)\n",
      "----------------------------------\n",
      "Mem. usage decreased to  0.03 Mb (60.3% reduction)\n",
      "Mem. size of reduced building meta data (1449, 6)\n"
     ]
    }
   ],
   "source": [
    "## Reducing memory\n",
    "train = dc.reduce_mem_usage(train)\n",
    "# train_df.to_csv(r'data\\train_reduced.csv')\n",
    "print('Mem. size of reduced training data', train.shape)\n",
    "print('----------------------------------')\n",
    "weather_data = dc.reduce_mem_usage(weather_train)\n",
    "# weather_train_df.to_csv(r'data\\weather_train_reduced.csv')\n",
    "print('Mem. size of reduced training weather data', weather_data.shape)\n",
    "print('----------------------------------')\n",
    "metadata = dc.reduce_mem_usage(metadata)\n",
    "# metadata_train_df.to_csv(r'data\\metadata_train_reduced.csv')\n",
    "print('Mem. size of reduced building meta data', metadata.shape)"
   ]
  },
  {
   "cell_type": "markdown",
   "metadata": {},
   "source": [
    "<p>good. now we reduce the memory usage, let's try to merge the training data, weather information, and building metadata into one <b><i>CSV</i></b> file.</p>"
   ]
  },
  {
   "cell_type": "markdown",
   "metadata": {},
   "source": [
    "<h2 id=\"eda\"><font color=\"darkblue\">Merging the Data into one set</font></h2>"
   ]
  },
  {
   "cell_type": "markdown",
   "metadata": {},
   "source": [
    "<p><b><i>Exploratory Data Analysis (EDA)</i></b> is an open-ended process where we calculate statistics and make figures to find trends, anomalies, patterns, or relationships within the data.</p>"
   ]
  },
  {
   "cell_type": "markdown",
   "metadata": {},
   "source": [
    "<p>let's try to merge training, weather and metadata into one dataset.</p>"
   ]
  },
  {
   "cell_type": "code",
   "execution_count": 56,
   "metadata": {
    "ExecuteTime": {
     "end_time": "2020-01-11T15:48:18.417278Z",
     "start_time": "2020-01-11T15:48:01.928583Z"
    }
   },
   "outputs": [
    {
     "name": "stdout",
     "output_type": "stream",
     "text": [
      "Training dataset shape: (20216100, 16)\n",
      "Mem. size of the traning dataset : 1041.10 Mb\n"
     ]
    }
   ],
   "source": [
    "import gc # import garbage collector interface\n",
    "energy_consumption_data = train.merge(metadata, on='building_id', how='left')\n",
    "energy_consumption_data = energy_consumption_data.merge(weather_data, on=['site_id', 'timestamp'], how='left')\n",
    "\n",
    "# energy_consumption_data.to_csv(r\"data/energy_consumption_data.csv\")\n",
    "print('Training dataset shape: {}'.format(energy_consumption_data.shape))\n",
    "print('Mem. size of the traning dataset : {:.2f} Mb'.format(energy_consumption_data.memory_usage().sum()/1024**2))\n",
    "\n",
    "# del metadata, weather_data\n",
    "# gc.collect();"
   ]
  },
  {
   "cell_type": "code",
   "execution_count": 47,
   "metadata": {
    "ExecuteTime": {
     "end_time": "2020-01-11T13:46:09.782937Z",
     "start_time": "2020-01-11T13:46:09.344613Z"
    }
   },
   "outputs": [
    {
     "name": "stdout",
     "output_type": "stream",
     "text": [
      "<class 'pandas.core.frame.DataFrame'>\n",
      "Int64Index: 20216100 entries, 0 to 20216099\n",
      "Data columns (total 16 columns):\n",
      "building_id           int16\n",
      "meter                 int8\n",
      "timestamp             datetime64[ns]\n",
      "meter_reading         float32\n",
      "site_id               int8\n",
      "primary_use           object\n",
      "square_feet           int32\n",
      "year_built            float16\n",
      "floor_count           float16\n",
      "air_temperature       float16\n",
      "cloud_coverage        float16\n",
      "dew_temperature       float16\n",
      "precip_depth_1_hr     float16\n",
      "sea_level_pressure    float16\n",
      "wind_direction        float16\n",
      "wind_speed            float16\n",
      "dtypes: datetime64[ns](1), float16(9), float32(1), int16(1), int32(1), int8(2), object(1)\n",
      "memory usage: 1.0+ GB\n"
     ]
    }
   ],
   "source": [
    "energy_consumption_data.info()"
   ]
  },
  {
   "cell_type": "markdown",
   "metadata": {},
   "source": [
    "<p>good! let's now only extract the features that significantly affect the energy consumption and move forward with our analysis and forecasting</p>"
   ]
  },
  {
   "cell_type": "code",
   "execution_count": 49,
   "metadata": {
    "ExecuteTime": {
     "end_time": "2020-01-11T13:50:33.732011Z",
     "start_time": "2020-01-11T13:50:28.398848Z"
    }
   },
   "outputs": [
    {
     "data": {
      "text/html": [
       "<div>\n",
       "<style scoped>\n",
       "    .dataframe tbody tr th:only-of-type {\n",
       "        vertical-align: middle;\n",
       "    }\n",
       "\n",
       "    .dataframe tbody tr th {\n",
       "        vertical-align: top;\n",
       "    }\n",
       "\n",
       "    .dataframe thead th {\n",
       "        text-align: right;\n",
       "    }\n",
       "</style>\n",
       "<table border=\"1\" class=\"dataframe\">\n",
       "  <thead>\n",
       "    <tr style=\"text-align: right;\">\n",
       "      <th></th>\n",
       "      <th>timestamp</th>\n",
       "      <th>building_id</th>\n",
       "      <th>meter</th>\n",
       "      <th>meter_reading</th>\n",
       "      <th>air_temperature</th>\n",
       "      <th>cloud_coverage</th>\n",
       "      <th>dew_temperature</th>\n",
       "      <th>precip_depth_1_hr</th>\n",
       "      <th>sea_level_pressure</th>\n",
       "      <th>wind_direction</th>\n",
       "      <th>wind_speed</th>\n",
       "    </tr>\n",
       "  </thead>\n",
       "  <tbody>\n",
       "    <tr>\n",
       "      <th>0</th>\n",
       "      <td>2016-01-01</td>\n",
       "      <td>0</td>\n",
       "      <td>Electricity</td>\n",
       "      <td>0.000</td>\n",
       "      <td>25.000</td>\n",
       "      <td>6.000</td>\n",
       "      <td>20.000</td>\n",
       "      <td>nan</td>\n",
       "      <td>1019.500</td>\n",
       "      <td>0.000</td>\n",
       "      <td>0.000</td>\n",
       "    </tr>\n",
       "    <tr>\n",
       "      <th>1</th>\n",
       "      <td>2016-01-01</td>\n",
       "      <td>1</td>\n",
       "      <td>Electricity</td>\n",
       "      <td>0.000</td>\n",
       "      <td>25.000</td>\n",
       "      <td>6.000</td>\n",
       "      <td>20.000</td>\n",
       "      <td>nan</td>\n",
       "      <td>1019.500</td>\n",
       "      <td>0.000</td>\n",
       "      <td>0.000</td>\n",
       "    </tr>\n",
       "    <tr>\n",
       "      <th>2</th>\n",
       "      <td>2016-01-01</td>\n",
       "      <td>2</td>\n",
       "      <td>Electricity</td>\n",
       "      <td>0.000</td>\n",
       "      <td>25.000</td>\n",
       "      <td>6.000</td>\n",
       "      <td>20.000</td>\n",
       "      <td>nan</td>\n",
       "      <td>1019.500</td>\n",
       "      <td>0.000</td>\n",
       "      <td>0.000</td>\n",
       "    </tr>\n",
       "  </tbody>\n",
       "</table>\n",
       "</div>"
      ],
      "text/plain": [
       "   timestamp  building_id        meter  meter_reading  air_temperature  \\\n",
       "0 2016-01-01            0  Electricity          0.000           25.000   \n",
       "1 2016-01-01            1  Electricity          0.000           25.000   \n",
       "2 2016-01-01            2  Electricity          0.000           25.000   \n",
       "\n",
       "   cloud_coverage  dew_temperature  precip_depth_1_hr  sea_level_pressure  \\\n",
       "0           6.000           20.000                nan            1019.500   \n",
       "1           6.000           20.000                nan            1019.500   \n",
       "2           6.000           20.000                nan            1019.500   \n",
       "\n",
       "   wind_direction  wind_speed  \n",
       "0           0.000       0.000  \n",
       "1           0.000       0.000  \n",
       "2           0.000       0.000  "
      ]
     },
     "execution_count": 49,
     "metadata": {},
     "output_type": "execute_result"
    }
   ],
   "source": [
    "usecols = [\"timestamp\", \"building_id\", \"meter\", \"meter_reading\", \"air_temperature\", \"cloud_coverage\", \"dew_temperature\",\n",
    "          \"precip_depth_1_hr\", \"sea_level_pressure\", \"wind_direction\", \"wind_speed\"]\n",
    "energy_consumption_data['meter'].replace({0:\"Electricity\",1:\"ChilledWater\",\n",
    "                       2:\"Steam\",3:\"HotWater\"}, inplace=True)\n",
    "train_data = energy_consumption_data[usecols]\n",
    "train_data.head(3)"
   ]
  },
  {
   "cell_type": "markdown",
   "metadata": {},
   "source": [
    "check for the four unique meters "
   ]
  },
  {
   "cell_type": "code",
   "execution_count": 50,
   "metadata": {
    "ExecuteTime": {
     "end_time": "2020-01-11T13:51:12.614888Z",
     "start_time": "2020-01-11T13:51:11.884955Z"
    }
   },
   "outputs": [
    {
     "data": {
      "text/html": [
       "<div>\n",
       "<style scoped>\n",
       "    .dataframe tbody tr th:only-of-type {\n",
       "        vertical-align: middle;\n",
       "    }\n",
       "\n",
       "    .dataframe tbody tr th {\n",
       "        vertical-align: top;\n",
       "    }\n",
       "\n",
       "    .dataframe thead th {\n",
       "        text-align: right;\n",
       "    }\n",
       "</style>\n",
       "<table border=\"1\" class=\"dataframe\">\n",
       "  <thead>\n",
       "    <tr style=\"text-align: right;\">\n",
       "      <th></th>\n",
       "      <th>meter_values</th>\n",
       "      <th>counts</th>\n",
       "    </tr>\n",
       "  </thead>\n",
       "  <tbody>\n",
       "    <tr>\n",
       "      <th>0</th>\n",
       "      <td>0</td>\n",
       "      <td>12060910</td>\n",
       "    </tr>\n",
       "    <tr>\n",
       "      <th>1</th>\n",
       "      <td>1</td>\n",
       "      <td>4182440</td>\n",
       "    </tr>\n",
       "    <tr>\n",
       "      <th>2</th>\n",
       "      <td>2</td>\n",
       "      <td>2708713</td>\n",
       "    </tr>\n",
       "    <tr>\n",
       "      <th>3</th>\n",
       "      <td>3</td>\n",
       "      <td>1264037</td>\n",
       "    </tr>\n",
       "  </tbody>\n",
       "</table>\n",
       "</div>"
      ],
      "text/plain": [
       "   meter_values    counts\n",
       "0             0  12060910\n",
       "1             1   4182440\n",
       "2             2   2708713\n",
       "3             3   1264037"
      ]
     },
     "execution_count": 50,
     "metadata": {},
     "output_type": "execute_result"
    }
   ],
   "source": [
    "dc.feat_value_count(train, 'meter')"
   ]
  },
  {
   "cell_type": "markdown",
   "metadata": {},
   "source": [
    "<h2 id=\"eda\"><font color='darkblue'>Training Set: Exploratory Data Analysis (EDA)</font></h2>"
   ]
  },
  {
   "cell_type": "markdown",
   "metadata": {},
   "source": [
    "Exploratory Data Analysis (EDA) is an open-ended process where we calculate statistics and make figures to find trends, anomalies, patterns, or relationships within the data."
   ]
  },
  {
   "cell_type": "markdown",
   "metadata": {},
   "source": [
    "<h3 id=\"train\"><font color='darkblue'>Checking for Missing values</font></h3>\n",
    "here we check if the training dataset has any missing values"
   ]
  },
  {
   "cell_type": "code",
   "execution_count": 51,
   "metadata": {
    "ExecuteTime": {
     "end_time": "2020-01-11T13:54:05.198110Z",
     "start_time": "2020-01-11T13:53:57.931815Z"
    }
   },
   "outputs": [
    {
     "data": {
      "text/html": [
       "<div>\n",
       "<style scoped>\n",
       "    .dataframe tbody tr th:only-of-type {\n",
       "        vertical-align: middle;\n",
       "    }\n",
       "\n",
       "    .dataframe tbody tr th {\n",
       "        vertical-align: top;\n",
       "    }\n",
       "\n",
       "    .dataframe thead th {\n",
       "        text-align: right;\n",
       "    }\n",
       "</style>\n",
       "<table border=\"1\" class=\"dataframe\">\n",
       "  <thead>\n",
       "    <tr style=\"text-align: right;\">\n",
       "      <th></th>\n",
       "      <th>Total</th>\n",
       "      <th>Percent</th>\n",
       "    </tr>\n",
       "  </thead>\n",
       "  <tbody>\n",
       "    <tr>\n",
       "      <th>meter_reading</th>\n",
       "      <td>0</td>\n",
       "      <td>0.000</td>\n",
       "    </tr>\n",
       "    <tr>\n",
       "      <th>timestamp</th>\n",
       "      <td>0</td>\n",
       "      <td>0.000</td>\n",
       "    </tr>\n",
       "    <tr>\n",
       "      <th>meter</th>\n",
       "      <td>0</td>\n",
       "      <td>0.000</td>\n",
       "    </tr>\n",
       "    <tr>\n",
       "      <th>building_id</th>\n",
       "      <td>0</td>\n",
       "      <td>0.000</td>\n",
       "    </tr>\n",
       "  </tbody>\n",
       "</table>\n",
       "</div>"
      ],
      "text/plain": [
       "               Total  Percent\n",
       "meter_reading      0    0.000\n",
       "timestamp          0    0.000\n",
       "meter              0    0.000\n",
       "building_id        0    0.000"
      ]
     },
     "execution_count": 51,
     "metadata": {},
     "output_type": "execute_result"
    }
   ],
   "source": [
    "total = train.isnull().sum().sort_values(ascending=False)\n",
    "percent = (train.isnull().sum()/train.isnull().count()*100).sort_values(ascending=False)\n",
    "missing__train_data = pd.concat([total, percent], axis=1, keys=['Total', 'Percent'])\n",
    "missing__train_data"
   ]
  },
  {
   "cell_type": "markdown",
   "metadata": {},
   "source": [
    "<h3 id=\"weather\"><font color='darkblue'>Checking for Missing Values in the Weather Dataset</font></h3>\n",
    "here we check if the training weather data for any missing values"
   ]
  },
  {
   "cell_type": "code",
   "execution_count": 52,
   "metadata": {
    "ExecuteTime": {
     "end_time": "2020-01-11T13:54:14.123475Z",
     "start_time": "2020-01-11T13:54:13.838815Z"
    }
   },
   "outputs": [
    {
     "data": {
      "text/html": [
       "<div>\n",
       "<style scoped>\n",
       "    .dataframe tbody tr th:only-of-type {\n",
       "        vertical-align: middle;\n",
       "    }\n",
       "\n",
       "    .dataframe tbody tr th {\n",
       "        vertical-align: top;\n",
       "    }\n",
       "\n",
       "    .dataframe thead th {\n",
       "        text-align: right;\n",
       "    }\n",
       "</style>\n",
       "<table border=\"1\" class=\"dataframe\">\n",
       "  <thead>\n",
       "    <tr style=\"text-align: right;\">\n",
       "      <th></th>\n",
       "      <th>Total</th>\n",
       "      <th>Percent</th>\n",
       "    </tr>\n",
       "  </thead>\n",
       "  <tbody>\n",
       "    <tr>\n",
       "      <th>cloud_coverage</th>\n",
       "      <td>69173</td>\n",
       "      <td>49.490</td>\n",
       "    </tr>\n",
       "    <tr>\n",
       "      <th>precip_depth_1_hr</th>\n",
       "      <td>50289</td>\n",
       "      <td>35.979</td>\n",
       "    </tr>\n",
       "    <tr>\n",
       "      <th>sea_level_pressure</th>\n",
       "      <td>10618</td>\n",
       "      <td>7.597</td>\n",
       "    </tr>\n",
       "    <tr>\n",
       "      <th>wind_direction</th>\n",
       "      <td>6268</td>\n",
       "      <td>4.484</td>\n",
       "    </tr>\n",
       "    <tr>\n",
       "      <th>wind_speed</th>\n",
       "      <td>304</td>\n",
       "      <td>0.217</td>\n",
       "    </tr>\n",
       "    <tr>\n",
       "      <th>dew_temperature</th>\n",
       "      <td>113</td>\n",
       "      <td>0.081</td>\n",
       "    </tr>\n",
       "    <tr>\n",
       "      <th>air_temperature</th>\n",
       "      <td>55</td>\n",
       "      <td>0.039</td>\n",
       "    </tr>\n",
       "    <tr>\n",
       "      <th>timestamp</th>\n",
       "      <td>0</td>\n",
       "      <td>0.000</td>\n",
       "    </tr>\n",
       "    <tr>\n",
       "      <th>site_id</th>\n",
       "      <td>0</td>\n",
       "      <td>0.000</td>\n",
       "    </tr>\n",
       "  </tbody>\n",
       "</table>\n",
       "</div>"
      ],
      "text/plain": [
       "                    Total  Percent\n",
       "cloud_coverage      69173   49.490\n",
       "precip_depth_1_hr   50289   35.979\n",
       "sea_level_pressure  10618    7.597\n",
       "wind_direction       6268    4.484\n",
       "wind_speed            304    0.217\n",
       "dew_temperature       113    0.081\n",
       "air_temperature        55    0.039\n",
       "timestamp               0    0.000\n",
       "site_id                 0    0.000"
      ]
     },
     "execution_count": 52,
     "metadata": {},
     "output_type": "execute_result"
    }
   ],
   "source": [
    "total = weather_data.isnull().sum().sort_values(ascending=False)\n",
    "percent = (weather_data.isnull().sum()/weather_data.isnull().count()*100).sort_values(ascending=False)\n",
    "missing__weather_data = pd.concat([total, percent], axis=1, keys=['Total', 'Percent'])\n",
    "missing__weather_data"
   ]
  },
  {
   "cell_type": "markdown",
   "metadata": {},
   "source": [
    "<h3 id=\"metadata\"><font color='darkblue'>Checking for Missing Values in the Metadata </font></h3>\n",
    "here we check if the training metadata has any missing values "
   ]
  },
  {
   "cell_type": "code",
   "execution_count": 53,
   "metadata": {
    "ExecuteTime": {
     "end_time": "2020-01-11T13:54:17.532557Z",
     "start_time": "2020-01-11T13:54:17.455670Z"
    }
   },
   "outputs": [
    {
     "data": {
      "text/html": [
       "<div>\n",
       "<style scoped>\n",
       "    .dataframe tbody tr th:only-of-type {\n",
       "        vertical-align: middle;\n",
       "    }\n",
       "\n",
       "    .dataframe tbody tr th {\n",
       "        vertical-align: top;\n",
       "    }\n",
       "\n",
       "    .dataframe thead th {\n",
       "        text-align: right;\n",
       "    }\n",
       "</style>\n",
       "<table border=\"1\" class=\"dataframe\">\n",
       "  <thead>\n",
       "    <tr style=\"text-align: right;\">\n",
       "      <th></th>\n",
       "      <th>Total</th>\n",
       "      <th>Percent</th>\n",
       "    </tr>\n",
       "  </thead>\n",
       "  <tbody>\n",
       "    <tr>\n",
       "      <th>floor_count</th>\n",
       "      <td>1094</td>\n",
       "      <td>75.500</td>\n",
       "    </tr>\n",
       "    <tr>\n",
       "      <th>year_built</th>\n",
       "      <td>774</td>\n",
       "      <td>53.416</td>\n",
       "    </tr>\n",
       "    <tr>\n",
       "      <th>square_feet</th>\n",
       "      <td>0</td>\n",
       "      <td>0.000</td>\n",
       "    </tr>\n",
       "    <tr>\n",
       "      <th>primary_use</th>\n",
       "      <td>0</td>\n",
       "      <td>0.000</td>\n",
       "    </tr>\n",
       "    <tr>\n",
       "      <th>building_id</th>\n",
       "      <td>0</td>\n",
       "      <td>0.000</td>\n",
       "    </tr>\n",
       "    <tr>\n",
       "      <th>site_id</th>\n",
       "      <td>0</td>\n",
       "      <td>0.000</td>\n",
       "    </tr>\n",
       "  </tbody>\n",
       "</table>\n",
       "</div>"
      ],
      "text/plain": [
       "             Total  Percent\n",
       "floor_count   1094   75.500\n",
       "year_built     774   53.416\n",
       "square_feet      0    0.000\n",
       "primary_use      0    0.000\n",
       "building_id      0    0.000\n",
       "site_id          0    0.000"
      ]
     },
     "execution_count": 53,
     "metadata": {},
     "output_type": "execute_result"
    }
   ],
   "source": [
    "total = metadata.isnull().sum().sort_values(ascending=False)\n",
    "percent = (metadata.isnull().sum()/metadata.isnull().count()*100).sort_values(ascending=False)\n",
    "missing__metadata_data = pd.concat([total, percent], axis=1, keys=['Total', 'Percent'])\n",
    "missing__metadata_data"
   ]
  },
  {
   "cell_type": "markdown",
   "metadata": {},
   "source": [
    "                                        --- The End --- "
   ]
  },
  {
   "cell_type": "code",
   "execution_count": null,
   "metadata": {},
   "outputs": [],
   "source": []
  }
 ],
 "metadata": {
  "kernelspec": {
   "display_name": "Python 3",
   "language": "python",
   "name": "python3"
  },
  "toc": {
   "base_numbering": 1,
   "nav_menu": {},
   "number_sections": false,
   "sideBar": true,
   "skip_h1_title": false,
   "title_cell": "Table of Contents",
   "title_sidebar": "Contents",
   "toc_cell": false,
   "toc_position": {
    "height": "calc(100% - 180px)",
    "left": "10px",
    "top": "150px",
    "width": "413.767px"
   },
   "toc_section_display": true,
   "toc_window_display": false
  }
 },
 "nbformat": 4,
 "nbformat_minor": 4
}
