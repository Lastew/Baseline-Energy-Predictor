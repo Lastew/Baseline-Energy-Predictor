{
 "cells": [
  {
   "cell_type": "code",
   "execution_count": 1,
   "metadata": {},
   "outputs": [],
   "source": [
    "# Data analysis packages:\n",
    "import pandas as pd\n",
    "import numpy as np\n",
    "pd.set_option('display.float_format', lambda x: '%.3f'%x)\n",
    "#from datetime import datetime as dt\n",
    "\n",
    "# Visualization packages:\n",
    "import seaborn as sns\n",
    "import matplotlib.pyplot as plt\n",
    "import matplotlib.patches as patches\n",
    "\n",
    "# import plotly.graph_objs as go \n",
    "%matplotlib inline\n",
    "\n",
    "# Import all necessary libraries.\n",
    "\n",
    "import warnings\n",
    "# import plots as p\n",
    "import function as f\n",
    "# import data_testing as dt\n",
    "# import data_prep as dp\n",
    "\n",
    "import itertools\n",
    "from sklearn.preprocessing import MinMaxScaler\n",
    "from sklearn.metrics import mean_squared_error\n",
    "from statsmodels.tsa.stattools import adfuller\n",
    "from statsmodels.tsa.seasonal import seasonal_decompose\n",
    "from statsmodels.graphics.gofplots import qqplot\n",
    "import statsmodels.api as sm\n",
    "from matplotlib.dates import DateFormatter\n",
    "import matplotlib.dates as mdates\n",
    "import datetime as dt\n",
    "from IPython.display import HTML # to see everything\n",
    "plt.style.use('seaborn-darkgrid')\n",
    "warnings.filterwarnings(\"ignore\")\n",
    "\n",
    "%load_ext autoreload\n",
    "%autoreload 2"
   ]
  },
  {
   "cell_type": "markdown",
   "metadata": {},
   "source": [
    "Energy savings has two keys elements:\n",
    "- forecasting energy consumption without any energy saving measures \n",
    "- forecasting energy consumption after certain energy saving measures\n",
    "\n",
    "This notebook predict "
   ]
  },
  {
   "cell_type": "markdown",
   "metadata": {},
   "source": [
    "# Dataset:"
   ]
  },
  {
   "cell_type": "code",
   "execution_count": 16,
   "metadata": {},
   "outputs": [
    {
     "name": "stdout",
     "output_type": "stream",
     "text": [
      "Size of training data (20216100, 4)\n",
      "Mem. size of original training data 616.95\n",
      "----------------------------------\n",
      "Size of training weather data (139773, 9)\n",
      "Mem. size of original training weather data 9.6\n",
      "----------------------------------\n",
      "Size of building meta data (1449, 6)\n",
      "Mem. size of original building meta data 0.07\n"
     ]
    }
   ],
   "source": [
    "# training data\n",
    "train = pd.read_csv(\"data/train.csv\", parse_dates=['timestamp'])\n",
    "train_weather = pd.read_csv(\"data/weather_train.csv\", parse_dates=['timestamp'])\n",
    "metadata = pd.read_csv(\"data/building_metadata.csv\")\n",
    "\n",
    "print('Size of training data', train.shape)\n",
    "print('Mem. size of original training data', np.round(train.memory_usage().sum()/1024**2, 2))\n",
    "print('----------------------------------')\n",
    "print('Size of training weather data', weather_train.shape)\n",
    "print('Mem. size of original training weather data', np.round(weather_train.memory_usage().sum()/1024**2, 2))\n",
    "print('----------------------------------')\n",
    "print('Size of building meta data', metadata.shape)\n",
    "print('Mem. size of original building meta data', np.round(metadata.memory_usage().sum()/1024**2, 2))\n",
    "\n",
    "# df.memory_usage().sum() / 1024**2 "
   ]
  },
  {
   "cell_type": "markdown",
   "metadata": {},
   "source": [
    "## Files\n",
    "train.csv\n",
    "> - **building_id** - Foreign key for the building metadata.\n",
    "- **meter** - The meter id code. Read as {0: electricity, 1: chilledwater, 2: steam, hotwater: 3}. Not every building has all meter types.\n",
    "- **timestamp** - When the measurement was taken\n",
    "- **meter_reading** - The target variable. Energy consumption in kWh (or equivalent). Note that this is real data with measurement error, which we expect will impose a baseline level of modeling error. #### building_meta.csv  \n",
    "\n",
    "metadata.csv\n",
    "> - **site_id** - Foreign key for the weather files.\n",
    "- **building_id** - Foreign key for training.csv\n",
    "- **primary_use** - Indicator of the primary category of activities for the building based on EnergyStar property type definitions\n",
    "- **square_feet** - Gross floor area of the building\n",
    "- **year_built** - Year building was opened\n",
    "- **floorcount** - Number of floors of the building #### weather[train/test].csv Weather data from a meteorological station as close as possible to the site.  \n",
    "\n",
    "Weather_train.csv\n",
    "> **site_id**  \n",
    "**timestamp** - When the measurement was taken  \n",
    "**air_temperature** - Degrees Celsius  \n",
    "**cloud_coverage** - Portion of the sky covered in clouds, in oktas  \n",
    "**dew_temperature** - Degrees Celsius  \n",
    "**precip_depth_1_hr** - Millimeters  \n",
    "**sea_level_pressure** - Millibar/hectopascals  \n",
    "**wind_direction** - Compass direction (0-360)  \n",
    "**wind_speed** - Meters per second"
   ]
  },
  {
   "cell_type": "markdown",
   "metadata": {},
   "source": [
    "## Reducing memory"
   ]
  },
  {
   "cell_type": "code",
   "execution_count": 17,
   "metadata": {},
   "outputs": [
    {
     "name": "stdout",
     "output_type": "stream",
     "text": [
      "Mem. usage decreased to 289.19 Mb (53.1% reduction)\n",
      "Mem. size of reduced training data (20216100, 4)\n",
      "----------------------------------\n",
      "Mem. usage decreased to  3.07 Mb (68.1% reduction)\n",
      "Mem. size of reduced training weather data (139773, 9)\n",
      "----------------------------------\n",
      "Mem. usage decreased to  0.03 Mb (60.3% reduction)\n",
      "Mem. size of reduced building meta data (1449, 6)\n"
     ]
    }
   ],
   "source": [
    "## Reducing memory\n",
    "train = f.reduce_mem_usage(train)\n",
    "# train_df.to_csv(r'data\\train_reduced.csv')\n",
    "print('Mem. size of reduced training data', train.shape)\n",
    "print('----------------------------------')\n",
    "train_weather = f.reduce_mem_usage(train_weather)\n",
    "# weather_train_df.to_csv(r'data\\weather_train_reduced.csv')\n",
    "print('Mem. size of reduced training weather data', train_weather.shape)\n",
    "print('----------------------------------')\n",
    "metadata = f.reduce_mem_usage(metadata)\n",
    "# metadata_train_df.to_csv(r'data\\metadata_train_reduced.csv')\n",
    "print('Mem. size of reduced building meta data', metadata.shape)"
   ]
  },
  {
   "cell_type": "code",
   "execution_count": 18,
   "metadata": {},
   "outputs": [
    {
     "data": {
      "text/html": [
       "<div>\n",
       "<style scoped>\n",
       "    .dataframe tbody tr th:only-of-type {\n",
       "        vertical-align: middle;\n",
       "    }\n",
       "\n",
       "    .dataframe tbody tr th {\n",
       "        vertical-align: top;\n",
       "    }\n",
       "\n",
       "    .dataframe thead th {\n",
       "        text-align: right;\n",
       "    }\n",
       "</style>\n",
       "<table border=\"1\" class=\"dataframe\">\n",
       "  <thead>\n",
       "    <tr style=\"text-align: right;\">\n",
       "      <th></th>\n",
       "      <th>meter_values</th>\n",
       "      <th>counts</th>\n",
       "    </tr>\n",
       "  </thead>\n",
       "  <tbody>\n",
       "    <tr>\n",
       "      <th>0</th>\n",
       "      <td>0</td>\n",
       "      <td>12060910</td>\n",
       "    </tr>\n",
       "    <tr>\n",
       "      <th>1</th>\n",
       "      <td>1</td>\n",
       "      <td>4182440</td>\n",
       "    </tr>\n",
       "    <tr>\n",
       "      <th>2</th>\n",
       "      <td>2</td>\n",
       "      <td>2708713</td>\n",
       "    </tr>\n",
       "    <tr>\n",
       "      <th>3</th>\n",
       "      <td>3</td>\n",
       "      <td>1264037</td>\n",
       "    </tr>\n",
       "  </tbody>\n",
       "</table>\n",
       "</div>"
      ],
      "text/plain": [
       "   meter_values    counts\n",
       "0             0  12060910\n",
       "1             1   4182440\n",
       "2             2   2708713\n",
       "3             3   1264037"
      ]
     },
     "execution_count": 18,
     "metadata": {},
     "output_type": "execute_result"
    }
   ],
   "source": [
    "# Thera are four differnt meter information\n",
    "f.feat_value_count(train, 'meter')"
   ]
  },
  {
   "cell_type": "markdown",
   "metadata": {},
   "source": [
    "***there are 15 different site_ids***"
   ]
  },
  {
   "cell_type": "markdown",
   "metadata": {},
   "source": [
    "# Training data : Exploratory Data Analysis (EDA)\n",
    "Exploratory Data Analysis (EDA) is an open-ended process where we calculate statistics and make figures to find trends, anomalies, patterns, or relationships within the data."
   ]
  },
  {
   "cell_type": "markdown",
   "metadata": {},
   "source": [
    "## Checking missing data for train_df"
   ]
  },
  {
   "cell_type": "code",
   "execution_count": 19,
   "metadata": {},
   "outputs": [
    {
     "data": {
      "text/html": [
       "<div>\n",
       "<style scoped>\n",
       "    .dataframe tbody tr th:only-of-type {\n",
       "        vertical-align: middle;\n",
       "    }\n",
       "\n",
       "    .dataframe tbody tr th {\n",
       "        vertical-align: top;\n",
       "    }\n",
       "\n",
       "    .dataframe thead th {\n",
       "        text-align: right;\n",
       "    }\n",
       "</style>\n",
       "<table border=\"1\" class=\"dataframe\">\n",
       "  <thead>\n",
       "    <tr style=\"text-align: right;\">\n",
       "      <th></th>\n",
       "      <th>Total</th>\n",
       "      <th>Percent</th>\n",
       "    </tr>\n",
       "  </thead>\n",
       "  <tbody>\n",
       "    <tr>\n",
       "      <th>meter_reading</th>\n",
       "      <td>0</td>\n",
       "      <td>0.000</td>\n",
       "    </tr>\n",
       "    <tr>\n",
       "      <th>timestamp</th>\n",
       "      <td>0</td>\n",
       "      <td>0.000</td>\n",
       "    </tr>\n",
       "    <tr>\n",
       "      <th>meter</th>\n",
       "      <td>0</td>\n",
       "      <td>0.000</td>\n",
       "    </tr>\n",
       "    <tr>\n",
       "      <th>building_id</th>\n",
       "      <td>0</td>\n",
       "      <td>0.000</td>\n",
       "    </tr>\n",
       "  </tbody>\n",
       "</table>\n",
       "</div>"
      ],
      "text/plain": [
       "               Total  Percent\n",
       "meter_reading      0    0.000\n",
       "timestamp          0    0.000\n",
       "meter              0    0.000\n",
       "building_id        0    0.000"
      ]
     },
     "execution_count": 19,
     "metadata": {},
     "output_type": "execute_result"
    }
   ],
   "source": [
    "total = train.isnull().sum().sort_values(ascending=False)\n",
    "percent = (train.isnull().sum()/train.isnull().count()*100).sort_values(ascending=False)\n",
    "missing__train_data = pd.concat([total, percent], axis=1, keys=['Total', 'Percent'])\n",
    "missing__train_data"
   ]
  },
  {
   "cell_type": "markdown",
   "metadata": {},
   "source": [
    "## Checking missing values for weather_train_df"
   ]
  },
  {
   "cell_type": "code",
   "execution_count": 13,
   "metadata": {},
   "outputs": [
    {
     "data": {
      "text/html": [
       "<div>\n",
       "<style scoped>\n",
       "    .dataframe tbody tr th:only-of-type {\n",
       "        vertical-align: middle;\n",
       "    }\n",
       "\n",
       "    .dataframe tbody tr th {\n",
       "        vertical-align: top;\n",
       "    }\n",
       "\n",
       "    .dataframe thead th {\n",
       "        text-align: right;\n",
       "    }\n",
       "</style>\n",
       "<table border=\"1\" class=\"dataframe\">\n",
       "  <thead>\n",
       "    <tr style=\"text-align: right;\">\n",
       "      <th></th>\n",
       "      <th>Total</th>\n",
       "      <th>Percent</th>\n",
       "    </tr>\n",
       "  </thead>\n",
       "  <tbody>\n",
       "    <tr>\n",
       "      <th>cloud_coverage</th>\n",
       "      <td>69173</td>\n",
       "      <td>49.490</td>\n",
       "    </tr>\n",
       "    <tr>\n",
       "      <th>precip_depth_1_hr</th>\n",
       "      <td>50289</td>\n",
       "      <td>35.979</td>\n",
       "    </tr>\n",
       "    <tr>\n",
       "      <th>sea_level_pressure</th>\n",
       "      <td>10618</td>\n",
       "      <td>7.597</td>\n",
       "    </tr>\n",
       "    <tr>\n",
       "      <th>wind_direction</th>\n",
       "      <td>6268</td>\n",
       "      <td>4.484</td>\n",
       "    </tr>\n",
       "    <tr>\n",
       "      <th>wind_speed</th>\n",
       "      <td>304</td>\n",
       "      <td>0.217</td>\n",
       "    </tr>\n",
       "    <tr>\n",
       "      <th>dew_temperature</th>\n",
       "      <td>113</td>\n",
       "      <td>0.081</td>\n",
       "    </tr>\n",
       "    <tr>\n",
       "      <th>air_temperature</th>\n",
       "      <td>55</td>\n",
       "      <td>0.039</td>\n",
       "    </tr>\n",
       "    <tr>\n",
       "      <th>timestamp</th>\n",
       "      <td>0</td>\n",
       "      <td>0.000</td>\n",
       "    </tr>\n",
       "    <tr>\n",
       "      <th>site_id</th>\n",
       "      <td>0</td>\n",
       "      <td>0.000</td>\n",
       "    </tr>\n",
       "  </tbody>\n",
       "</table>\n",
       "</div>"
      ],
      "text/plain": [
       "                    Total  Percent\n",
       "cloud_coverage      69173   49.490\n",
       "precip_depth_1_hr   50289   35.979\n",
       "sea_level_pressure  10618    7.597\n",
       "wind_direction       6268    4.484\n",
       "wind_speed            304    0.217\n",
       "dew_temperature       113    0.081\n",
       "air_temperature        55    0.039\n",
       "timestamp               0    0.000\n",
       "site_id                 0    0.000"
      ]
     },
     "execution_count": 13,
     "metadata": {},
     "output_type": "execute_result"
    }
   ],
   "source": [
    "total = weather_train_df.isnull().sum().sort_values(ascending=False)\n",
    "percent = (weather_train_df.isnull().sum()/weather_train_df.isnull().count()*100).sort_values(ascending=False)\n",
    "missing__weather_data = pd.concat([total, percent], axis=1, keys=['Total', 'Percent'])\n",
    "missing__weather_data"
   ]
  },
  {
   "cell_type": "markdown",
   "metadata": {},
   "source": [
    "## Checking missing values for Metadata_train_df"
   ]
  },
  {
   "cell_type": "code",
   "execution_count": 14,
   "metadata": {},
   "outputs": [
    {
     "data": {
      "text/html": [
       "<div>\n",
       "<style scoped>\n",
       "    .dataframe tbody tr th:only-of-type {\n",
       "        vertical-align: middle;\n",
       "    }\n",
       "\n",
       "    .dataframe tbody tr th {\n",
       "        vertical-align: top;\n",
       "    }\n",
       "\n",
       "    .dataframe thead th {\n",
       "        text-align: right;\n",
       "    }\n",
       "</style>\n",
       "<table border=\"1\" class=\"dataframe\">\n",
       "  <thead>\n",
       "    <tr style=\"text-align: right;\">\n",
       "      <th></th>\n",
       "      <th>Total</th>\n",
       "      <th>Percent</th>\n",
       "    </tr>\n",
       "  </thead>\n",
       "  <tbody>\n",
       "    <tr>\n",
       "      <th>floor_count</th>\n",
       "      <td>1094</td>\n",
       "      <td>75.500</td>\n",
       "    </tr>\n",
       "    <tr>\n",
       "      <th>year_built</th>\n",
       "      <td>774</td>\n",
       "      <td>53.416</td>\n",
       "    </tr>\n",
       "    <tr>\n",
       "      <th>square_feet</th>\n",
       "      <td>0</td>\n",
       "      <td>0.000</td>\n",
       "    </tr>\n",
       "    <tr>\n",
       "      <th>primary_use</th>\n",
       "      <td>0</td>\n",
       "      <td>0.000</td>\n",
       "    </tr>\n",
       "    <tr>\n",
       "      <th>building_id</th>\n",
       "      <td>0</td>\n",
       "      <td>0.000</td>\n",
       "    </tr>\n",
       "    <tr>\n",
       "      <th>site_id</th>\n",
       "      <td>0</td>\n",
       "      <td>0.000</td>\n",
       "    </tr>\n",
       "  </tbody>\n",
       "</table>\n",
       "</div>"
      ],
      "text/plain": [
       "             Total  Percent\n",
       "floor_count   1094   75.500\n",
       "year_built     774   53.416\n",
       "square_feet      0    0.000\n",
       "primary_use      0    0.000\n",
       "building_id      0    0.000\n",
       "site_id          0    0.000"
      ]
     },
     "execution_count": 14,
     "metadata": {},
     "output_type": "execute_result"
    }
   ],
   "source": [
    "total = metadata_train_df.isnull().sum().sort_values(ascending=False)\n",
    "percent = (metadata_train_df.isnull().sum()/metadata_train_df.isnull().count()*100).sort_values(ascending=False)\n",
    "missing__metadata_data = pd.concat([total, percent], axis=1, keys=['Total', 'Percent'])\n",
    "missing__metadata_data"
   ]
  },
  {
   "cell_type": "markdown",
   "metadata": {},
   "source": [
    "# Ploting Training set"
   ]
  },
  {
   "cell_type": "code",
   "execution_count": 28,
   "metadata": {},
   "outputs": [
    {
     "data": {
      "image/png": "[encoded data removed]",
      "text/plain": [
       "<Figure size 576x360 with 1 Axes>"
      ]
     },
     "metadata": {},
     "output_type": "display_data"
    }
   ],
   "source": [
    "import visualization_1 as vis\n",
    "vis.plot_dist_col(weather_train_df)"
   ]
  },
  {
   "cell_type": "code",
   "execution_count": null,
   "metadata": {},
   "outputs": [],
   "source": [
    "np.unique(metadata_train_df[metadata_train_df['primary_use']=='Education']['site_id'], return_counts=True)"
   ]
  },
  {
   "cell_type": "code",
   "execution_count": null,
   "metadata": {},
   "outputs": [],
   "source": [
    "metadata_train_df.groupby(by='Eduction')\n",
    "#     metadata_train_df.primary_use.value_counts()"
   ]
  },
  {
   "cell_type": "markdown",
   "metadata": {},
   "source": [
    "## Weather data"
   ]
  },
  {
   "cell_type": "code",
   "execution_count": null,
   "metadata": {},
   "outputs": [],
   "source": [
    "print(weather_train_df.shape)\n",
    "weather_train_df.head(3)"
   ]
  },
  {
   "cell_type": "markdown",
   "metadata": {},
   "source": [
    "# Checking missing values "
   ]
  },
  {
   "cell_type": "code",
   "execution_count": null,
   "metadata": {},
   "outputs": [],
   "source": [
    "# train_df.isna().sum()/len(train_df)"
   ]
  },
  {
   "cell_type": "code",
   "execution_count": null,
   "metadata": {},
   "outputs": [],
   "source": [
    "# metadata_train_df.isna().sum()#/len(building_meta_df)"
   ]
  },
  {
   "cell_type": "code",
   "execution_count": null,
   "metadata": {},
   "outputs": [],
   "source": [
    "# weather_train_df.isna().sum()#/len(weather_train_df)"
   ]
  },
  {
   "cell_type": "code",
   "execution_count": null,
   "metadata": {},
   "outputs": [],
   "source": [
    "weather_train_df.loc[0::8784]"
   ]
  },
  {
   "cell_type": "code",
   "execution_count": null,
   "metadata": {},
   "outputs": [],
   "source": [
    "unique_site_id = np.unique(weather_train_df['site_id'])\n",
    "\n",
    "print(unique_site_id)\n",
    "# site_list = [weather_train_df[x] for x in unique_site_id if weather_train_df['site_id']==x]\n",
    "# site_list\n",
    "df_list = []\n",
    "for i in unique_site_id:\n",
    "    df_list.append(weather_train_df[weather_train_df['site_id']==i])"
   ]
  },
  {
   "cell_type": "code",
   "execution_count": null,
   "metadata": {},
   "outputs": [],
   "source": [
    "df_0= df_list[0]\n",
    "len(df_list)\n",
    "type(df_list)\n",
    "df_0.head()"
   ]
  },
  {
   "cell_type": "code",
   "execution_count": null,
   "metadata": {},
   "outputs": [],
   "source": [
    "def interpolated(df):\n",
    "    df_on = df.set_index('timestamp')\n",
    "#     print(df.head())\n",
    "    df_on = df_on.interpolate(method='time')\n",
    "    df_on = df_on.reset_index()\n",
    "    \n",
    "    return df_on"
   ]
  },
  {
   "cell_type": "code",
   "execution_count": null,
   "metadata": {},
   "outputs": [],
   "source": []
  },
  {
   "cell_type": "code",
   "execution_count": null,
   "metadata": {},
   "outputs": [],
   "source": [
    "df_0_int = interpolated(df_0)"
   ]
  },
  {
   "cell_type": "code",
   "execution_count": null,
   "metadata": {},
   "outputs": [],
   "source": [
    "df_list[0]"
   ]
  },
  {
   "cell_type": "code",
   "execution_count": null,
   "metadata": {},
   "outputs": [],
   "source": [
    "weather_train_df[weather_train_df['site_id']==0].info()"
   ]
  },
  {
   "cell_type": "code",
   "execution_count": null,
   "metadata": {},
   "outputs": [],
   "source": [
    "sample_df = weather_train_df[weather_train_df['site_id']==0]\n",
    "sample_df.head()\n",
    "site_list = \n",
    "for df in "
   ]
  },
  {
   "cell_type": "code",
   "execution_count": null,
   "metadata": {},
   "outputs": [],
   "source": [
    "sample_df.set_index('timestamp', inplace=True)"
   ]
  },
  {
   "cell_type": "code",
   "execution_count": null,
   "metadata": {},
   "outputs": [],
   "source": [
    "sample_df.interpolate(method='time').isna().sum()"
   ]
  },
  {
   "cell_type": "code",
   "execution_count": null,
   "metadata": {},
   "outputs": [],
   "source": [
    "# checking the 'nan' columns \n",
    "nan_cols = [i for i in sample_df.columns if sample_df[i].isnull().any()]\n",
    "sample_df.fillna(-200, inplace=True)\n",
    "nan_cols"
   ]
  },
  {
   "cell_type": "code",
   "execution_count": null,
   "metadata": {},
   "outputs": [],
   "source": [
    "sample_df.head()"
   ]
  },
  {
   "cell_type": "code",
   "execution_count": null,
   "metadata": {
    "scrolled": true
   },
   "outputs": [],
   "source": [
    "# print(nan_cols)\n",
    "for j in nan_cols:\n",
    "    for i in range(0, len(sample_df)):\n",
    "#         sample_df[j].fillna(sample_df[i-1])#, inplace=True)\n",
    "        if sample_df[j][i] == -200:\n",
    "            print(\"yes\")\n",
    "            sample_df[j][i] = sample_df[j][i-1]"
   ]
  },
  {
   "cell_type": "code",
   "execution_count": null,
   "metadata": {},
   "outputs": [],
   "source": [
    "sample_df.head()"
   ]
  },
  {
   "cell_type": "code",
   "execution_count": null,
   "metadata": {},
   "outputs": [],
   "source": [
    "# missing value treatment \n",
    "# cols = sample_df.columns\n",
    "# cols[['air_temperature', 'cloud_coverage', 'dew_temperature']]\n",
    "# col_lst = ['air_temperature', 'cloud_coverage', 'dew_temperature']\n"
   ]
  },
  {
   "cell_type": "code",
   "execution_count": null,
   "metadata": {},
   "outputs": [],
   "source": [
    "sample_df.head()"
   ]
  },
  {
   "cell_type": "code",
   "execution_count": null,
   "metadata": {},
   "outputs": [],
   "source": [
    "cols = sample_df.columns\n",
    "for i in cols:\n",
    "    \n",
    "    sample_df['i'].fillna(sample_df.groupby(by=[sample_df.timestamp.dt.day, sample_df.timestamp.dt.month])['i'].mean()\n",
    "                          #     metadata['year_built'].fillna(-999, inplace=True)\n",
    "# sample_df.groupby(by=[sample_df.timestamp.dt.day, sample_df.timestamp.dt.month]).mean()\n",
    "\n",
    "# .agg(['max', 'mean', 'median', 'count', 'std'])\n",
    "#  df['day_of_month'] = df['timestamp'].dt.day.astype(\"uint8\")"
   ]
  },
  {
   "cell_type": "code",
   "execution_count": null,
   "metadata": {},
   "outputs": [],
   "source": [
    "sample_df.groupby(by=[sample_df.timestamp.dt.day, sample_df.timestamp.dt.month])['air_temperature'].mean()"
   ]
  },
  {
   "cell_type": "code",
   "execution_count": null,
   "metadata": {},
   "outputs": [],
   "source": [
    "sample_df.head()"
   ]
  },
  {
   "cell_type": "markdown",
   "metadata": {},
   "source": [
    "# Replacing meter's"
   ]
  },
  {
   "cell_type": "code",
   "execution_count": null,
   "metadata": {},
   "outputs": [],
   "source": [
    "print(train_df['meter'].value_counts())"
   ]
  },
  {
   "cell_type": "code",
   "execution_count": null,
   "metadata": {},
   "outputs": [],
   "source": [
    "train_df['meter'].replace({0:\"Electricity\",1:\"ChilledWater\", 2:\"Steam\",3:\"HotWater\"}, inplace=True)\n",
    "train_df['meter'].value_counts()"
   ]
  },
  {
   "cell_type": "code",
   "execution_count": null,
   "metadata": {},
   "outputs": [],
   "source": [
    "import seaborn as sns \n",
    "sns.set(style='darkgrid')\n",
    "# sns.set_style(\"darkgrid\", {\"axes.facecolor\": \".9\"})\n",
    "# sns.set_context('talk')\n",
    "sns.countplot(train_df['meter'], order=train_df['meter'].value_counts().index)\n",
    "plt.title('Distribution of Meter Id Code')\n",
    "plt.xlabel('Meter Id Code')\n",
    "plt.ylabel('Frequency');"
   ]
  },
  {
   "cell_type": "code",
   "execution_count": null,
   "metadata": {},
   "outputs": [],
   "source": [
    "print (\"There are {} unique Buildings in the training data\".format(train_df['building_id'].nunique()))"
   ]
  },
  {
   "cell_type": "markdown",
   "metadata": {},
   "source": [
    "Like it is mentioned in the competition description, each building may or may not have all 4 meter"
   ]
  },
  {
   "cell_type": "code",
   "execution_count": null,
   "metadata": {},
   "outputs": [],
   "source": [
    "train_df.groupby('meter')['meter_reading'].agg(['min','max','mean','median', 'count', 'std'])"
   ]
  },
  {
   "cell_type": "markdown",
   "metadata": {},
   "source": [
    "## Building Metadata:"
   ]
  },
  {
   "cell_type": "code",
   "execution_count": null,
   "metadata": {},
   "outputs": [],
   "source": [
    "# metadata\n",
    "sns.countplot(building_meta_df['primary_use'], order=building_meta_df['primary_use'].value_counts().index)\n",
    "plt.title('Distribution of Primary use of Buildings')\n",
    "plt.xlabel('Building types')\n",
    "plt.ylabel('Frequency');"
   ]
  },
  {
   "cell_type": "code",
   "execution_count": null,
   "metadata": {},
   "outputs": [],
   "source": [
    "# Building floor count\n",
    "sns.countplot(building_meta_df['floor_count'], order=building_meta_df['floor_count'].value_counts().index)\n",
    "plt.title('Floor counts')\n",
    "plt.xlabel('Floors')\n",
    "plt.ylabel('Frequency');"
   ]
  },
  {
   "cell_type": "code",
   "execution_count": null,
   "metadata": {},
   "outputs": [],
   "source": [
    "# year built \n",
    "sns.countplot(building_meta_df['year_built'], order=building_meta_df['year_built'].value_counts().index)\n",
    "plt.title('Year built')\n",
    "plt.xlabel('Years')\n",
    "plt.ylabel('Frequency');"
   ]
  },
  {
   "cell_type": "code",
   "execution_count": null,
   "metadata": {},
   "outputs": [],
   "source": [
    "# fig = px.scatter(metadata, y=\"square_feet\", x=\"year_built\", color=\"primary_use\", size=\"square_feet\")\n",
    "# fig.update_layout(showlegend=True)\n",
    "# fig.show()"
   ]
  },
  {
   "cell_type": "code",
   "execution_count": null,
   "metadata": {},
   "outputs": [],
   "source": [
    "for df in [train_df]:\n",
    "    df['month'] = df['timestamp'].dt.month.astype(\"uint8\")\n",
    "    df['day_of_month'] = df['timestamp'].dt.day.astype(\"uint8\")\n",
    "    df['day_of_week'] = df['timestamp'].dt.dayofweek.astype(\"uint8\")\n",
    "    df['hour'] = df['timestamp'].dt.hour.astype(\"uint8\")"
   ]
  },
  {
   "cell_type": "code",
   "execution_count": null,
   "metadata": {},
   "outputs": [],
   "source": [
    "def split_timestamp(df):\n",
    "    df['month'] = df['timestamp'].dt.month.astype('uint8')\n",
    "    df['day_of_month'] = df['timestamp'].dt.day.astype('uint8')\n",
    "    df['day_of_week'] = df['timestamp'].dt.dayofweek.astype('uint8')\n",
    "    df['hour'] = df['timestamp'].dt.hour.astype('uint8')\n",
    "    \n",
    "    return df"
   ]
  },
  {
   "cell_type": "markdown",
   "metadata": {},
   "source": [
    "### Grouping by meter and month"
   ]
  },
  {
   "cell_type": "code",
   "execution_count": null,
   "metadata": {},
   "outputs": [],
   "source": [
    "train_df = split_timestamp(train_df)\n",
    "pd.set_option('display.float_format', lambda x: '%.3f' % x)\n",
    "train_df.groupby(['meter', 'month'])['meter_reading'].agg(['max', 'mean', 'median', 'count', 'std'])"
   ]
  },
  {
   "cell_type": "code",
   "execution_count": null,
   "metadata": {},
   "outputs": [],
   "source": [
    "train.drop(columns=['Month', 'DayOfMonth', 'DayOfWeek', 'Hour'], inplace=True)\n",
    "train.head(1)"
   ]
  },
  {
   "cell_type": "code",
   "execution_count": null,
   "metadata": {},
   "outputs": [],
   "source": [
    "train_df.groupby(['meter', 'day_of_week'])['meter_reading'].agg(['max', 'mean', 'median', 'count', 'std'])"
   ]
  },
  {
   "cell_type": "code",
   "execution_count": null,
   "metadata": {},
   "outputs": [],
   "source": [
    "sns.distplot(np.log1p(train_df['meter_reading']), kde=False)\n",
    "plt.title('Distribution of log of meter reading variable')"
   ]
  },
  {
   "cell_type": "code",
   "execution_count": null,
   "metadata": {},
   "outputs": [],
   "source": [
    "sns.boxplot(train_df[train_df['meter'] == \"Electricity\"]['meter_reading']);\n",
    "plt.title(\"Boxplot of Meter Reading Variable for the Meter Type: Electricity\");\n",
    "# We can see a few outliers here. "
   ]
  },
  {
   "cell_type": "code",
   "execution_count": null,
   "metadata": {},
   "outputs": [],
   "source": [
    "sns.boxplot(train_df[train_df['meter'] == \"ChilledWater\"]['meter_reading']);\n",
    "plt.title(\"Boxplot of Meter Reading Variable for the Meter Type: ChilledWater\");\n",
    "# Not many outliers here."
   ]
  },
  {
   "cell_type": "code",
   "execution_count": null,
   "metadata": {},
   "outputs": [],
   "source": [
    "sns.boxplot(train_df[train_df['meter'] == \"HotWater\"]['meter_reading']);\n",
    "plt.title(\"Boxplot of Meter Reading Variable for the Meter Type: HotWater\");\n",
    "# We can see a single value that is way off from the rest. "
   ]
  },
  {
   "cell_type": "code",
   "execution_count": null,
   "metadata": {},
   "outputs": [],
   "source": [
    "sns.boxplot(train_df[train_df['meter'] == \"Steam\"]['meter_reading']);\n",
    "plt.title(\"Boxplot of Meter Reading Variable for the Meter Type: Steam\");\n",
    "# We can see a few outliers here. "
   ]
  },
  {
   "cell_type": "markdown",
   "metadata": {},
   "source": [
    "### Converting the dependent variable to logarithmic scale"
   ]
  },
  {
   "cell_type": "code",
   "execution_count": null,
   "metadata": {},
   "outputs": [],
   "source": [
    "train_df.head()"
   ]
  },
  {
   "cell_type": "code",
   "execution_count": null,
   "metadata": {},
   "outputs": [],
   "source": [
    "train_df['meter_reading'] = np.log1p(train_df['meter_reading'])\n",
    "train_df.head()"
   ]
  },
  {
   "cell_type": "code",
   "execution_count": null,
   "metadata": {},
   "outputs": [],
   "source": [
    "sns.distplot(train_df[train_df['meter'] == \"Electricity\"]['meter_reading'],kde=False)\n",
    "plt.title(\"Distribution of Meter Reading per MeterID code: Electricity\")"
   ]
  },
  {
   "cell_type": "code",
   "execution_count": null,
   "metadata": {},
   "outputs": [],
   "source": [
    "sns.distplot(train_df[train_df['meter'] == \"ChilledWater\"]['meter_reading'],kde=False)\n",
    "plt.title(\"Distribution of Meter Reading per MeterID code: Chilledwater\")"
   ]
  },
  {
   "cell_type": "code",
   "execution_count": null,
   "metadata": {},
   "outputs": [],
   "source": [
    "sns.distplot(train_df[train_df['meter'] == \"Steam\"]['meter_reading'],kde=False)\n",
    "plt.title(\"Distribution of Meter Reading per MeterID code: Steam\")"
   ]
  },
  {
   "cell_type": "code",
   "execution_count": null,
   "metadata": {},
   "outputs": [],
   "source": [
    "sns.distplot(train_df[train_df['meter'] == \"HotWater\"]['meter_reading'],kde=False)\n",
    "plt.title(\"Distribution of Meter Reading per MeterID code: Hotwater\")"
   ]
  },
  {
   "cell_type": "code",
   "execution_count": null,
   "metadata": {},
   "outputs": [],
   "source": [
    "train_df.head(3)"
   ]
  },
  {
   "cell_type": "markdown",
   "metadata": {},
   "source": [
    "## Metadata "
   ]
  },
  {
   "cell_type": "code",
   "execution_count": null,
   "metadata": {},
   "outputs": [],
   "source": [
    "building_meta_df.info()\n",
    "# Missing values in year_built and floor_count variables"
   ]
  },
  {
   "cell_type": "code",
   "execution_count": null,
   "metadata": {},
   "outputs": [],
   "source": [
    "building_meta_df.head(3)"
   ]
  },
  {
   "cell_type": "code",
   "execution_count": null,
   "metadata": {},
   "outputs": [],
   "source": [
    "cols = ['site_id','primary_use','year_built','floor_count','building_id']\n",
    "for col in cols:\n",
    "    print (\"Number of Unique Values in the {} column are:\".format(col),building_meta_df[col].nunique())"
   ]
  },
  {
   "cell_type": "code",
   "execution_count": null,
   "metadata": {},
   "outputs": [],
   "source": [
    "cols = ['site_id','primary_use','floor_count']\n",
    "for col in cols:\n",
    "    print (\"Unique Values in the {} column are:\".format(col),building_meta_df[col].unique())\n",
    "    print (\"\\n\")"
   ]
  },
  {
   "cell_type": "code",
   "execution_count": null,
   "metadata": {},
   "outputs": [],
   "source": [
    "sns.countplot(building_meta_df['site_id'])\n",
    "plt.title(\"Count of Site_id in the Metadata table\")\n",
    "plt.xlabel(\"Site_Id\")\n",
    "plt.ylabel(\"Count\")"
   ]
  },
  {
   "cell_type": "code",
   "execution_count": null,
   "metadata": {},
   "outputs": [],
   "source": [
    "plt.figure(figsize=(8,6))\n",
    "building_meta_df['primary_use'].value_counts().sort_values().plot(kind='bar')\n",
    "plt.title(\"Count of Primary_Use Variable in the Metadata table\")\n",
    "plt.xlabel(\"Primary Use\")\n",
    "plt.ylabel(\"Count\")\n",
    "plt.xticks(rotation=90);\n",
    "# Education, Office, Entertainment/Public Assembly, Public Services, Lodging/Residential form the bulk of Primary Use"
   ]
  },
  {
   "cell_type": "code",
   "execution_count": null,
   "metadata": {},
   "outputs": [],
   "source": [
    "building_meta_df['square_feet'].describe()"
   ]
  },
  {
   "cell_type": "code",
   "execution_count": null,
   "metadata": {},
   "outputs": [],
   "source": [
    "sns.boxplot(building_meta_df['square_feet']);"
   ]
  },
  {
   "cell_type": "code",
   "execution_count": null,
   "metadata": {},
   "outputs": [],
   "source": [
    "building_meta_df['square_feet'] = np.log1p(building_meta_df['square_feet'])"
   ]
  },
  {
   "cell_type": "code",
   "execution_count": null,
   "metadata": {},
   "outputs": [],
   "source": [
    "sns.distplot(building_meta_df['square_feet'])\n",
    "plt.title(\"Distribution of Square Feet variable of Metadata Table\")\n",
    "plt.xlabel(\"Area in Square Feet\")\n",
    "plt.ylabel(\"Frequency\");\n",
    "# Looks like a normal distribution distribution"
   ]
  },
  {
   "cell_type": "code",
   "execution_count": null,
   "metadata": {},
   "outputs": [],
   "source": [
    "sns.boxplot(building_meta_df['square_feet'])\n",
    "plt.title(\"Box Plot of Square Feet Variable\");\n",
    "# There are a few outliers visible"
   ]
  },
  {
   "cell_type": "code",
   "execution_count": null,
   "metadata": {},
   "outputs": [],
   "source": [
    "building_meta_df.groupby('primary_use')['square_feet'].agg(['mean','median','count']).sort_values(by='count')\n",
    "# Parking has the highest average are although the count is less.\n",
    "# Education has the highest count as can be seen in the countplot above."
   ]
  },
  {
   "cell_type": "code",
   "execution_count": null,
   "metadata": {},
   "outputs": [],
   "source": [
    "building_meta_df['year_built'].value_counts().sort_values().plot(kind='bar',figsize=(15,6))\n",
    "plt.xlabel(\"Year Built\")\n",
    "plt.ylabel(\"Count\")\n",
    "plt.title(\"Distribution of Year Built Variable\");"
   ]
  },
  {
   "cell_type": "code",
   "execution_count": null,
   "metadata": {},
   "outputs": [],
   "source": [
    "building_meta_df['floor_count'].value_counts(dropna=False).sort_index().plot(kind='bar',figsize=(8,6))\n",
    "plt.xlabel(\"Number of Floors\")\n",
    "plt.ylabel(\"Count of Buildings\");\n",
    "# Lot of missing values here as well\n",
    "# Maximum number of floors is 26"
   ]
  },
  {
   "cell_type": "code",
   "execution_count": null,
   "metadata": {},
   "outputs": [],
   "source": [
    "building_meta_df.groupby('floor_count')['square_feet'].agg(['count','mean','median']).sort_values(by='count')"
   ]
  },
  {
   "cell_type": "code",
   "execution_count": null,
   "metadata": {},
   "outputs": [],
   "source": [
    "building_meta_df.groupby('primary_use')['square_feet'].agg(['count','mean','median']).sort_values(by='count')"
   ]
  },
  {
   "cell_type": "code",
   "execution_count": null,
   "metadata": {},
   "outputs": [],
   "source": [
    "metadata['year_built'].fillna(-999, inplace=True)\n",
    "metadata['year_built'] = metadata['year_built'].astype('int16')\n",
    "metadata['floor_count'].fillna(-999, inplace=True)\n",
    "metadata['floor_count'] = metadata['floor_count'].astype('float32')"
   ]
  },
  {
   "cell_type": "code",
   "execution_count": null,
   "metadata": {},
   "outputs": [],
   "source": [
    "metadata.head(3)"
   ]
  },
  {
   "cell_type": "markdown",
   "metadata": {},
   "source": [
    "## Weather Data (Train)"
   ]
  },
  {
   "cell_type": "code",
   "execution_count": null,
   "metadata": {},
   "outputs": [],
   "source": [
    "weather_train_df.head(3)"
   ]
  },
  {
   "cell_type": "code",
   "execution_count": null,
   "metadata": {},
   "outputs": [],
   "source": [
    "cols = ['air_temperature','cloud_coverage','dew_temperature','precip_depth_1_hr','sea_level_pressure','wind_direction','wind_speed']\n",
    "for col in cols:\n",
    "    print (\" Minimum Value of {} column is {}\".format(col,weather_train[col].min()))\n",
    "    print (\" Maximum Value of {} column is {}\".format(col,weather_train[col].max()))\n",
    "    print (\"----------------------------------------------------------------------\")"
   ]
  },
  {
   "cell_type": "code",
   "execution_count": null,
   "metadata": {},
   "outputs": [],
   "source": [
    "weather_train_df.isna().sum()/len(weather_train_df)"
   ]
  },
  {
   "cell_type": "code",
   "execution_count": null,
   "metadata": {},
   "outputs": [],
   "source": [
    "weather_train_df[['air_temperature','cloud_coverage','dew_temperature','precip_depth_1_hr','sea_level_pressure','wind_speed']].describe()"
   ]
  },
  {
   "cell_type": "code",
   "execution_count": null,
   "metadata": {},
   "outputs": [],
   "source": [
    "print(weather_train['timestamp'].min())\n",
    "print(weather_train['timestamp'].max())\n",
    "print(len( weather_train['timestamp']))\n",
    "# This data is from 1st Jan to 31st Dec 2016, similar to the timestamp of the training data"
   ]
  },
  {
   "cell_type": "code",
   "execution_count": null,
   "metadata": {},
   "outputs": [],
   "source": [
    "cols = ['air_temperature','cloud_coverage','dew_temperature','precip_depth_1_hr','sea_level_pressure','wind_speed']\n",
    "for ind,col in enumerate(weather_train[cols]):\n",
    "    plt.figure(ind)\n",
    "    sns.distplot(weather_train[col].dropna())"
   ]
  },
  {
   "cell_type": "code",
   "execution_count": null,
   "metadata": {},
   "outputs": [],
   "source": [
    "cols = ['air_temperature','cloud_coverage','dew_temperature','precip_depth_1_hr','sea_level_pressure','wind_speed']\n",
    "for ind,col in enumerate(weather_train[cols]):\n",
    "    plt.figure(ind)\n",
    "    sns.boxplot(weather_train[col].dropna())"
   ]
  },
  {
   "cell_type": "markdown",
   "metadata": {},
   "source": [
    "# Merging Data"
   ]
  },
  {
   "cell_type": "code",
   "execution_count": null,
   "metadata": {},
   "outputs": [],
   "source": [
    "train.head(3)"
   ]
  },
  {
   "cell_type": "code",
   "execution_count": null,
   "metadata": {},
   "outputs": [],
   "source": [
    "metadata.head(3)"
   ]
  },
  {
   "cell_type": "code",
   "execution_count": null,
   "metadata": {},
   "outputs": [],
   "source": [
    "weather_train.dtypes"
   ]
  },
  {
   "cell_type": "code",
   "execution_count": null,
   "metadata": {},
   "outputs": [],
   "source": [
    "train.columns\n",
    "train_df.columns"
   ]
  },
  {
   "cell_type": "code",
   "execution_count": null,
   "metadata": {},
   "outputs": [],
   "source": [
    "import gc\n",
    "from time import time \n",
    "# %%time\n",
    "train_data = pd.merge(train_df,building_meta_df,on='building_id',how='left')\n",
    "# test  = pd.merge(test,metadata,on='building_id',how='left')\n",
    "print (\"Training Data Shape {}\".format(train_data.shape))\n",
    "# print (\"Testing Data Shape {}\".format(test.shape))\n",
    "gc.collect()"
   ]
  },
  {
   "cell_type": "code",
   "execution_count": null,
   "metadata": {},
   "outputs": [],
   "source": [
    "\n",
    "train_data.dtypes"
   ]
  },
  {
   "cell_type": "code",
   "execution_count": null,
   "metadata": {},
   "outputs": [],
   "source": [
    "# %%time\n",
    "train = pd.merge(train_data,weather_train,on=['site_id','timestamp'],how='left')\n",
    "# test  = pd.merge(test,weather_test,on=['site_id','timestamp'],how='left')\n",
    "print (\"Training Data Shape {}\".format(train.shape))\n",
    "# print (\"Testing Data Shape {}\".format(test.shape))\n",
    "# gc.collect()"
   ]
  },
  {
   "cell_type": "code",
   "execution_count": null,
   "metadata": {},
   "outputs": [],
   "source": [
    "train.head(3)"
   ]
  },
  {
   "cell_type": "code",
   "execution_count": null,
   "metadata": {},
   "outputs": [],
   "source": [
    "\n",
    "cols = ['air_temperature','cloud_coverage','dew_temperature','precip_depth_1_hr','sea_level_pressure','wind_direction','wind_speed']\n",
    "for col in cols:\n",
    "    train[col].fillna(train[col].mean(),inplace=True)\n",
    "#     test[col].fillna(test[col].mean(),inplace=True)\n",
    "    \n",
    "del metadata, weather_train#, weather_test"
   ]
  },
  {
   "cell_type": "code",
   "execution_count": null,
   "metadata": {},
   "outputs": [],
   "source": [
    "train.columns"
   ]
  },
  {
   "cell_type": "code",
   "execution_count": null,
   "metadata": {},
   "outputs": [],
   "source": [
    "# %%time\n",
    "for df in [train]:#, test]:\n",
    "    df['weekend'] = np.where((df['day_of_week'] == 5) | (df['day_of_week'] == 6), 1, 0)\n",
    "    df['air_temperature'] = df['air_temperature'].astype('float16')\n",
    "    df['cloud_coverage'] = df['cloud_coverage'].astype(\"float16\")\n",
    "    df['dew_temperature'] = df['dew_temperature'].astype('float16')\n",
    "    df['precip_depth_1_hr'] = df['precip_depth_1_hr'].astype('float32')\n",
    "    df['sea_level_pressure'] = df['sea_level_pressure'].astype('float32')\n",
    "    df['wind_direction'] = df['wind_direction'].astype('float32')\n",
    "    df['wind_speed'] = df['wind_speed'].astype('float16')\n",
    "    df['square_feet'] = df['square_feet'].astype(\"float32\")\n",
    "    df['building_id'] = df['building_id'].astype(\"int16\")"
   ]
  },
  {
   "cell_type": "code",
   "execution_count": null,
   "metadata": {},
   "outputs": [],
   "source": []
  }
 ],
 "metadata": {
  "kernelspec": {
   "display_name": "Python 3",
   "language": "python",
   "name": "python3"
  },
  "language_info": {
   "codemirror_mode": {
    "name": "ipython",
    "version": 3
   },
   "file_extension": ".py",
   "mimetype": "text/x-python",
   "name": "python",
   "nbconvert_exporter": "python",
   "pygments_lexer": "ipython3",
   "version": "3.7.3"
  },
  "toc": {
   "base_numbering": 1,
   "nav_menu": {},
   "number_sections": true,
   "sideBar": true,
   "skip_h1_title": false,
   "title_cell": "Table of Contents",
   "title_sidebar": "Contents",
   "toc_cell": false,
   "toc_position": {},
   "toc_section_display": true,
   "toc_window_display": false
  }
 },
 "nbformat": 4,
 "nbformat_minor": 2
}
